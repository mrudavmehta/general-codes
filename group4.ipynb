{
 "cells": [
  {
   "cell_type": "markdown",
   "id": "bed708ed",
   "metadata": {},
   "source": [
    "# CREDIT CARD DEFAULT"
   ]
  },
  {
   "cell_type": "markdown",
   "id": "69479f71",
   "metadata": {},
   "source": [
    "Group Members - Khushi Ostwal, Krisha Desai, Mrudav Mehta, Rohan Nair"
   ]
  },
  {
   "cell_type": "markdown",
   "id": "600a7c1e",
   "metadata": {},
   "source": [
    "<b>Problem Statement - Predicting the possibility of a customer defaulting their credit card bill<b>"
   ]
  },
  {
   "cell_type": "markdown",
   "id": "be959dc7",
   "metadata": {},
   "source": [
    "<b>Problem Description</b> - The goal of this research is to foresee consumer payment defaults in Taiwan. In terms of risk management, the predictive accuracy of the predicted default likelihood will yield more valuable results than the classification of clients as either credible or not credible, which yields a binary outcome.<br><br>\n",
    "<b>Objective</b> - Predicting which consumer would default in the following months is the goal of our project.<br><br>\n",
    "<i>All of us are familiar with credit cards. Charges are charged against a line of credit rather than the account holder's cash deposits when using this sort of payment card. When someone makes a purchase using a credit card, a debt is accumulated on their account that has to be paid off each month.<br>\n",
    "\n",
    "When you have fallen far behind on your credit card payments, you enter credit card default.<br>\n",
    "\n",
    "One or two missed credit card payments do not constitute a default. When you repeatedly fail to pay the minimum amount due on your credit card, it becomes a payment default.<br></i>"
   ]
  },
  {
   "cell_type": "markdown",
   "id": "f1421a28",
   "metadata": {},
   "source": [
    "Source of data - https://archive.ics.uci.edu/ml/datasets/default+of+credit+card+clients"
   ]
  },
  {
   "cell_type": "markdown",
   "id": "0fe3bbad",
   "metadata": {},
   "source": [
    "<b>Importing Libraries</b>"
   ]
  },
  {
   "cell_type": "code",
   "execution_count": 2,
   "id": "4b8396f1",
   "metadata": {},
   "outputs": [],
   "source": [
    "import pandas as pd\n",
    "import numpy as np\n",
    "import matplotlib.pyplot as plt\n",
    "import seaborn as sns\n",
    "%matplotlib inline\n",
    "\n",
    "import warnings\n",
    "warnings.filterwarnings('ignore')\n",
    "\n",
    "from sklearn.preprocessing import StandardScaler\n",
    "from sklearn.model_selection import train_test_split\n",
    "from sklearn.linear_model import LogisticRegression\n",
    "from sklearn.model_selection import GridSearchCV\n",
    "\n",
    "from sklearn.metrics import accuracy_score, recall_score, precision_score, f1_score, roc_auc_score, confusion_matrix, roc_curve, auc\n",
    "\n",
    "from sklearn.svm import SVC"
   ]
  },
  {
   "cell_type": "markdown",
   "id": "8b95fc30",
   "metadata": {},
   "source": [
    "<b>Calling the data</b>"
   ]
  },
  {
   "cell_type": "code",
   "execution_count": 3,
   "id": "5b99760e",
   "metadata": {},
   "outputs": [
    {
     "data": {
      "text/html": [
       "<div>\n",
       "<style scoped>\n",
       "    .dataframe tbody tr th:only-of-type {\n",
       "        vertical-align: middle;\n",
       "    }\n",
       "\n",
       "    .dataframe tbody tr th {\n",
       "        vertical-align: top;\n",
       "    }\n",
       "\n",
       "    .dataframe thead th {\n",
       "        text-align: right;\n",
       "    }\n",
       "</style>\n",
       "<table border=\"1\" class=\"dataframe\">\n",
       "  <thead>\n",
       "    <tr style=\"text-align: right;\">\n",
       "      <th></th>\n",
       "      <th>ID</th>\n",
       "      <th>LIMIT_BAL</th>\n",
       "      <th>SEX</th>\n",
       "      <th>EDUCATION</th>\n",
       "      <th>MARRIAGE</th>\n",
       "      <th>AGE</th>\n",
       "      <th>PAY_0</th>\n",
       "      <th>PAY_2</th>\n",
       "      <th>PAY_3</th>\n",
       "      <th>PAY_4</th>\n",
       "      <th>...</th>\n",
       "      <th>BILL_AMT4</th>\n",
       "      <th>BILL_AMT5</th>\n",
       "      <th>BILL_AMT6</th>\n",
       "      <th>PAY_AMT1</th>\n",
       "      <th>PAY_AMT2</th>\n",
       "      <th>PAY_AMT3</th>\n",
       "      <th>PAY_AMT4</th>\n",
       "      <th>PAY_AMT5</th>\n",
       "      <th>PAY_AMT6</th>\n",
       "      <th>default payment next month</th>\n",
       "    </tr>\n",
       "  </thead>\n",
       "  <tbody>\n",
       "    <tr>\n",
       "      <th>0</th>\n",
       "      <td>1</td>\n",
       "      <td>20000</td>\n",
       "      <td>2</td>\n",
       "      <td>2</td>\n",
       "      <td>1</td>\n",
       "      <td>24</td>\n",
       "      <td>2</td>\n",
       "      <td>2</td>\n",
       "      <td>-1</td>\n",
       "      <td>-1</td>\n",
       "      <td>...</td>\n",
       "      <td>0</td>\n",
       "      <td>0</td>\n",
       "      <td>0</td>\n",
       "      <td>0</td>\n",
       "      <td>689</td>\n",
       "      <td>0</td>\n",
       "      <td>0</td>\n",
       "      <td>0</td>\n",
       "      <td>0</td>\n",
       "      <td>1</td>\n",
       "    </tr>\n",
       "    <tr>\n",
       "      <th>1</th>\n",
       "      <td>2</td>\n",
       "      <td>120000</td>\n",
       "      <td>2</td>\n",
       "      <td>2</td>\n",
       "      <td>2</td>\n",
       "      <td>26</td>\n",
       "      <td>-1</td>\n",
       "      <td>2</td>\n",
       "      <td>0</td>\n",
       "      <td>0</td>\n",
       "      <td>...</td>\n",
       "      <td>3272</td>\n",
       "      <td>3455</td>\n",
       "      <td>3261</td>\n",
       "      <td>0</td>\n",
       "      <td>1000</td>\n",
       "      <td>1000</td>\n",
       "      <td>1000</td>\n",
       "      <td>0</td>\n",
       "      <td>2000</td>\n",
       "      <td>1</td>\n",
       "    </tr>\n",
       "    <tr>\n",
       "      <th>2</th>\n",
       "      <td>3</td>\n",
       "      <td>90000</td>\n",
       "      <td>2</td>\n",
       "      <td>2</td>\n",
       "      <td>2</td>\n",
       "      <td>34</td>\n",
       "      <td>0</td>\n",
       "      <td>0</td>\n",
       "      <td>0</td>\n",
       "      <td>0</td>\n",
       "      <td>...</td>\n",
       "      <td>14331</td>\n",
       "      <td>14948</td>\n",
       "      <td>15549</td>\n",
       "      <td>1518</td>\n",
       "      <td>1500</td>\n",
       "      <td>1000</td>\n",
       "      <td>1000</td>\n",
       "      <td>1000</td>\n",
       "      <td>5000</td>\n",
       "      <td>0</td>\n",
       "    </tr>\n",
       "    <tr>\n",
       "      <th>3</th>\n",
       "      <td>4</td>\n",
       "      <td>50000</td>\n",
       "      <td>2</td>\n",
       "      <td>2</td>\n",
       "      <td>1</td>\n",
       "      <td>37</td>\n",
       "      <td>0</td>\n",
       "      <td>0</td>\n",
       "      <td>0</td>\n",
       "      <td>0</td>\n",
       "      <td>...</td>\n",
       "      <td>28314</td>\n",
       "      <td>28959</td>\n",
       "      <td>29547</td>\n",
       "      <td>2000</td>\n",
       "      <td>2019</td>\n",
       "      <td>1200</td>\n",
       "      <td>1100</td>\n",
       "      <td>1069</td>\n",
       "      <td>1000</td>\n",
       "      <td>0</td>\n",
       "    </tr>\n",
       "    <tr>\n",
       "      <th>4</th>\n",
       "      <td>5</td>\n",
       "      <td>50000</td>\n",
       "      <td>1</td>\n",
       "      <td>2</td>\n",
       "      <td>1</td>\n",
       "      <td>57</td>\n",
       "      <td>-1</td>\n",
       "      <td>0</td>\n",
       "      <td>-1</td>\n",
       "      <td>0</td>\n",
       "      <td>...</td>\n",
       "      <td>20940</td>\n",
       "      <td>19146</td>\n",
       "      <td>19131</td>\n",
       "      <td>2000</td>\n",
       "      <td>36681</td>\n",
       "      <td>10000</td>\n",
       "      <td>9000</td>\n",
       "      <td>689</td>\n",
       "      <td>679</td>\n",
       "      <td>0</td>\n",
       "    </tr>\n",
       "  </tbody>\n",
       "</table>\n",
       "<p>5 rows × 25 columns</p>\n",
       "</div>"
      ],
      "text/plain": [
       "   ID  LIMIT_BAL  SEX  EDUCATION  MARRIAGE  AGE  PAY_0  PAY_2  PAY_3  PAY_4  \\\n",
       "0   1      20000    2          2         1   24      2      2     -1     -1   \n",
       "1   2     120000    2          2         2   26     -1      2      0      0   \n",
       "2   3      90000    2          2         2   34      0      0      0      0   \n",
       "3   4      50000    2          2         1   37      0      0      0      0   \n",
       "4   5      50000    1          2         1   57     -1      0     -1      0   \n",
       "\n",
       "   ...  BILL_AMT4  BILL_AMT5  BILL_AMT6  PAY_AMT1  PAY_AMT2  PAY_AMT3  \\\n",
       "0  ...          0          0          0         0       689         0   \n",
       "1  ...       3272       3455       3261         0      1000      1000   \n",
       "2  ...      14331      14948      15549      1518      1500      1000   \n",
       "3  ...      28314      28959      29547      2000      2019      1200   \n",
       "4  ...      20940      19146      19131      2000     36681     10000   \n",
       "\n",
       "   PAY_AMT4  PAY_AMT5  PAY_AMT6  default payment next month  \n",
       "0         0         0         0                           1  \n",
       "1      1000         0      2000                           1  \n",
       "2      1000      1000      5000                           0  \n",
       "3      1100      1069      1000                           0  \n",
       "4      9000       689       679                           0  \n",
       "\n",
       "[5 rows x 25 columns]"
      ]
     },
     "execution_count": 3,
     "metadata": {},
     "output_type": "execute_result"
    }
   ],
   "source": [
    "cc_df = pd.read_csv('cc_data.csv')\n",
    "cc_df.head()"
   ]
  },
  {
   "cell_type": "markdown",
   "id": "18d5cbc0",
   "metadata": {},
   "source": [
    "## <b>Data Description</b>"
   ]
  },
  {
   "cell_type": "code",
   "execution_count": 4,
   "id": "c730dce4",
   "metadata": {},
   "outputs": [
    {
     "name": "stdout",
     "output_type": "stream",
     "text": [
      "<class 'pandas.core.frame.DataFrame'>\n",
      "RangeIndex: 30000 entries, 0 to 29999\n",
      "Data columns (total 25 columns):\n",
      " #   Column                      Non-Null Count  Dtype\n",
      "---  ------                      --------------  -----\n",
      " 0   ID                          30000 non-null  int64\n",
      " 1   LIMIT_BAL                   30000 non-null  int64\n",
      " 2   SEX                         30000 non-null  int64\n",
      " 3   EDUCATION                   30000 non-null  int64\n",
      " 4   MARRIAGE                    30000 non-null  int64\n",
      " 5   AGE                         30000 non-null  int64\n",
      " 6   PAY_0                       30000 non-null  int64\n",
      " 7   PAY_2                       30000 non-null  int64\n",
      " 8   PAY_3                       30000 non-null  int64\n",
      " 9   PAY_4                       30000 non-null  int64\n",
      " 10  PAY_5                       30000 non-null  int64\n",
      " 11  PAY_6                       30000 non-null  int64\n",
      " 12  BILL_AMT1                   30000 non-null  int64\n",
      " 13  BILL_AMT2                   30000 non-null  int64\n",
      " 14  BILL_AMT3                   30000 non-null  int64\n",
      " 15  BILL_AMT4                   30000 non-null  int64\n",
      " 16  BILL_AMT5                   30000 non-null  int64\n",
      " 17  BILL_AMT6                   30000 non-null  int64\n",
      " 18  PAY_AMT1                    30000 non-null  int64\n",
      " 19  PAY_AMT2                    30000 non-null  int64\n",
      " 20  PAY_AMT3                    30000 non-null  int64\n",
      " 21  PAY_AMT4                    30000 non-null  int64\n",
      " 22  PAY_AMT5                    30000 non-null  int64\n",
      " 23  PAY_AMT6                    30000 non-null  int64\n",
      " 24  default payment next month  30000 non-null  int64\n",
      "dtypes: int64(25)\n",
      "memory usage: 5.7 MB\n"
     ]
    }
   ],
   "source": [
    "cc_df.info()"
   ]
  },
  {
   "cell_type": "markdown",
   "id": "73be3140",
   "metadata": {},
   "source": [
    "<i>The dataset contains 30,000 rows, and 25 columns. There are no null values</i>"
   ]
  },
  {
   "cell_type": "code",
   "execution_count": 5,
   "id": "7b746078",
   "metadata": {},
   "outputs": [
    {
     "data": {
      "text/html": [
       "<div>\n",
       "<style scoped>\n",
       "    .dataframe tbody tr th:only-of-type {\n",
       "        vertical-align: middle;\n",
       "    }\n",
       "\n",
       "    .dataframe tbody tr th {\n",
       "        vertical-align: top;\n",
       "    }\n",
       "\n",
       "    .dataframe thead th {\n",
       "        text-align: right;\n",
       "    }\n",
       "</style>\n",
       "<table border=\"1\" class=\"dataframe\">\n",
       "  <thead>\n",
       "    <tr style=\"text-align: right;\">\n",
       "      <th></th>\n",
       "      <th>ID</th>\n",
       "      <th>LIMIT_BAL</th>\n",
       "      <th>SEX</th>\n",
       "      <th>EDUCATION</th>\n",
       "      <th>MARRIAGE</th>\n",
       "      <th>AGE</th>\n",
       "      <th>PAY_0</th>\n",
       "      <th>PAY_2</th>\n",
       "      <th>PAY_3</th>\n",
       "      <th>PAY_4</th>\n",
       "      <th>...</th>\n",
       "      <th>BILL_AMT4</th>\n",
       "      <th>BILL_AMT5</th>\n",
       "      <th>BILL_AMT6</th>\n",
       "      <th>PAY_AMT1</th>\n",
       "      <th>PAY_AMT2</th>\n",
       "      <th>PAY_AMT3</th>\n",
       "      <th>PAY_AMT4</th>\n",
       "      <th>PAY_AMT5</th>\n",
       "      <th>PAY_AMT6</th>\n",
       "      <th>default payment next month</th>\n",
       "    </tr>\n",
       "  </thead>\n",
       "  <tbody>\n",
       "    <tr>\n",
       "      <th>count</th>\n",
       "      <td>30000.000000</td>\n",
       "      <td>30000.000000</td>\n",
       "      <td>30000.000000</td>\n",
       "      <td>30000.000000</td>\n",
       "      <td>30000.000000</td>\n",
       "      <td>30000.000000</td>\n",
       "      <td>30000.000000</td>\n",
       "      <td>30000.000000</td>\n",
       "      <td>30000.000000</td>\n",
       "      <td>30000.000000</td>\n",
       "      <td>...</td>\n",
       "      <td>30000.000000</td>\n",
       "      <td>30000.000000</td>\n",
       "      <td>30000.000000</td>\n",
       "      <td>30000.000000</td>\n",
       "      <td>3.000000e+04</td>\n",
       "      <td>30000.00000</td>\n",
       "      <td>30000.000000</td>\n",
       "      <td>30000.000000</td>\n",
       "      <td>30000.000000</td>\n",
       "      <td>30000.000000</td>\n",
       "    </tr>\n",
       "    <tr>\n",
       "      <th>mean</th>\n",
       "      <td>15000.500000</td>\n",
       "      <td>167484.322667</td>\n",
       "      <td>1.603733</td>\n",
       "      <td>1.853133</td>\n",
       "      <td>1.551867</td>\n",
       "      <td>35.485500</td>\n",
       "      <td>-0.016700</td>\n",
       "      <td>-0.133767</td>\n",
       "      <td>-0.166200</td>\n",
       "      <td>-0.220667</td>\n",
       "      <td>...</td>\n",
       "      <td>43262.948967</td>\n",
       "      <td>40311.400967</td>\n",
       "      <td>38871.760400</td>\n",
       "      <td>5663.580500</td>\n",
       "      <td>5.921163e+03</td>\n",
       "      <td>5225.68150</td>\n",
       "      <td>4826.076867</td>\n",
       "      <td>4799.387633</td>\n",
       "      <td>5215.502567</td>\n",
       "      <td>0.221200</td>\n",
       "    </tr>\n",
       "    <tr>\n",
       "      <th>std</th>\n",
       "      <td>8660.398374</td>\n",
       "      <td>129747.661567</td>\n",
       "      <td>0.489129</td>\n",
       "      <td>0.790349</td>\n",
       "      <td>0.521970</td>\n",
       "      <td>9.217904</td>\n",
       "      <td>1.123802</td>\n",
       "      <td>1.197186</td>\n",
       "      <td>1.196868</td>\n",
       "      <td>1.169139</td>\n",
       "      <td>...</td>\n",
       "      <td>64332.856134</td>\n",
       "      <td>60797.155770</td>\n",
       "      <td>59554.107537</td>\n",
       "      <td>16563.280354</td>\n",
       "      <td>2.304087e+04</td>\n",
       "      <td>17606.96147</td>\n",
       "      <td>15666.159744</td>\n",
       "      <td>15278.305679</td>\n",
       "      <td>17777.465775</td>\n",
       "      <td>0.415062</td>\n",
       "    </tr>\n",
       "    <tr>\n",
       "      <th>min</th>\n",
       "      <td>1.000000</td>\n",
       "      <td>10000.000000</td>\n",
       "      <td>1.000000</td>\n",
       "      <td>0.000000</td>\n",
       "      <td>0.000000</td>\n",
       "      <td>21.000000</td>\n",
       "      <td>-2.000000</td>\n",
       "      <td>-2.000000</td>\n",
       "      <td>-2.000000</td>\n",
       "      <td>-2.000000</td>\n",
       "      <td>...</td>\n",
       "      <td>-170000.000000</td>\n",
       "      <td>-81334.000000</td>\n",
       "      <td>-339603.000000</td>\n",
       "      <td>0.000000</td>\n",
       "      <td>0.000000e+00</td>\n",
       "      <td>0.00000</td>\n",
       "      <td>0.000000</td>\n",
       "      <td>0.000000</td>\n",
       "      <td>0.000000</td>\n",
       "      <td>0.000000</td>\n",
       "    </tr>\n",
       "    <tr>\n",
       "      <th>25%</th>\n",
       "      <td>7500.750000</td>\n",
       "      <td>50000.000000</td>\n",
       "      <td>1.000000</td>\n",
       "      <td>1.000000</td>\n",
       "      <td>1.000000</td>\n",
       "      <td>28.000000</td>\n",
       "      <td>-1.000000</td>\n",
       "      <td>-1.000000</td>\n",
       "      <td>-1.000000</td>\n",
       "      <td>-1.000000</td>\n",
       "      <td>...</td>\n",
       "      <td>2326.750000</td>\n",
       "      <td>1763.000000</td>\n",
       "      <td>1256.000000</td>\n",
       "      <td>1000.000000</td>\n",
       "      <td>8.330000e+02</td>\n",
       "      <td>390.00000</td>\n",
       "      <td>296.000000</td>\n",
       "      <td>252.500000</td>\n",
       "      <td>117.750000</td>\n",
       "      <td>0.000000</td>\n",
       "    </tr>\n",
       "    <tr>\n",
       "      <th>50%</th>\n",
       "      <td>15000.500000</td>\n",
       "      <td>140000.000000</td>\n",
       "      <td>2.000000</td>\n",
       "      <td>2.000000</td>\n",
       "      <td>2.000000</td>\n",
       "      <td>34.000000</td>\n",
       "      <td>0.000000</td>\n",
       "      <td>0.000000</td>\n",
       "      <td>0.000000</td>\n",
       "      <td>0.000000</td>\n",
       "      <td>...</td>\n",
       "      <td>19052.000000</td>\n",
       "      <td>18104.500000</td>\n",
       "      <td>17071.000000</td>\n",
       "      <td>2100.000000</td>\n",
       "      <td>2.009000e+03</td>\n",
       "      <td>1800.00000</td>\n",
       "      <td>1500.000000</td>\n",
       "      <td>1500.000000</td>\n",
       "      <td>1500.000000</td>\n",
       "      <td>0.000000</td>\n",
       "    </tr>\n",
       "    <tr>\n",
       "      <th>75%</th>\n",
       "      <td>22500.250000</td>\n",
       "      <td>240000.000000</td>\n",
       "      <td>2.000000</td>\n",
       "      <td>2.000000</td>\n",
       "      <td>2.000000</td>\n",
       "      <td>41.000000</td>\n",
       "      <td>0.000000</td>\n",
       "      <td>0.000000</td>\n",
       "      <td>0.000000</td>\n",
       "      <td>0.000000</td>\n",
       "      <td>...</td>\n",
       "      <td>54506.000000</td>\n",
       "      <td>50190.500000</td>\n",
       "      <td>49198.250000</td>\n",
       "      <td>5006.000000</td>\n",
       "      <td>5.000000e+03</td>\n",
       "      <td>4505.00000</td>\n",
       "      <td>4013.250000</td>\n",
       "      <td>4031.500000</td>\n",
       "      <td>4000.000000</td>\n",
       "      <td>0.000000</td>\n",
       "    </tr>\n",
       "    <tr>\n",
       "      <th>max</th>\n",
       "      <td>30000.000000</td>\n",
       "      <td>1000000.000000</td>\n",
       "      <td>2.000000</td>\n",
       "      <td>6.000000</td>\n",
       "      <td>3.000000</td>\n",
       "      <td>79.000000</td>\n",
       "      <td>8.000000</td>\n",
       "      <td>8.000000</td>\n",
       "      <td>8.000000</td>\n",
       "      <td>8.000000</td>\n",
       "      <td>...</td>\n",
       "      <td>891586.000000</td>\n",
       "      <td>927171.000000</td>\n",
       "      <td>961664.000000</td>\n",
       "      <td>873552.000000</td>\n",
       "      <td>1.684259e+06</td>\n",
       "      <td>896040.00000</td>\n",
       "      <td>621000.000000</td>\n",
       "      <td>426529.000000</td>\n",
       "      <td>528666.000000</td>\n",
       "      <td>1.000000</td>\n",
       "    </tr>\n",
       "  </tbody>\n",
       "</table>\n",
       "<p>8 rows × 25 columns</p>\n",
       "</div>"
      ],
      "text/plain": [
       "                 ID       LIMIT_BAL           SEX     EDUCATION      MARRIAGE  \\\n",
       "count  30000.000000    30000.000000  30000.000000  30000.000000  30000.000000   \n",
       "mean   15000.500000   167484.322667      1.603733      1.853133      1.551867   \n",
       "std     8660.398374   129747.661567      0.489129      0.790349      0.521970   \n",
       "min        1.000000    10000.000000      1.000000      0.000000      0.000000   \n",
       "25%     7500.750000    50000.000000      1.000000      1.000000      1.000000   \n",
       "50%    15000.500000   140000.000000      2.000000      2.000000      2.000000   \n",
       "75%    22500.250000   240000.000000      2.000000      2.000000      2.000000   \n",
       "max    30000.000000  1000000.000000      2.000000      6.000000      3.000000   \n",
       "\n",
       "                AGE         PAY_0         PAY_2         PAY_3         PAY_4  \\\n",
       "count  30000.000000  30000.000000  30000.000000  30000.000000  30000.000000   \n",
       "mean      35.485500     -0.016700     -0.133767     -0.166200     -0.220667   \n",
       "std        9.217904      1.123802      1.197186      1.196868      1.169139   \n",
       "min       21.000000     -2.000000     -2.000000     -2.000000     -2.000000   \n",
       "25%       28.000000     -1.000000     -1.000000     -1.000000     -1.000000   \n",
       "50%       34.000000      0.000000      0.000000      0.000000      0.000000   \n",
       "75%       41.000000      0.000000      0.000000      0.000000      0.000000   \n",
       "max       79.000000      8.000000      8.000000      8.000000      8.000000   \n",
       "\n",
       "       ...      BILL_AMT4      BILL_AMT5      BILL_AMT6       PAY_AMT1  \\\n",
       "count  ...   30000.000000   30000.000000   30000.000000   30000.000000   \n",
       "mean   ...   43262.948967   40311.400967   38871.760400    5663.580500   \n",
       "std    ...   64332.856134   60797.155770   59554.107537   16563.280354   \n",
       "min    ... -170000.000000  -81334.000000 -339603.000000       0.000000   \n",
       "25%    ...    2326.750000    1763.000000    1256.000000    1000.000000   \n",
       "50%    ...   19052.000000   18104.500000   17071.000000    2100.000000   \n",
       "75%    ...   54506.000000   50190.500000   49198.250000    5006.000000   \n",
       "max    ...  891586.000000  927171.000000  961664.000000  873552.000000   \n",
       "\n",
       "           PAY_AMT2      PAY_AMT3       PAY_AMT4       PAY_AMT5  \\\n",
       "count  3.000000e+04   30000.00000   30000.000000   30000.000000   \n",
       "mean   5.921163e+03    5225.68150    4826.076867    4799.387633   \n",
       "std    2.304087e+04   17606.96147   15666.159744   15278.305679   \n",
       "min    0.000000e+00       0.00000       0.000000       0.000000   \n",
       "25%    8.330000e+02     390.00000     296.000000     252.500000   \n",
       "50%    2.009000e+03    1800.00000    1500.000000    1500.000000   \n",
       "75%    5.000000e+03    4505.00000    4013.250000    4031.500000   \n",
       "max    1.684259e+06  896040.00000  621000.000000  426529.000000   \n",
       "\n",
       "            PAY_AMT6  default payment next month  \n",
       "count   30000.000000                30000.000000  \n",
       "mean     5215.502567                    0.221200  \n",
       "std     17777.465775                    0.415062  \n",
       "min         0.000000                    0.000000  \n",
       "25%       117.750000                    0.000000  \n",
       "50%      1500.000000                    0.000000  \n",
       "75%      4000.000000                    0.000000  \n",
       "max    528666.000000                    1.000000  \n",
       "\n",
       "[8 rows x 25 columns]"
      ]
     },
     "execution_count": 5,
     "metadata": {},
     "output_type": "execute_result"
    }
   ],
   "source": [
    "cc_df.describe()"
   ]
  },
  {
   "cell_type": "markdown",
   "id": "b435fb88",
   "metadata": {},
   "source": [
    "<i>This is the data of 30,000 bank customers, and each feature/attribute is explained below:<br>\n",
    "<ul>\n",
    "    <li>ID - ID of customer</li>\n",
    "    <li>LIMIT BAL - Credit in Taiwanese Dollars</li>\n",
    "    <li>SEX - Sex of customer (1 = male, 2 = female)</li>\n",
    "    <li>EDUCATION - Education level of customer (1 = graduate school, 2 = university, 3 = high school, 0,4,5,6 = others)</li>\n",
    "    <li>MARRIAGE - Marital status of customer (0 = others, 1 = married, 2 = single, 3 = others)</li>\n",
    "    <li>AGE - Age of customer in years</li>\n",
    "    <p>Scale for PAY_0 to PAY_6 : (-2 = No consumption, -1 = paid in full, 0 = use of revolving credit (paid minimum only), 1 = payment delay for one month, 2 = payment delay for two months, ... 8 = payment delay for eight months, 9 = payment delay for nine months and above)<br><br>All amounts are in Taiwanese Dollars<br><br></p>\n",
    "    <li>PAY_0 - September repayment status</li>\n",
    "    <li>PAY_2 - August repayment status</li>\n",
    "    <li>PAY_3 - July repayment status</li>\n",
    "    <li>PAY_4 - June repayment status</li>\n",
    "    <li>PAY_5 - May repayment status</li>\n",
    "    <li>PAY_6 - April repayment status</li>\n",
    "    <li>BILL_AMT1 - Amount due in September</li>\n",
    "    <li>BILL_AMT2 - Amount due in August</li>\n",
    "    <li>BILL_AMT3 - Amount due in July</li>\n",
    "    <li>BILL_AMT4 - Amount due in June</li>\n",
    "    <li>BILL_AMT5 - Amount due in May</li>\n",
    "    <li>BILL_AMT6 - Amount due in April</li>\n",
    "    <li>PAY_AMT1 - Amount of previous payment made in September</li>\n",
    "    <li>PAY_AMT2 - Amount of previous payment made in August</li>\n",
    "    <li>PAY_AMT3 - Amount of previous payment made in July</li>\n",
    "    <li>PAY_AMT4 - Amount of previous payment made in June</li>\n",
    "    <li>PAY_AMT5 - Amount of previous payment made in May</li>\n",
    "    <li>PAY_AMT6 - Amount of previous payment made in April</li>\n",
    "    <li>default payment next month - (1 = customer defaulted in the next month, 0 = customer didn't default)</li>\n",
    "</ul>\n",
    "</i>"
   ]
  },
  {
   "cell_type": "markdown",
   "id": "98a5df30",
   "metadata": {},
   "source": [
    "## Exploratory Data Analysis"
   ]
  },
  {
   "cell_type": "markdown",
   "id": "cc591f17",
   "metadata": {},
   "source": [
    "For the ease of coding, we are renaming the target variable "
   ]
  },
  {
   "cell_type": "code",
   "execution_count": 6,
   "id": "c4b8094f",
   "metadata": {
    "scrolled": true
   },
   "outputs": [
    {
     "data": {
      "text/html": [
       "<div>\n",
       "<style scoped>\n",
       "    .dataframe tbody tr th:only-of-type {\n",
       "        vertical-align: middle;\n",
       "    }\n",
       "\n",
       "    .dataframe tbody tr th {\n",
       "        vertical-align: top;\n",
       "    }\n",
       "\n",
       "    .dataframe thead th {\n",
       "        text-align: right;\n",
       "    }\n",
       "</style>\n",
       "<table border=\"1\" class=\"dataframe\">\n",
       "  <thead>\n",
       "    <tr style=\"text-align: right;\">\n",
       "      <th></th>\n",
       "      <th>ID</th>\n",
       "      <th>LIMIT_BAL</th>\n",
       "      <th>SEX</th>\n",
       "      <th>EDUCATION</th>\n",
       "      <th>MARRIAGE</th>\n",
       "      <th>AGE</th>\n",
       "      <th>PAY_0</th>\n",
       "      <th>PAY_2</th>\n",
       "      <th>PAY_3</th>\n",
       "      <th>PAY_4</th>\n",
       "      <th>...</th>\n",
       "      <th>BILL_AMT4</th>\n",
       "      <th>BILL_AMT5</th>\n",
       "      <th>BILL_AMT6</th>\n",
       "      <th>PAY_AMT1</th>\n",
       "      <th>PAY_AMT2</th>\n",
       "      <th>PAY_AMT3</th>\n",
       "      <th>PAY_AMT4</th>\n",
       "      <th>PAY_AMT5</th>\n",
       "      <th>PAY_AMT6</th>\n",
       "      <th>willdefault</th>\n",
       "    </tr>\n",
       "  </thead>\n",
       "  <tbody>\n",
       "    <tr>\n",
       "      <th>0</th>\n",
       "      <td>1</td>\n",
       "      <td>20000</td>\n",
       "      <td>2</td>\n",
       "      <td>2</td>\n",
       "      <td>1</td>\n",
       "      <td>24</td>\n",
       "      <td>2</td>\n",
       "      <td>2</td>\n",
       "      <td>-1</td>\n",
       "      <td>-1</td>\n",
       "      <td>...</td>\n",
       "      <td>0</td>\n",
       "      <td>0</td>\n",
       "      <td>0</td>\n",
       "      <td>0</td>\n",
       "      <td>689</td>\n",
       "      <td>0</td>\n",
       "      <td>0</td>\n",
       "      <td>0</td>\n",
       "      <td>0</td>\n",
       "      <td>1</td>\n",
       "    </tr>\n",
       "    <tr>\n",
       "      <th>1</th>\n",
       "      <td>2</td>\n",
       "      <td>120000</td>\n",
       "      <td>2</td>\n",
       "      <td>2</td>\n",
       "      <td>2</td>\n",
       "      <td>26</td>\n",
       "      <td>-1</td>\n",
       "      <td>2</td>\n",
       "      <td>0</td>\n",
       "      <td>0</td>\n",
       "      <td>...</td>\n",
       "      <td>3272</td>\n",
       "      <td>3455</td>\n",
       "      <td>3261</td>\n",
       "      <td>0</td>\n",
       "      <td>1000</td>\n",
       "      <td>1000</td>\n",
       "      <td>1000</td>\n",
       "      <td>0</td>\n",
       "      <td>2000</td>\n",
       "      <td>1</td>\n",
       "    </tr>\n",
       "    <tr>\n",
       "      <th>2</th>\n",
       "      <td>3</td>\n",
       "      <td>90000</td>\n",
       "      <td>2</td>\n",
       "      <td>2</td>\n",
       "      <td>2</td>\n",
       "      <td>34</td>\n",
       "      <td>0</td>\n",
       "      <td>0</td>\n",
       "      <td>0</td>\n",
       "      <td>0</td>\n",
       "      <td>...</td>\n",
       "      <td>14331</td>\n",
       "      <td>14948</td>\n",
       "      <td>15549</td>\n",
       "      <td>1518</td>\n",
       "      <td>1500</td>\n",
       "      <td>1000</td>\n",
       "      <td>1000</td>\n",
       "      <td>1000</td>\n",
       "      <td>5000</td>\n",
       "      <td>0</td>\n",
       "    </tr>\n",
       "    <tr>\n",
       "      <th>3</th>\n",
       "      <td>4</td>\n",
       "      <td>50000</td>\n",
       "      <td>2</td>\n",
       "      <td>2</td>\n",
       "      <td>1</td>\n",
       "      <td>37</td>\n",
       "      <td>0</td>\n",
       "      <td>0</td>\n",
       "      <td>0</td>\n",
       "      <td>0</td>\n",
       "      <td>...</td>\n",
       "      <td>28314</td>\n",
       "      <td>28959</td>\n",
       "      <td>29547</td>\n",
       "      <td>2000</td>\n",
       "      <td>2019</td>\n",
       "      <td>1200</td>\n",
       "      <td>1100</td>\n",
       "      <td>1069</td>\n",
       "      <td>1000</td>\n",
       "      <td>0</td>\n",
       "    </tr>\n",
       "    <tr>\n",
       "      <th>4</th>\n",
       "      <td>5</td>\n",
       "      <td>50000</td>\n",
       "      <td>1</td>\n",
       "      <td>2</td>\n",
       "      <td>1</td>\n",
       "      <td>57</td>\n",
       "      <td>-1</td>\n",
       "      <td>0</td>\n",
       "      <td>-1</td>\n",
       "      <td>0</td>\n",
       "      <td>...</td>\n",
       "      <td>20940</td>\n",
       "      <td>19146</td>\n",
       "      <td>19131</td>\n",
       "      <td>2000</td>\n",
       "      <td>36681</td>\n",
       "      <td>10000</td>\n",
       "      <td>9000</td>\n",
       "      <td>689</td>\n",
       "      <td>679</td>\n",
       "      <td>0</td>\n",
       "    </tr>\n",
       "    <tr>\n",
       "      <th>...</th>\n",
       "      <td>...</td>\n",
       "      <td>...</td>\n",
       "      <td>...</td>\n",
       "      <td>...</td>\n",
       "      <td>...</td>\n",
       "      <td>...</td>\n",
       "      <td>...</td>\n",
       "      <td>...</td>\n",
       "      <td>...</td>\n",
       "      <td>...</td>\n",
       "      <td>...</td>\n",
       "      <td>...</td>\n",
       "      <td>...</td>\n",
       "      <td>...</td>\n",
       "      <td>...</td>\n",
       "      <td>...</td>\n",
       "      <td>...</td>\n",
       "      <td>...</td>\n",
       "      <td>...</td>\n",
       "      <td>...</td>\n",
       "      <td>...</td>\n",
       "    </tr>\n",
       "    <tr>\n",
       "      <th>29995</th>\n",
       "      <td>29996</td>\n",
       "      <td>220000</td>\n",
       "      <td>1</td>\n",
       "      <td>3</td>\n",
       "      <td>1</td>\n",
       "      <td>39</td>\n",
       "      <td>0</td>\n",
       "      <td>0</td>\n",
       "      <td>0</td>\n",
       "      <td>0</td>\n",
       "      <td>...</td>\n",
       "      <td>88004</td>\n",
       "      <td>31237</td>\n",
       "      <td>15980</td>\n",
       "      <td>8500</td>\n",
       "      <td>20000</td>\n",
       "      <td>5003</td>\n",
       "      <td>3047</td>\n",
       "      <td>5000</td>\n",
       "      <td>1000</td>\n",
       "      <td>0</td>\n",
       "    </tr>\n",
       "    <tr>\n",
       "      <th>29996</th>\n",
       "      <td>29997</td>\n",
       "      <td>150000</td>\n",
       "      <td>1</td>\n",
       "      <td>3</td>\n",
       "      <td>2</td>\n",
       "      <td>43</td>\n",
       "      <td>-1</td>\n",
       "      <td>-1</td>\n",
       "      <td>-1</td>\n",
       "      <td>-1</td>\n",
       "      <td>...</td>\n",
       "      <td>8979</td>\n",
       "      <td>5190</td>\n",
       "      <td>0</td>\n",
       "      <td>1837</td>\n",
       "      <td>3526</td>\n",
       "      <td>8998</td>\n",
       "      <td>129</td>\n",
       "      <td>0</td>\n",
       "      <td>0</td>\n",
       "      <td>0</td>\n",
       "    </tr>\n",
       "    <tr>\n",
       "      <th>29997</th>\n",
       "      <td>29998</td>\n",
       "      <td>30000</td>\n",
       "      <td>1</td>\n",
       "      <td>2</td>\n",
       "      <td>2</td>\n",
       "      <td>37</td>\n",
       "      <td>4</td>\n",
       "      <td>3</td>\n",
       "      <td>2</td>\n",
       "      <td>-1</td>\n",
       "      <td>...</td>\n",
       "      <td>20878</td>\n",
       "      <td>20582</td>\n",
       "      <td>19357</td>\n",
       "      <td>0</td>\n",
       "      <td>0</td>\n",
       "      <td>22000</td>\n",
       "      <td>4200</td>\n",
       "      <td>2000</td>\n",
       "      <td>3100</td>\n",
       "      <td>1</td>\n",
       "    </tr>\n",
       "    <tr>\n",
       "      <th>29998</th>\n",
       "      <td>29999</td>\n",
       "      <td>80000</td>\n",
       "      <td>1</td>\n",
       "      <td>3</td>\n",
       "      <td>1</td>\n",
       "      <td>41</td>\n",
       "      <td>1</td>\n",
       "      <td>-1</td>\n",
       "      <td>0</td>\n",
       "      <td>0</td>\n",
       "      <td>...</td>\n",
       "      <td>52774</td>\n",
       "      <td>11855</td>\n",
       "      <td>48944</td>\n",
       "      <td>85900</td>\n",
       "      <td>3409</td>\n",
       "      <td>1178</td>\n",
       "      <td>1926</td>\n",
       "      <td>52964</td>\n",
       "      <td>1804</td>\n",
       "      <td>1</td>\n",
       "    </tr>\n",
       "    <tr>\n",
       "      <th>29999</th>\n",
       "      <td>30000</td>\n",
       "      <td>50000</td>\n",
       "      <td>1</td>\n",
       "      <td>2</td>\n",
       "      <td>1</td>\n",
       "      <td>46</td>\n",
       "      <td>0</td>\n",
       "      <td>0</td>\n",
       "      <td>0</td>\n",
       "      <td>0</td>\n",
       "      <td>...</td>\n",
       "      <td>36535</td>\n",
       "      <td>32428</td>\n",
       "      <td>15313</td>\n",
       "      <td>2078</td>\n",
       "      <td>1800</td>\n",
       "      <td>1430</td>\n",
       "      <td>1000</td>\n",
       "      <td>1000</td>\n",
       "      <td>1000</td>\n",
       "      <td>1</td>\n",
       "    </tr>\n",
       "  </tbody>\n",
       "</table>\n",
       "<p>30000 rows × 25 columns</p>\n",
       "</div>"
      ],
      "text/plain": [
       "          ID  LIMIT_BAL  SEX  EDUCATION  MARRIAGE  AGE  PAY_0  PAY_2  PAY_3  \\\n",
       "0          1      20000    2          2         1   24      2      2     -1   \n",
       "1          2     120000    2          2         2   26     -1      2      0   \n",
       "2          3      90000    2          2         2   34      0      0      0   \n",
       "3          4      50000    2          2         1   37      0      0      0   \n",
       "4          5      50000    1          2         1   57     -1      0     -1   \n",
       "...      ...        ...  ...        ...       ...  ...    ...    ...    ...   \n",
       "29995  29996     220000    1          3         1   39      0      0      0   \n",
       "29996  29997     150000    1          3         2   43     -1     -1     -1   \n",
       "29997  29998      30000    1          2         2   37      4      3      2   \n",
       "29998  29999      80000    1          3         1   41      1     -1      0   \n",
       "29999  30000      50000    1          2         1   46      0      0      0   \n",
       "\n",
       "       PAY_4  ...  BILL_AMT4  BILL_AMT5  BILL_AMT6  PAY_AMT1  PAY_AMT2  \\\n",
       "0         -1  ...          0          0          0         0       689   \n",
       "1          0  ...       3272       3455       3261         0      1000   \n",
       "2          0  ...      14331      14948      15549      1518      1500   \n",
       "3          0  ...      28314      28959      29547      2000      2019   \n",
       "4          0  ...      20940      19146      19131      2000     36681   \n",
       "...      ...  ...        ...        ...        ...       ...       ...   \n",
       "29995      0  ...      88004      31237      15980      8500     20000   \n",
       "29996     -1  ...       8979       5190          0      1837      3526   \n",
       "29997     -1  ...      20878      20582      19357         0         0   \n",
       "29998      0  ...      52774      11855      48944     85900      3409   \n",
       "29999      0  ...      36535      32428      15313      2078      1800   \n",
       "\n",
       "       PAY_AMT3  PAY_AMT4  PAY_AMT5  PAY_AMT6  willdefault  \n",
       "0             0         0         0         0            1  \n",
       "1          1000      1000         0      2000            1  \n",
       "2          1000      1000      1000      5000            0  \n",
       "3          1200      1100      1069      1000            0  \n",
       "4         10000      9000       689       679            0  \n",
       "...         ...       ...       ...       ...          ...  \n",
       "29995      5003      3047      5000      1000            0  \n",
       "29996      8998       129         0         0            0  \n",
       "29997     22000      4200      2000      3100            1  \n",
       "29998      1178      1926     52964      1804            1  \n",
       "29999      1430      1000      1000      1000            1  \n",
       "\n",
       "[30000 rows x 25 columns]"
      ]
     },
     "execution_count": 6,
     "metadata": {},
     "output_type": "execute_result"
    }
   ],
   "source": [
    "cc_df['willdefault'] =cc_df ['default payment next month']\n",
    "cc_df.drop('default payment next month',axis = 1,inplace=True)\n",
    "cc_df"
   ]
  },
  {
   "cell_type": "code",
   "execution_count": 7,
   "id": "d407e247",
   "metadata": {},
   "outputs": [
    {
     "data": {
      "text/plain": [
       "<AxesSubplot:xlabel='willdefault', ylabel='count'>"
      ]
     },
     "execution_count": 7,
     "metadata": {},
     "output_type": "execute_result"
    },
    {
     "data": {
      "image/png": "[encoded data removed]",
      "text/plain": [
       "<Figure size 432x288 with 1 Axes>"
      ]
     },
     "metadata": {
      "needs_background": "light"
     },
     "output_type": "display_data"
    }
   ],
   "source": [
    "sns.countplot(x = 'willdefault', data = cc_df)"
   ]
  },
  {
   "cell_type": "markdown",
   "id": "da5a365b",
   "metadata": {},
   "source": [
    "As we can see, a considerably lesser number of people have defaulted and hence, we can conclude that the dataset is imbalanced<br><br>Now let's take a look at the categorical features"
   ]
  },
  {
   "cell_type": "code",
   "execution_count": 8,
   "id": "311336b0",
   "metadata": {},
   "outputs": [
    {
     "data": {
      "text/plain": [
       "2    18112\n",
       "1    11888\n",
       "Name: SEX, dtype: int64"
      ]
     },
     "execution_count": 8,
     "metadata": {},
     "output_type": "execute_result"
    }
   ],
   "source": [
    "cc_df['SEX'].value_counts()"
   ]
  },
  {
   "cell_type": "code",
   "execution_count": 9,
   "id": "7a8e4fe5",
   "metadata": {},
   "outputs": [
    {
     "data": {
      "text/plain": [
       "2    14030\n",
       "1    10585\n",
       "3     4917\n",
       "5      280\n",
       "4      123\n",
       "6       51\n",
       "0       14\n",
       "Name: EDUCATION, dtype: int64"
      ]
     },
     "execution_count": 9,
     "metadata": {},
     "output_type": "execute_result"
    }
   ],
   "source": [
    "cc_df['EDUCATION'].value_counts()"
   ]
  },
  {
   "cell_type": "code",
   "execution_count": 10,
   "id": "7ad1fbae",
   "metadata": {},
   "outputs": [
    {
     "data": {
      "text/plain": [
       "2    15964\n",
       "1    13659\n",
       "3      323\n",
       "0       54\n",
       "Name: MARRIAGE, dtype: int64"
      ]
     },
     "execution_count": 10,
     "metadata": {},
     "output_type": "execute_result"
    }
   ],
   "source": [
    "cc_df['MARRIAGE'].value_counts()"
   ]
  },
  {
   "cell_type": "markdown",
   "id": "7492af3c",
   "metadata": {},
   "source": [
    "Education and Marriage contain values that do not belong to any pre-defined description, hence we combine them to others"
   ]
  },
  {
   "cell_type": "code",
   "execution_count": 11,
   "id": "cf08e8fa",
   "metadata": {},
   "outputs": [
    {
     "data": {
      "text/plain": [
       "2    14030\n",
       "1    10585\n",
       "3     4917\n",
       "4      468\n",
       "Name: EDUCATION, dtype: int64"
      ]
     },
     "execution_count": 11,
     "metadata": {},
     "output_type": "execute_result"
    }
   ],
   "source": [
    "combiner = (cc_df['EDUCATION'] == 5) | (cc_df['EDUCATION'] == 6) | (cc_df['EDUCATION'] == 0)\n",
    "cc_df.loc[combiner, 'EDUCATION'] = 4\n",
    "cc_df['EDUCATION'].value_counts()"
   ]
  },
  {
   "cell_type": "code",
   "execution_count": 12,
   "id": "5980b1fd",
   "metadata": {},
   "outputs": [
    {
     "data": {
      "text/plain": [
       "2    15964\n",
       "1    13659\n",
       "3      377\n",
       "Name: MARRIAGE, dtype: int64"
      ]
     },
     "execution_count": 12,
     "metadata": {},
     "output_type": "execute_result"
    }
   ],
   "source": [
    "combiner = cc_df['MARRIAGE'] == 0\n",
    "cc_df.loc[combiner, 'MARRIAGE'] = 3\n",
    "cc_df['MARRIAGE'].value_counts()"
   ]
  },
  {
   "cell_type": "markdown",
   "id": "b22f5e0a",
   "metadata": {},
   "source": [
    "Now that the categorical data is cleaned, we can plot it to get a visual understanding of our data"
   ]
  },
  {
   "cell_type": "code",
   "execution_count": 13,
   "id": "289562e4",
   "metadata": {},
   "outputs": [],
   "source": [
    "catg_data = ['SEX', 'EDUCATION', 'MARRIAGE']"
   ]
  },
  {
   "cell_type": "code",
   "execution_count": 14,
   "id": "220267c4",
   "metadata": {},
   "outputs": [],
   "source": [
    "cc_df_cat = cc_df[catg_data]\n",
    "cc_df_cat['default'] = cc_df['willdefault']"
   ]
  },
  {
   "cell_type": "code",
   "execution_count": 15,
   "id": "8ad36ab6",
   "metadata": {},
   "outputs": [],
   "source": [
    "cc_df_cat.replace({'SEX': {1 : 'MALE', 2 : 'FEMALE'}, 'EDUCATION' : {1 : 'graduate school', 2 : 'university', 3 : 'high school', 4 : 'others'}, 'MARRIAGE' : {1 : 'married', 2 : 'single', 3 : 'others'}}, inplace = True)"
   ]
  },
  {
   "cell_type": "code",
   "execution_count": 16,
   "id": "cd886bf1",
   "metadata": {},
   "outputs": [
    {
     "data": {
      "text/plain": [
       "<Figure size 720x360 with 0 Axes>"
      ]
     },
     "metadata": {},
     "output_type": "display_data"
    },
    {
     "data": {
      "image/png": "[encoded data removed]",
      "text/plain": [
       "<Figure size 432x288 with 1 Axes>"
      ]
     },
     "metadata": {
      "needs_background": "light"
     },
     "output_type": "display_data"
    },
    {
     "data": {
      "text/plain": [
       "<Figure size 720x360 with 0 Axes>"
      ]
     },
     "metadata": {},
     "output_type": "display_data"
    },
    {
     "data": {
      "image/png": "[encoded data removed]",
      "text/plain": [
       "<Figure size 432x288 with 1 Axes>"
      ]
     },
     "metadata": {
      "needs_background": "light"
     },
     "output_type": "display_data"
    },
    {
     "data": {
      "text/plain": [
       "<Figure size 720x360 with 0 Axes>"
      ]
     },
     "metadata": {},
     "output_type": "display_data"
    },
    {
     "data": {
      "image/png": "[encoded data removed]",
      "text/plain": [
       "<Figure size 432x288 with 1 Axes>"
      ]
     },
     "metadata": {
      "needs_background": "light"
     },
     "output_type": "display_data"
    }
   ],
   "source": [
    "for col in catg_data:\n",
    "    plt.figure(figsize=(10,5))\n",
    "    fig, axes = plt.subplots(ncols=1)\n",
    "    sns.countplot(x = col, hue = 'default', data = cc_df_cat)"
   ]
  },
  {
   "cell_type": "markdown",
   "id": "714fb646",
   "metadata": {},
   "source": [
    "General observations based on the above graphs:\n",
    "    <ul>\n",
    "        <li>There are more women than men, and the proportion of female defaulters is higher\n",
    "        <li>The most educated people make the most defaults\n",
    "        <li>Single people are more bound to default\n",
    "    </ul>\n",
    "        "
   ]
  },
  {
   "cell_type": "code",
   "execution_count": 19,
   "id": "43514b53",
   "metadata": {},
   "outputs": [
    {
     "data": {
      "text/plain": [
       "<AxesSubplot:xlabel='willdefault', ylabel='LIMIT_BAL'>"
      ]
     },
     "execution_count": 19,
     "metadata": {},
     "output_type": "execute_result"
    },
    {
     "data": {
      "image/png": "[encoded data removed]",
      "text/plain": [
       "<Figure size 432x288 with 1 Axes>"
      ]
     },
     "metadata": {
      "needs_background": "light"
     },
     "output_type": "display_data"
    }
   ],
   "source": [
    "sns.barplot(x='willdefault', y='LIMIT_BAL', data=cc_df)"
   ]
  },
  {
   "cell_type": "code",
   "execution_count": 17,
   "id": "82c29c8f",
   "metadata": {},
   "outputs": [
    {
     "data": {
      "image/png": "[encoded data removed]",
      "text/plain": [
       "<Figure size 504x504 with 1 Axes>"
      ]
     },
     "metadata": {
      "needs_background": "light"
     },
     "output_type": "display_data"
    }
   ],
   "source": [
    "plt.figure(figsize=(7,7))\n",
    "ax = sns.boxplot(x=\"willdefault\", y=\"LIMIT_BAL\", data=cc_df)"
   ]
  },
  {
   "cell_type": "markdown",
   "id": "485a9aba",
   "metadata": {},
   "source": [
    "Renaming the payment columns for ease in understanding"
   ]
  },
  {
   "cell_type": "code",
   "execution_count": 18,
   "id": "1c1414e9",
   "metadata": {},
   "outputs": [],
   "source": [
    "cc_df.rename(columns={'PAY_0':'sept_pay','PAY_2':'aug_pay','PAY_3':'jul_pay','PAY_4':'jun_pay','PAY_5':'may_pay','PAY_6':'apr_pay'},inplace=True)\n",
    "cc_df.rename(columns={'BILL_AMT1':'sept_bill_amt','BILL_AMT2':'aug_bill_amt','BILL_AMT3':'jul_bill_amt','BILL_AMT4':'jun_bill_amt','BILL_AMT5':'may_bill_amt','BILL_AMT6':'apr_bill_amt'}, inplace = True)\n",
    "cc_df.rename(columns={'PAY_AMT1':'sept_pay_amt','PAY_AMT2':'aug_pay_amt','PAY_AMT3':'jul_pay_amt','PAY_AMT4':'jun_pay_amt','PAY_AMT5':'may_pay_amt','PAY_AMT6':'apr_pay_amt'},inplace=True)"
   ]
  },
  {
   "cell_type": "code",
   "execution_count": 19,
   "id": "fee8b473",
   "metadata": {},
   "outputs": [
    {
     "data": {
      "text/html": [
       "<div>\n",
       "<style scoped>\n",
       "    .dataframe tbody tr th:only-of-type {\n",
       "        vertical-align: middle;\n",
       "    }\n",
       "\n",
       "    .dataframe tbody tr th {\n",
       "        vertical-align: top;\n",
       "    }\n",
       "\n",
       "    .dataframe thead th {\n",
       "        text-align: right;\n",
       "    }\n",
       "</style>\n",
       "<table border=\"1\" class=\"dataframe\">\n",
       "  <thead>\n",
       "    <tr style=\"text-align: right;\">\n",
       "      <th></th>\n",
       "      <th>ID</th>\n",
       "      <th>LIMIT_BAL</th>\n",
       "      <th>SEX</th>\n",
       "      <th>EDUCATION</th>\n",
       "      <th>MARRIAGE</th>\n",
       "      <th>AGE</th>\n",
       "      <th>sept_pay</th>\n",
       "      <th>aug_pay</th>\n",
       "      <th>jul_pay</th>\n",
       "      <th>jun_pay</th>\n",
       "      <th>...</th>\n",
       "      <th>jun_bill_amt</th>\n",
       "      <th>may_bill_amt</th>\n",
       "      <th>apr_bill_amt</th>\n",
       "      <th>sept_pay_amt</th>\n",
       "      <th>aug_pay_amt</th>\n",
       "      <th>jul_pay_amt</th>\n",
       "      <th>jun_pay_amt</th>\n",
       "      <th>may_pay_amt</th>\n",
       "      <th>apr_pay_amt</th>\n",
       "      <th>willdefault</th>\n",
       "    </tr>\n",
       "  </thead>\n",
       "  <tbody>\n",
       "    <tr>\n",
       "      <th>0</th>\n",
       "      <td>1</td>\n",
       "      <td>20000</td>\n",
       "      <td>2</td>\n",
       "      <td>2</td>\n",
       "      <td>1</td>\n",
       "      <td>24</td>\n",
       "      <td>2</td>\n",
       "      <td>2</td>\n",
       "      <td>-1</td>\n",
       "      <td>-1</td>\n",
       "      <td>...</td>\n",
       "      <td>0</td>\n",
       "      <td>0</td>\n",
       "      <td>0</td>\n",
       "      <td>0</td>\n",
       "      <td>689</td>\n",
       "      <td>0</td>\n",
       "      <td>0</td>\n",
       "      <td>0</td>\n",
       "      <td>0</td>\n",
       "      <td>1</td>\n",
       "    </tr>\n",
       "    <tr>\n",
       "      <th>1</th>\n",
       "      <td>2</td>\n",
       "      <td>120000</td>\n",
       "      <td>2</td>\n",
       "      <td>2</td>\n",
       "      <td>2</td>\n",
       "      <td>26</td>\n",
       "      <td>-1</td>\n",
       "      <td>2</td>\n",
       "      <td>0</td>\n",
       "      <td>0</td>\n",
       "      <td>...</td>\n",
       "      <td>3272</td>\n",
       "      <td>3455</td>\n",
       "      <td>3261</td>\n",
       "      <td>0</td>\n",
       "      <td>1000</td>\n",
       "      <td>1000</td>\n",
       "      <td>1000</td>\n",
       "      <td>0</td>\n",
       "      <td>2000</td>\n",
       "      <td>1</td>\n",
       "    </tr>\n",
       "    <tr>\n",
       "      <th>2</th>\n",
       "      <td>3</td>\n",
       "      <td>90000</td>\n",
       "      <td>2</td>\n",
       "      <td>2</td>\n",
       "      <td>2</td>\n",
       "      <td>34</td>\n",
       "      <td>0</td>\n",
       "      <td>0</td>\n",
       "      <td>0</td>\n",
       "      <td>0</td>\n",
       "      <td>...</td>\n",
       "      <td>14331</td>\n",
       "      <td>14948</td>\n",
       "      <td>15549</td>\n",
       "      <td>1518</td>\n",
       "      <td>1500</td>\n",
       "      <td>1000</td>\n",
       "      <td>1000</td>\n",
       "      <td>1000</td>\n",
       "      <td>5000</td>\n",
       "      <td>0</td>\n",
       "    </tr>\n",
       "    <tr>\n",
       "      <th>3</th>\n",
       "      <td>4</td>\n",
       "      <td>50000</td>\n",
       "      <td>2</td>\n",
       "      <td>2</td>\n",
       "      <td>1</td>\n",
       "      <td>37</td>\n",
       "      <td>0</td>\n",
       "      <td>0</td>\n",
       "      <td>0</td>\n",
       "      <td>0</td>\n",
       "      <td>...</td>\n",
       "      <td>28314</td>\n",
       "      <td>28959</td>\n",
       "      <td>29547</td>\n",
       "      <td>2000</td>\n",
       "      <td>2019</td>\n",
       "      <td>1200</td>\n",
       "      <td>1100</td>\n",
       "      <td>1069</td>\n",
       "      <td>1000</td>\n",
       "      <td>0</td>\n",
       "    </tr>\n",
       "    <tr>\n",
       "      <th>4</th>\n",
       "      <td>5</td>\n",
       "      <td>50000</td>\n",
       "      <td>1</td>\n",
       "      <td>2</td>\n",
       "      <td>1</td>\n",
       "      <td>57</td>\n",
       "      <td>-1</td>\n",
       "      <td>0</td>\n",
       "      <td>-1</td>\n",
       "      <td>0</td>\n",
       "      <td>...</td>\n",
       "      <td>20940</td>\n",
       "      <td>19146</td>\n",
       "      <td>19131</td>\n",
       "      <td>2000</td>\n",
       "      <td>36681</td>\n",
       "      <td>10000</td>\n",
       "      <td>9000</td>\n",
       "      <td>689</td>\n",
       "      <td>679</td>\n",
       "      <td>0</td>\n",
       "    </tr>\n",
       "  </tbody>\n",
       "</table>\n",
       "<p>5 rows × 25 columns</p>\n",
       "</div>"
      ],
      "text/plain": [
       "   ID  LIMIT_BAL  SEX  EDUCATION  MARRIAGE  AGE  sept_pay  aug_pay  jul_pay  \\\n",
       "0   1      20000    2          2         1   24         2        2       -1   \n",
       "1   2     120000    2          2         2   26        -1        2        0   \n",
       "2   3      90000    2          2         2   34         0        0        0   \n",
       "3   4      50000    2          2         1   37         0        0        0   \n",
       "4   5      50000    1          2         1   57        -1        0       -1   \n",
       "\n",
       "   jun_pay  ...  jun_bill_amt  may_bill_amt  apr_bill_amt  sept_pay_amt  \\\n",
       "0       -1  ...             0             0             0             0   \n",
       "1        0  ...          3272          3455          3261             0   \n",
       "2        0  ...         14331         14948         15549          1518   \n",
       "3        0  ...         28314         28959         29547          2000   \n",
       "4        0  ...         20940         19146         19131          2000   \n",
       "\n",
       "   aug_pay_amt  jul_pay_amt  jun_pay_amt  may_pay_amt  apr_pay_amt  \\\n",
       "0          689            0            0            0            0   \n",
       "1         1000         1000         1000            0         2000   \n",
       "2         1500         1000         1000         1000         5000   \n",
       "3         2019         1200         1100         1069         1000   \n",
       "4        36681        10000         9000          689          679   \n",
       "\n",
       "   willdefault  \n",
       "0            1  \n",
       "1            1  \n",
       "2            0  \n",
       "3            0  \n",
       "4            0  \n",
       "\n",
       "[5 rows x 25 columns]"
      ]
     },
     "execution_count": 19,
     "metadata": {},
     "output_type": "execute_result"
    }
   ],
   "source": [
    "cc_df.head()"
   ]
  },
  {
   "cell_type": "markdown",
   "id": "6d2e775c",
   "metadata": {},
   "source": [
    "Ensuring Age is int datatype"
   ]
  },
  {
   "cell_type": "code",
   "execution_count": 20,
   "id": "90fb8ed7",
   "metadata": {},
   "outputs": [],
   "source": [
    "cc_df['AGE']=cc_df['AGE'].astype('int')"
   ]
  },
  {
   "cell_type": "code",
   "execution_count": 21,
   "id": "8529408b",
   "metadata": {},
   "outputs": [
    {
     "data": {
      "text/plain": [
       "<AxesSubplot:xlabel='index', ylabel='AGE'>"
      ]
     },
     "execution_count": 21,
     "metadata": {},
     "output_type": "execute_result"
    },
    {
     "data": {
      "image/png": "[encoded data removed]",
      "text/plain": [
       "<Figure size 432x288 with 1 Axes>"
      ]
     },
     "metadata": {
      "needs_background": "light"
     },
     "output_type": "display_data"
    }
   ],
   "source": [
    "age_cc_df=cc_df['AGE'].value_counts().reset_index()\n",
    "#cc_df['AGE'].value_counts().plot(kind=\"pie\",ax = axes[0],subplots=True)\n",
    "sns.barplot(x='index',y='AGE',data=age_cc_df)"
   ]
  },
  {
   "cell_type": "code",
   "execution_count": 22,
   "id": "68224f19",
   "metadata": {},
   "outputs": [],
   "source": [
    "pay_amnt_cc_df = cc_df[['sept_pay_amt','aug_pay_amt','jul_pay_amt','jun_pay_amt','may_pay_amt','apr_pay_amt', 'willdefault']]"
   ]
  },
  {
   "cell_type": "code",
   "execution_count": 23,
   "id": "1d5e2672",
   "metadata": {},
   "outputs": [
    {
     "data": {
      "text/plain": [
       "<seaborn.axisgrid.PairGrid at 0x21e26768580>"
      ]
     },
     "execution_count": 23,
     "metadata": {},
     "output_type": "execute_result"
    },
    {
     "data": {
      "image/png": "[encoded data removed]",
      "text/plain": [
       "<Figure size 1140.12x1080 with 42 Axes>"
      ]
     },
     "metadata": {
      "needs_background": "light"
     },
     "output_type": "display_data"
    }
   ],
   "source": [
    "sns.pairplot(data = pay_amnt_cc_df, hue='willdefault')"
   ]
  },
  {
   "cell_type": "markdown",
   "id": "18743ee1",
   "metadata": {},
   "source": [
    "## Feature Engineering"
   ]
  },
  {
   "cell_type": "code",
   "execution_count": 24,
   "id": "50c4a4a0",
   "metadata": {},
   "outputs": [],
   "source": [
    "cc_update = cc_df.copy()"
   ]
  },
  {
   "cell_type": "code",
   "execution_count": 25,
   "id": "2e94bee7",
   "metadata": {},
   "outputs": [],
   "source": [
    "cc_update['Payement_Value'] = cc_update['sept_pay'] + cc_update['aug_pay'] + cc_update['jul_pay'] + cc_update['jun_pay'] + cc_update['may_pay'] + cc_update['apr_pay']"
   ]
  },
  {
   "cell_type": "code",
   "execution_count": 26,
   "id": "faf4cdb7",
   "metadata": {},
   "outputs": [
    {
     "data": {
      "text/plain": [
       "willdefault\n",
       "0   -1.980140\n",
       "1    2.023056\n",
       "Name: Payement_Value, dtype: float64"
      ]
     },
     "execution_count": 26,
     "metadata": {},
     "output_type": "execute_result"
    }
   ],
   "source": [
    "cc_update.groupby('willdefault')['Payement_Value'].mean()"
   ]
  },
  {
   "cell_type": "code",
   "execution_count": 27,
   "id": "cf9166fb",
   "metadata": {},
   "outputs": [
    {
     "data": {
      "text/plain": [
       "<AxesSubplot:xlabel='willdefault', ylabel='Payement_Value'>"
      ]
     },
     "execution_count": 27,
     "metadata": {},
     "output_type": "execute_result"
    },
    {
     "data": {
      "image/png": "[encoded data removed]",
      "text/plain": [
       "<Figure size 720x720 with 1 Axes>"
      ]
     },
     "metadata": {
      "needs_background": "light"
     },
     "output_type": "display_data"
    }
   ],
   "source": [
    "plt.figure(figsize=(10,10))\n",
    "sns.boxplot(data = cc_update, x = 'willdefault', y = 'Payement_Value' )"
   ]
  },
  {
   "cell_type": "code",
   "execution_count": 28,
   "id": "aaff31c4",
   "metadata": {},
   "outputs": [],
   "source": [
    "cc_update['Dues'] = (cc_update['apr_bill_amt']+cc_update['may_bill_amt']+cc_update['jun_bill_amt']+cc_update['jul_bill_amt']+cc_update['sept_bill_amt'])-(cc_update['apr_pay_amt']+cc_update['may_pay_amt']+cc_update['jun_pay_amt']+cc_update['jul_pay_amt']+cc_update['aug_pay_amt']+cc_update['sept_pay_amt'])"
   ]
  },
  {
   "cell_type": "code",
   "execution_count": 29,
   "id": "60807121",
   "metadata": {
    "colab": {
     "base_uri": "https://localhost:8080/"
    },
    "execution": {
     "iopub.execute_input": "2022-10-07T16:30:05.690569Z",
     "iopub.status.busy": "2022-10-07T16:30:05.690114Z",
     "iopub.status.idle": "2022-10-07T16:30:05.701695Z",
     "shell.execute_reply": "2022-10-07T16:30:05.700359Z",
     "shell.execute_reply.started": "2022-10-07T16:30:05.690515Z"
    },
    "id": "l3vY6rdjuhYq",
    "outputId": "a1be7c95-9d59-4b1e-f712-5f9726435ad3"
   },
   "outputs": [
    {
     "data": {
      "text/plain": [
       "willdefault\n",
       "0    187742.051532\n",
       "1    193570.044002\n",
       "Name: Dues, dtype: float64"
      ]
     },
     "execution_count": 29,
     "metadata": {},
     "output_type": "execute_result"
    }
   ],
   "source": [
    "cc_update.groupby('willdefault')['Dues'].mean()"
   ]
  },
  {
   "cell_type": "code",
   "execution_count": 30,
   "id": "f05952cc",
   "metadata": {
    "colab": {
     "base_uri": "https://localhost:8080/"
    },
    "execution": {
     "iopub.execute_input": "2022-10-07T16:30:06.390526Z",
     "iopub.status.busy": "2022-10-07T16:30:06.389459Z",
     "iopub.status.idle": "2022-10-07T16:30:06.398402Z",
     "shell.execute_reply": "2022-10-07T16:30:06.397253Z",
     "shell.execute_reply.started": "2022-10-07T16:30:06.390484Z"
    },
    "id": "SpZccCT8uVz-",
    "outputId": "04f5e11d-01de-4d30-f479-3d242892a993"
   },
   "outputs": [
    {
     "data": {
      "text/plain": [
       "array([2, 1, 3, 4], dtype=int64)"
      ]
     },
     "execution_count": 30,
     "metadata": {},
     "output_type": "execute_result"
    }
   ],
   "source": [
    "cc_update['EDUCATION'].unique()"
   ]
  },
  {
   "cell_type": "code",
   "execution_count": 31,
   "id": "74af74dc",
   "metadata": {
    "execution": {
     "iopub.execute_input": "2022-10-07T16:30:07.066894Z",
     "iopub.status.busy": "2022-10-07T16:30:07.066337Z",
     "iopub.status.idle": "2022-10-07T16:30:07.075457Z",
     "shell.execute_reply": "2022-10-07T16:30:07.074593Z",
     "shell.execute_reply.started": "2022-10-07T16:30:07.066847Z"
    },
    "id": "ZaxXW2_X2mIC"
   },
   "outputs": [],
   "source": [
    "cc_update['EDUCATION']=np.where(cc_update['EDUCATION'] == 6, 4, cc_update['EDUCATION'])\n",
    "cc_update['EDUCATION']=np.where(cc_update['EDUCATION'] == 0, 4, cc_update['EDUCATION'])"
   ]
  },
  {
   "cell_type": "code",
   "execution_count": 32,
   "id": "a73f7f79",
   "metadata": {
    "colab": {
     "base_uri": "https://localhost:8080/"
    },
    "execution": {
     "iopub.execute_input": "2022-10-07T16:30:08.270737Z",
     "iopub.status.busy": "2022-10-07T16:30:08.270295Z",
     "iopub.status.idle": "2022-10-07T16:30:08.280589Z",
     "shell.execute_reply": "2022-10-07T16:30:08.279347Z",
     "shell.execute_reply.started": "2022-10-07T16:30:08.270705Z"
    },
    "id": "-RfdxCyw3InR",
    "outputId": "50d209c2-5d44-4d80-ce47-88066ebf0413"
   },
   "outputs": [
    {
     "data": {
      "text/plain": [
       "array([1, 2, 3], dtype=int64)"
      ]
     },
     "execution_count": 32,
     "metadata": {},
     "output_type": "execute_result"
    }
   ],
   "source": [
    "cc_update['MARRIAGE'].unique()"
   ]
  },
  {
   "cell_type": "code",
   "execution_count": 33,
   "id": "c6184c41",
   "metadata": {
    "execution": {
     "iopub.execute_input": "2022-10-07T16:30:09.057799Z",
     "iopub.status.busy": "2022-10-07T16:30:09.057048Z",
     "iopub.status.idle": "2022-10-07T16:30:09.064602Z",
     "shell.execute_reply": "2022-10-07T16:30:09.063378Z",
     "shell.execute_reply.started": "2022-10-07T16:30:09.057761Z"
    },
    "id": "R7I2hjrD23KU"
   },
   "outputs": [],
   "source": [
    "cc_update['MARRIAGE']=np.where(cc_update['MARRIAGE'] == 0, 3, cc_update['MARRIAGE'])"
   ]
  },
  {
   "cell_type": "code",
   "execution_count": 34,
   "id": "7b9c1902",
   "metadata": {
    "execution": {
     "iopub.execute_input": "2022-10-07T16:30:10.230032Z",
     "iopub.status.busy": "2022-10-07T16:30:10.229571Z",
     "iopub.status.idle": "2022-10-07T16:30:10.271255Z",
     "shell.execute_reply": "2022-10-07T16:30:10.269858Z",
     "shell.execute_reply.started": "2022-10-07T16:30:10.229994Z"
    },
    "id": "DGrtr8DE2B2w"
   },
   "outputs": [],
   "source": [
    "cc_update.replace({'SEX': {1 : 'MALE', 2 : 'FEMALE'}, 'EDUCATION' : {1 : 'graduate school', 2 : 'university', 3 : 'high school', 4 : 'others'}, 'MARRIAGE' : {1 : 'married', 2 : 'single', 3 : 'others'}}, inplace = True)"
   ]
  },
  {
   "cell_type": "code",
   "execution_count": 35,
   "id": "3738cc74",
   "metadata": {
    "colab": {
     "base_uri": "https://localhost:8080/",
     "height": 299
    },
    "execution": {
     "iopub.execute_input": "2022-10-07T16:30:10.896039Z",
     "iopub.status.busy": "2022-10-07T16:30:10.895607Z",
     "iopub.status.idle": "2022-10-07T16:30:10.917978Z",
     "shell.execute_reply": "2022-10-07T16:30:10.916567Z",
     "shell.execute_reply.started": "2022-10-07T16:30:10.896002Z"
    },
    "id": "WTvzoDlB3fM6",
    "outputId": "8ab53dbd-5545-43b6-88dc-8f6758a164a2"
   },
   "outputs": [
    {
     "data": {
      "text/html": [
       "<div>\n",
       "<style scoped>\n",
       "    .dataframe tbody tr th:only-of-type {\n",
       "        vertical-align: middle;\n",
       "    }\n",
       "\n",
       "    .dataframe tbody tr th {\n",
       "        vertical-align: top;\n",
       "    }\n",
       "\n",
       "    .dataframe thead th {\n",
       "        text-align: right;\n",
       "    }\n",
       "</style>\n",
       "<table border=\"1\" class=\"dataframe\">\n",
       "  <thead>\n",
       "    <tr style=\"text-align: right;\">\n",
       "      <th></th>\n",
       "      <th>ID</th>\n",
       "      <th>LIMIT_BAL</th>\n",
       "      <th>SEX</th>\n",
       "      <th>EDUCATION</th>\n",
       "      <th>MARRIAGE</th>\n",
       "      <th>AGE</th>\n",
       "      <th>sept_pay</th>\n",
       "      <th>aug_pay</th>\n",
       "      <th>jul_pay</th>\n",
       "      <th>jun_pay</th>\n",
       "      <th>...</th>\n",
       "      <th>apr_bill_amt</th>\n",
       "      <th>sept_pay_amt</th>\n",
       "      <th>aug_pay_amt</th>\n",
       "      <th>jul_pay_amt</th>\n",
       "      <th>jun_pay_amt</th>\n",
       "      <th>may_pay_amt</th>\n",
       "      <th>apr_pay_amt</th>\n",
       "      <th>willdefault</th>\n",
       "      <th>Payement_Value</th>\n",
       "      <th>Dues</th>\n",
       "    </tr>\n",
       "  </thead>\n",
       "  <tbody>\n",
       "    <tr>\n",
       "      <th>0</th>\n",
       "      <td>1</td>\n",
       "      <td>20000</td>\n",
       "      <td>FEMALE</td>\n",
       "      <td>university</td>\n",
       "      <td>married</td>\n",
       "      <td>24</td>\n",
       "      <td>2</td>\n",
       "      <td>2</td>\n",
       "      <td>-1</td>\n",
       "      <td>-1</td>\n",
       "      <td>...</td>\n",
       "      <td>0</td>\n",
       "      <td>0</td>\n",
       "      <td>689</td>\n",
       "      <td>0</td>\n",
       "      <td>0</td>\n",
       "      <td>0</td>\n",
       "      <td>0</td>\n",
       "      <td>1</td>\n",
       "      <td>-2</td>\n",
       "      <td>3913</td>\n",
       "    </tr>\n",
       "    <tr>\n",
       "      <th>1</th>\n",
       "      <td>2</td>\n",
       "      <td>120000</td>\n",
       "      <td>FEMALE</td>\n",
       "      <td>university</td>\n",
       "      <td>single</td>\n",
       "      <td>26</td>\n",
       "      <td>-1</td>\n",
       "      <td>2</td>\n",
       "      <td>0</td>\n",
       "      <td>0</td>\n",
       "      <td>...</td>\n",
       "      <td>3261</td>\n",
       "      <td>0</td>\n",
       "      <td>1000</td>\n",
       "      <td>1000</td>\n",
       "      <td>1000</td>\n",
       "      <td>0</td>\n",
       "      <td>2000</td>\n",
       "      <td>1</td>\n",
       "      <td>3</td>\n",
       "      <td>10352</td>\n",
       "    </tr>\n",
       "    <tr>\n",
       "      <th>2</th>\n",
       "      <td>3</td>\n",
       "      <td>90000</td>\n",
       "      <td>FEMALE</td>\n",
       "      <td>university</td>\n",
       "      <td>single</td>\n",
       "      <td>34</td>\n",
       "      <td>0</td>\n",
       "      <td>0</td>\n",
       "      <td>0</td>\n",
       "      <td>0</td>\n",
       "      <td>...</td>\n",
       "      <td>15549</td>\n",
       "      <td>1518</td>\n",
       "      <td>1500</td>\n",
       "      <td>1000</td>\n",
       "      <td>1000</td>\n",
       "      <td>1000</td>\n",
       "      <td>5000</td>\n",
       "      <td>0</td>\n",
       "      <td>0</td>\n",
       "      <td>76608</td>\n",
       "    </tr>\n",
       "    <tr>\n",
       "      <th>3</th>\n",
       "      <td>4</td>\n",
       "      <td>50000</td>\n",
       "      <td>FEMALE</td>\n",
       "      <td>university</td>\n",
       "      <td>married</td>\n",
       "      <td>37</td>\n",
       "      <td>0</td>\n",
       "      <td>0</td>\n",
       "      <td>0</td>\n",
       "      <td>0</td>\n",
       "      <td>...</td>\n",
       "      <td>29547</td>\n",
       "      <td>2000</td>\n",
       "      <td>2019</td>\n",
       "      <td>1200</td>\n",
       "      <td>1100</td>\n",
       "      <td>1069</td>\n",
       "      <td>1000</td>\n",
       "      <td>0</td>\n",
       "      <td>0</td>\n",
       "      <td>174713</td>\n",
       "    </tr>\n",
       "    <tr>\n",
       "      <th>4</th>\n",
       "      <td>5</td>\n",
       "      <td>50000</td>\n",
       "      <td>MALE</td>\n",
       "      <td>university</td>\n",
       "      <td>married</td>\n",
       "      <td>57</td>\n",
       "      <td>-1</td>\n",
       "      <td>0</td>\n",
       "      <td>-1</td>\n",
       "      <td>0</td>\n",
       "      <td>...</td>\n",
       "      <td>19131</td>\n",
       "      <td>2000</td>\n",
       "      <td>36681</td>\n",
       "      <td>10000</td>\n",
       "      <td>9000</td>\n",
       "      <td>689</td>\n",
       "      <td>679</td>\n",
       "      <td>0</td>\n",
       "      <td>-2</td>\n",
       "      <td>44620</td>\n",
       "    </tr>\n",
       "  </tbody>\n",
       "</table>\n",
       "<p>5 rows × 27 columns</p>\n",
       "</div>"
      ],
      "text/plain": [
       "   ID  LIMIT_BAL     SEX   EDUCATION MARRIAGE  AGE  sept_pay  aug_pay  \\\n",
       "0   1      20000  FEMALE  university  married   24         2        2   \n",
       "1   2     120000  FEMALE  university   single   26        -1        2   \n",
       "2   3      90000  FEMALE  university   single   34         0        0   \n",
       "3   4      50000  FEMALE  university  married   37         0        0   \n",
       "4   5      50000    MALE  university  married   57        -1        0   \n",
       "\n",
       "   jul_pay  jun_pay  ...  apr_bill_amt  sept_pay_amt  aug_pay_amt  \\\n",
       "0       -1       -1  ...             0             0          689   \n",
       "1        0        0  ...          3261             0         1000   \n",
       "2        0        0  ...         15549          1518         1500   \n",
       "3        0        0  ...         29547          2000         2019   \n",
       "4       -1        0  ...         19131          2000        36681   \n",
       "\n",
       "   jul_pay_amt  jun_pay_amt  may_pay_amt  apr_pay_amt  willdefault  \\\n",
       "0            0            0            0            0            1   \n",
       "1         1000         1000            0         2000            1   \n",
       "2         1000         1000         1000         5000            0   \n",
       "3         1200         1100         1069         1000            0   \n",
       "4        10000         9000          689          679            0   \n",
       "\n",
       "   Payement_Value    Dues  \n",
       "0              -2    3913  \n",
       "1               3   10352  \n",
       "2               0   76608  \n",
       "3               0  174713  \n",
       "4              -2   44620  \n",
       "\n",
       "[5 rows x 27 columns]"
      ]
     },
     "execution_count": 35,
     "metadata": {},
     "output_type": "execute_result"
    }
   ],
   "source": [
    "cc_update.head()"
   ]
  },
  {
   "cell_type": "markdown",
   "id": "0ad06dfa",
   "metadata": {},
   "source": [
    "## One Hot Encoding"
   ]
  },
  {
   "cell_type": "code",
   "execution_count": 36,
   "id": "c42d7c99",
   "metadata": {
    "execution": {
     "iopub.execute_input": "2022-10-07T16:30:12.476805Z",
     "iopub.status.busy": "2022-10-07T16:30:12.476356Z",
     "iopub.status.idle": "2022-10-07T16:30:12.511081Z",
     "shell.execute_reply": "2022-10-07T16:30:12.510045Z",
     "shell.execute_reply.started": "2022-10-07T16:30:12.476767Z"
    },
    "id": "cfpcvb_G9c9I"
   },
   "outputs": [],
   "source": [
    "cc_update = pd.get_dummies(cc_update,columns=['EDUCATION','MARRIAGE'])"
   ]
  },
  {
   "cell_type": "code",
   "execution_count": 37,
   "id": "6eef8d49",
   "metadata": {
    "colab": {
     "base_uri": "https://localhost:8080/",
     "height": 317
    },
    "execution": {
     "iopub.execute_input": "2022-10-07T16:30:13.265176Z",
     "iopub.status.busy": "2022-10-07T16:30:13.264278Z",
     "iopub.status.idle": "2022-10-07T16:30:13.286888Z",
     "shell.execute_reply": "2022-10-07T16:30:13.285801Z",
     "shell.execute_reply.started": "2022-10-07T16:30:13.265135Z"
    },
    "id": "23ELX_hK_qVr",
    "outputId": "733ae821-58a7-4392-99e8-de22e9bd5e7c"
   },
   "outputs": [
    {
     "data": {
      "text/html": [
       "<div>\n",
       "<style scoped>\n",
       "    .dataframe tbody tr th:only-of-type {\n",
       "        vertical-align: middle;\n",
       "    }\n",
       "\n",
       "    .dataframe tbody tr th {\n",
       "        vertical-align: top;\n",
       "    }\n",
       "\n",
       "    .dataframe thead th {\n",
       "        text-align: right;\n",
       "    }\n",
       "</style>\n",
       "<table border=\"1\" class=\"dataframe\">\n",
       "  <thead>\n",
       "    <tr style=\"text-align: right;\">\n",
       "      <th></th>\n",
       "      <th>ID</th>\n",
       "      <th>LIMIT_BAL</th>\n",
       "      <th>SEX</th>\n",
       "      <th>AGE</th>\n",
       "      <th>sept_pay</th>\n",
       "      <th>aug_pay</th>\n",
       "      <th>jul_pay</th>\n",
       "      <th>jun_pay</th>\n",
       "      <th>may_pay</th>\n",
       "      <th>apr_pay</th>\n",
       "      <th>...</th>\n",
       "      <th>willdefault</th>\n",
       "      <th>Payement_Value</th>\n",
       "      <th>Dues</th>\n",
       "      <th>EDUCATION_graduate school</th>\n",
       "      <th>EDUCATION_high school</th>\n",
       "      <th>EDUCATION_others</th>\n",
       "      <th>EDUCATION_university</th>\n",
       "      <th>MARRIAGE_married</th>\n",
       "      <th>MARRIAGE_others</th>\n",
       "      <th>MARRIAGE_single</th>\n",
       "    </tr>\n",
       "  </thead>\n",
       "  <tbody>\n",
       "    <tr>\n",
       "      <th>0</th>\n",
       "      <td>1</td>\n",
       "      <td>20000</td>\n",
       "      <td>FEMALE</td>\n",
       "      <td>24</td>\n",
       "      <td>2</td>\n",
       "      <td>2</td>\n",
       "      <td>-1</td>\n",
       "      <td>-1</td>\n",
       "      <td>-2</td>\n",
       "      <td>-2</td>\n",
       "      <td>...</td>\n",
       "      <td>1</td>\n",
       "      <td>-2</td>\n",
       "      <td>3913</td>\n",
       "      <td>0</td>\n",
       "      <td>0</td>\n",
       "      <td>0</td>\n",
       "      <td>1</td>\n",
       "      <td>1</td>\n",
       "      <td>0</td>\n",
       "      <td>0</td>\n",
       "    </tr>\n",
       "    <tr>\n",
       "      <th>1</th>\n",
       "      <td>2</td>\n",
       "      <td>120000</td>\n",
       "      <td>FEMALE</td>\n",
       "      <td>26</td>\n",
       "      <td>-1</td>\n",
       "      <td>2</td>\n",
       "      <td>0</td>\n",
       "      <td>0</td>\n",
       "      <td>0</td>\n",
       "      <td>2</td>\n",
       "      <td>...</td>\n",
       "      <td>1</td>\n",
       "      <td>3</td>\n",
       "      <td>10352</td>\n",
       "      <td>0</td>\n",
       "      <td>0</td>\n",
       "      <td>0</td>\n",
       "      <td>1</td>\n",
       "      <td>0</td>\n",
       "      <td>0</td>\n",
       "      <td>1</td>\n",
       "    </tr>\n",
       "    <tr>\n",
       "      <th>2</th>\n",
       "      <td>3</td>\n",
       "      <td>90000</td>\n",
       "      <td>FEMALE</td>\n",
       "      <td>34</td>\n",
       "      <td>0</td>\n",
       "      <td>0</td>\n",
       "      <td>0</td>\n",
       "      <td>0</td>\n",
       "      <td>0</td>\n",
       "      <td>0</td>\n",
       "      <td>...</td>\n",
       "      <td>0</td>\n",
       "      <td>0</td>\n",
       "      <td>76608</td>\n",
       "      <td>0</td>\n",
       "      <td>0</td>\n",
       "      <td>0</td>\n",
       "      <td>1</td>\n",
       "      <td>0</td>\n",
       "      <td>0</td>\n",
       "      <td>1</td>\n",
       "    </tr>\n",
       "    <tr>\n",
       "      <th>3</th>\n",
       "      <td>4</td>\n",
       "      <td>50000</td>\n",
       "      <td>FEMALE</td>\n",
       "      <td>37</td>\n",
       "      <td>0</td>\n",
       "      <td>0</td>\n",
       "      <td>0</td>\n",
       "      <td>0</td>\n",
       "      <td>0</td>\n",
       "      <td>0</td>\n",
       "      <td>...</td>\n",
       "      <td>0</td>\n",
       "      <td>0</td>\n",
       "      <td>174713</td>\n",
       "      <td>0</td>\n",
       "      <td>0</td>\n",
       "      <td>0</td>\n",
       "      <td>1</td>\n",
       "      <td>1</td>\n",
       "      <td>0</td>\n",
       "      <td>0</td>\n",
       "    </tr>\n",
       "    <tr>\n",
       "      <th>4</th>\n",
       "      <td>5</td>\n",
       "      <td>50000</td>\n",
       "      <td>MALE</td>\n",
       "      <td>57</td>\n",
       "      <td>-1</td>\n",
       "      <td>0</td>\n",
       "      <td>-1</td>\n",
       "      <td>0</td>\n",
       "      <td>0</td>\n",
       "      <td>0</td>\n",
       "      <td>...</td>\n",
       "      <td>0</td>\n",
       "      <td>-2</td>\n",
       "      <td>44620</td>\n",
       "      <td>0</td>\n",
       "      <td>0</td>\n",
       "      <td>0</td>\n",
       "      <td>1</td>\n",
       "      <td>1</td>\n",
       "      <td>0</td>\n",
       "      <td>0</td>\n",
       "    </tr>\n",
       "  </tbody>\n",
       "</table>\n",
       "<p>5 rows × 32 columns</p>\n",
       "</div>"
      ],
      "text/plain": [
       "   ID  LIMIT_BAL     SEX  AGE  sept_pay  aug_pay  jul_pay  jun_pay  may_pay  \\\n",
       "0   1      20000  FEMALE   24         2        2       -1       -1       -2   \n",
       "1   2     120000  FEMALE   26        -1        2        0        0        0   \n",
       "2   3      90000  FEMALE   34         0        0        0        0        0   \n",
       "3   4      50000  FEMALE   37         0        0        0        0        0   \n",
       "4   5      50000    MALE   57        -1        0       -1        0        0   \n",
       "\n",
       "   apr_pay  ...  willdefault  Payement_Value    Dues  \\\n",
       "0       -2  ...            1              -2    3913   \n",
       "1        2  ...            1               3   10352   \n",
       "2        0  ...            0               0   76608   \n",
       "3        0  ...            0               0  174713   \n",
       "4        0  ...            0              -2   44620   \n",
       "\n",
       "   EDUCATION_graduate school  EDUCATION_high school  EDUCATION_others  \\\n",
       "0                          0                      0                 0   \n",
       "1                          0                      0                 0   \n",
       "2                          0                      0                 0   \n",
       "3                          0                      0                 0   \n",
       "4                          0                      0                 0   \n",
       "\n",
       "   EDUCATION_university  MARRIAGE_married  MARRIAGE_others  MARRIAGE_single  \n",
       "0                     1                 1                0                0  \n",
       "1                     1                 0                0                1  \n",
       "2                     1                 0                0                1  \n",
       "3                     1                 1                0                0  \n",
       "4                     1                 1                0                0  \n",
       "\n",
       "[5 rows x 32 columns]"
      ]
     },
     "execution_count": 37,
     "metadata": {},
     "output_type": "execute_result"
    }
   ],
   "source": [
    "cc_update.head()"
   ]
  },
  {
   "cell_type": "code",
   "execution_count": 38,
   "id": "306bf9f2",
   "metadata": {
    "execution": {
     "iopub.execute_input": "2022-10-07T16:30:14.115394Z",
     "iopub.status.busy": "2022-10-07T16:30:14.114323Z",
     "iopub.status.idle": "2022-10-07T16:30:14.131003Z",
     "shell.execute_reply": "2022-10-07T16:30:14.129626Z",
     "shell.execute_reply.started": "2022-10-07T16:30:14.115353Z"
    },
    "id": "0MlQT62B_sMK"
   },
   "outputs": [],
   "source": [
    "cc_update.drop(['EDUCATION_others','MARRIAGE_others'],axis = 1, inplace = True)"
   ]
  },
  {
   "cell_type": "code",
   "execution_count": 39,
   "id": "4d4aba09",
   "metadata": {
    "execution": {
     "iopub.execute_input": "2022-10-07T16:30:17.200951Z",
     "iopub.status.busy": "2022-10-07T16:30:17.198063Z",
     "iopub.status.idle": "2022-10-07T16:30:17.246736Z",
     "shell.execute_reply": "2022-10-07T16:30:17.245551Z",
     "shell.execute_reply.started": "2022-10-07T16:30:17.200887Z"
    },
    "id": "4mjcxj3jfLWY"
   },
   "outputs": [],
   "source": [
    "cc_update = pd.get_dummies(cc_update, columns = ['sept_pay','aug_pay','jul_pay','jun_pay','may_pay','apr_pay'], drop_first = True )"
   ]
  },
  {
   "cell_type": "code",
   "execution_count": 40,
   "id": "212b70b2",
   "metadata": {
    "colab": {
     "base_uri": "https://localhost:8080/",
     "height": 299
    },
    "execution": {
     "iopub.execute_input": "2022-10-07T16:30:17.891468Z",
     "iopub.status.busy": "2022-10-07T16:30:17.891055Z",
     "iopub.status.idle": "2022-10-07T16:30:17.913151Z",
     "shell.execute_reply": "2022-10-07T16:30:17.911853Z",
     "shell.execute_reply.started": "2022-10-07T16:30:17.891436Z"
    },
    "id": "t4hBfAFNEsPB",
    "outputId": "eee45045-030a-49ec-8e28-ee7ed0278a7f"
   },
   "outputs": [
    {
     "data": {
      "text/html": [
       "<div>\n",
       "<style scoped>\n",
       "    .dataframe tbody tr th:only-of-type {\n",
       "        vertical-align: middle;\n",
       "    }\n",
       "\n",
       "    .dataframe tbody tr th {\n",
       "        vertical-align: top;\n",
       "    }\n",
       "\n",
       "    .dataframe thead th {\n",
       "        text-align: right;\n",
       "    }\n",
       "</style>\n",
       "<table border=\"1\" class=\"dataframe\">\n",
       "  <thead>\n",
       "    <tr style=\"text-align: right;\">\n",
       "      <th></th>\n",
       "      <th>ID</th>\n",
       "      <th>LIMIT_BAL</th>\n",
       "      <th>SEX</th>\n",
       "      <th>AGE</th>\n",
       "      <th>sept_bill_amt</th>\n",
       "      <th>aug_bill_amt</th>\n",
       "      <th>jul_bill_amt</th>\n",
       "      <th>jun_bill_amt</th>\n",
       "      <th>may_bill_amt</th>\n",
       "      <th>apr_bill_amt</th>\n",
       "      <th>...</th>\n",
       "      <th>may_pay_8</th>\n",
       "      <th>apr_pay_-1</th>\n",
       "      <th>apr_pay_0</th>\n",
       "      <th>apr_pay_2</th>\n",
       "      <th>apr_pay_3</th>\n",
       "      <th>apr_pay_4</th>\n",
       "      <th>apr_pay_5</th>\n",
       "      <th>apr_pay_6</th>\n",
       "      <th>apr_pay_7</th>\n",
       "      <th>apr_pay_8</th>\n",
       "    </tr>\n",
       "  </thead>\n",
       "  <tbody>\n",
       "    <tr>\n",
       "      <th>0</th>\n",
       "      <td>1</td>\n",
       "      <td>20000</td>\n",
       "      <td>FEMALE</td>\n",
       "      <td>24</td>\n",
       "      <td>3913</td>\n",
       "      <td>3102</td>\n",
       "      <td>689</td>\n",
       "      <td>0</td>\n",
       "      <td>0</td>\n",
       "      <td>0</td>\n",
       "      <td>...</td>\n",
       "      <td>0</td>\n",
       "      <td>0</td>\n",
       "      <td>0</td>\n",
       "      <td>0</td>\n",
       "      <td>0</td>\n",
       "      <td>0</td>\n",
       "      <td>0</td>\n",
       "      <td>0</td>\n",
       "      <td>0</td>\n",
       "      <td>0</td>\n",
       "    </tr>\n",
       "    <tr>\n",
       "      <th>1</th>\n",
       "      <td>2</td>\n",
       "      <td>120000</td>\n",
       "      <td>FEMALE</td>\n",
       "      <td>26</td>\n",
       "      <td>2682</td>\n",
       "      <td>1725</td>\n",
       "      <td>2682</td>\n",
       "      <td>3272</td>\n",
       "      <td>3455</td>\n",
       "      <td>3261</td>\n",
       "      <td>...</td>\n",
       "      <td>0</td>\n",
       "      <td>0</td>\n",
       "      <td>0</td>\n",
       "      <td>1</td>\n",
       "      <td>0</td>\n",
       "      <td>0</td>\n",
       "      <td>0</td>\n",
       "      <td>0</td>\n",
       "      <td>0</td>\n",
       "      <td>0</td>\n",
       "    </tr>\n",
       "    <tr>\n",
       "      <th>2</th>\n",
       "      <td>3</td>\n",
       "      <td>90000</td>\n",
       "      <td>FEMALE</td>\n",
       "      <td>34</td>\n",
       "      <td>29239</td>\n",
       "      <td>14027</td>\n",
       "      <td>13559</td>\n",
       "      <td>14331</td>\n",
       "      <td>14948</td>\n",
       "      <td>15549</td>\n",
       "      <td>...</td>\n",
       "      <td>0</td>\n",
       "      <td>0</td>\n",
       "      <td>1</td>\n",
       "      <td>0</td>\n",
       "      <td>0</td>\n",
       "      <td>0</td>\n",
       "      <td>0</td>\n",
       "      <td>0</td>\n",
       "      <td>0</td>\n",
       "      <td>0</td>\n",
       "    </tr>\n",
       "    <tr>\n",
       "      <th>3</th>\n",
       "      <td>4</td>\n",
       "      <td>50000</td>\n",
       "      <td>FEMALE</td>\n",
       "      <td>37</td>\n",
       "      <td>46990</td>\n",
       "      <td>48233</td>\n",
       "      <td>49291</td>\n",
       "      <td>28314</td>\n",
       "      <td>28959</td>\n",
       "      <td>29547</td>\n",
       "      <td>...</td>\n",
       "      <td>0</td>\n",
       "      <td>0</td>\n",
       "      <td>1</td>\n",
       "      <td>0</td>\n",
       "      <td>0</td>\n",
       "      <td>0</td>\n",
       "      <td>0</td>\n",
       "      <td>0</td>\n",
       "      <td>0</td>\n",
       "      <td>0</td>\n",
       "    </tr>\n",
       "    <tr>\n",
       "      <th>4</th>\n",
       "      <td>5</td>\n",
       "      <td>50000</td>\n",
       "      <td>MALE</td>\n",
       "      <td>57</td>\n",
       "      <td>8617</td>\n",
       "      <td>5670</td>\n",
       "      <td>35835</td>\n",
       "      <td>20940</td>\n",
       "      <td>19146</td>\n",
       "      <td>19131</td>\n",
       "      <td>...</td>\n",
       "      <td>0</td>\n",
       "      <td>0</td>\n",
       "      <td>1</td>\n",
       "      <td>0</td>\n",
       "      <td>0</td>\n",
       "      <td>0</td>\n",
       "      <td>0</td>\n",
       "      <td>0</td>\n",
       "      <td>0</td>\n",
       "      <td>0</td>\n",
       "    </tr>\n",
       "  </tbody>\n",
       "</table>\n",
       "<p>5 rows × 82 columns</p>\n",
       "</div>"
      ],
      "text/plain": [
       "   ID  LIMIT_BAL     SEX  AGE  sept_bill_amt  aug_bill_amt  jul_bill_amt  \\\n",
       "0   1      20000  FEMALE   24           3913          3102           689   \n",
       "1   2     120000  FEMALE   26           2682          1725          2682   \n",
       "2   3      90000  FEMALE   34          29239         14027         13559   \n",
       "3   4      50000  FEMALE   37          46990         48233         49291   \n",
       "4   5      50000    MALE   57           8617          5670         35835   \n",
       "\n",
       "   jun_bill_amt  may_bill_amt  apr_bill_amt  ...  may_pay_8  apr_pay_-1  \\\n",
       "0             0             0             0  ...          0           0   \n",
       "1          3272          3455          3261  ...          0           0   \n",
       "2         14331         14948         15549  ...          0           0   \n",
       "3         28314         28959         29547  ...          0           0   \n",
       "4         20940         19146         19131  ...          0           0   \n",
       "\n",
       "   apr_pay_0  apr_pay_2  apr_pay_3  apr_pay_4  apr_pay_5  apr_pay_6  \\\n",
       "0          0          0          0          0          0          0   \n",
       "1          0          1          0          0          0          0   \n",
       "2          1          0          0          0          0          0   \n",
       "3          1          0          0          0          0          0   \n",
       "4          1          0          0          0          0          0   \n",
       "\n",
       "   apr_pay_7  apr_pay_8  \n",
       "0          0          0  \n",
       "1          0          0  \n",
       "2          0          0  \n",
       "3          0          0  \n",
       "4          0          0  \n",
       "\n",
       "[5 rows x 82 columns]"
      ]
     },
     "execution_count": 40,
     "metadata": {},
     "output_type": "execute_result"
    }
   ],
   "source": [
    "cc_update.head()"
   ]
  },
  {
   "cell_type": "code",
   "execution_count": 41,
   "id": "ccb33d79",
   "metadata": {
    "execution": {
     "iopub.execute_input": "2022-10-07T16:30:18.694880Z",
     "iopub.status.busy": "2022-10-07T16:30:18.693767Z",
     "iopub.status.idle": "2022-10-07T16:30:18.729752Z",
     "shell.execute_reply": "2022-10-07T16:30:18.728514Z",
     "shell.execute_reply.started": "2022-10-07T16:30:18.694825Z"
    },
    "id": "JISKmKF3Eywr"
   },
   "outputs": [],
   "source": [
    "sex_encode={\"SEX\":{\"FEMALE\": 0, \"MALE\": 1}}\n",
    "cc_update = cc_update.replace(sex_encode)"
   ]
  },
  {
   "cell_type": "code",
   "execution_count": 42,
   "id": "90f00452",
   "metadata": {
    "colab": {
     "base_uri": "https://localhost:8080/",
     "height": 299
    },
    "execution": {
     "iopub.execute_input": "2022-10-07T16:30:20.249628Z",
     "iopub.status.busy": "2022-10-07T16:30:20.249206Z",
     "iopub.status.idle": "2022-10-07T16:30:20.268954Z",
     "shell.execute_reply": "2022-10-07T16:30:20.267931Z",
     "shell.execute_reply.started": "2022-10-07T16:30:20.249597Z"
    },
    "id": "zIly-yazjA39",
    "outputId": "160d7fe8-599d-4bfc-dd78-5ca234217dfc",
    "scrolled": true
   },
   "outputs": [
    {
     "data": {
      "text/html": [
       "<div>\n",
       "<style scoped>\n",
       "    .dataframe tbody tr th:only-of-type {\n",
       "        vertical-align: middle;\n",
       "    }\n",
       "\n",
       "    .dataframe tbody tr th {\n",
       "        vertical-align: top;\n",
       "    }\n",
       "\n",
       "    .dataframe thead th {\n",
       "        text-align: right;\n",
       "    }\n",
       "</style>\n",
       "<table border=\"1\" class=\"dataframe\">\n",
       "  <thead>\n",
       "    <tr style=\"text-align: right;\">\n",
       "      <th></th>\n",
       "      <th>ID</th>\n",
       "      <th>LIMIT_BAL</th>\n",
       "      <th>SEX</th>\n",
       "      <th>AGE</th>\n",
       "      <th>sept_bill_amt</th>\n",
       "      <th>aug_bill_amt</th>\n",
       "      <th>jul_bill_amt</th>\n",
       "      <th>jun_bill_amt</th>\n",
       "      <th>may_bill_amt</th>\n",
       "      <th>apr_bill_amt</th>\n",
       "      <th>...</th>\n",
       "      <th>may_pay_8</th>\n",
       "      <th>apr_pay_-1</th>\n",
       "      <th>apr_pay_0</th>\n",
       "      <th>apr_pay_2</th>\n",
       "      <th>apr_pay_3</th>\n",
       "      <th>apr_pay_4</th>\n",
       "      <th>apr_pay_5</th>\n",
       "      <th>apr_pay_6</th>\n",
       "      <th>apr_pay_7</th>\n",
       "      <th>apr_pay_8</th>\n",
       "    </tr>\n",
       "  </thead>\n",
       "  <tbody>\n",
       "    <tr>\n",
       "      <th>0</th>\n",
       "      <td>1</td>\n",
       "      <td>20000</td>\n",
       "      <td>0</td>\n",
       "      <td>24</td>\n",
       "      <td>3913</td>\n",
       "      <td>3102</td>\n",
       "      <td>689</td>\n",
       "      <td>0</td>\n",
       "      <td>0</td>\n",
       "      <td>0</td>\n",
       "      <td>...</td>\n",
       "      <td>0</td>\n",
       "      <td>0</td>\n",
       "      <td>0</td>\n",
       "      <td>0</td>\n",
       "      <td>0</td>\n",
       "      <td>0</td>\n",
       "      <td>0</td>\n",
       "      <td>0</td>\n",
       "      <td>0</td>\n",
       "      <td>0</td>\n",
       "    </tr>\n",
       "    <tr>\n",
       "      <th>1</th>\n",
       "      <td>2</td>\n",
       "      <td>120000</td>\n",
       "      <td>0</td>\n",
       "      <td>26</td>\n",
       "      <td>2682</td>\n",
       "      <td>1725</td>\n",
       "      <td>2682</td>\n",
       "      <td>3272</td>\n",
       "      <td>3455</td>\n",
       "      <td>3261</td>\n",
       "      <td>...</td>\n",
       "      <td>0</td>\n",
       "      <td>0</td>\n",
       "      <td>0</td>\n",
       "      <td>1</td>\n",
       "      <td>0</td>\n",
       "      <td>0</td>\n",
       "      <td>0</td>\n",
       "      <td>0</td>\n",
       "      <td>0</td>\n",
       "      <td>0</td>\n",
       "    </tr>\n",
       "    <tr>\n",
       "      <th>2</th>\n",
       "      <td>3</td>\n",
       "      <td>90000</td>\n",
       "      <td>0</td>\n",
       "      <td>34</td>\n",
       "      <td>29239</td>\n",
       "      <td>14027</td>\n",
       "      <td>13559</td>\n",
       "      <td>14331</td>\n",
       "      <td>14948</td>\n",
       "      <td>15549</td>\n",
       "      <td>...</td>\n",
       "      <td>0</td>\n",
       "      <td>0</td>\n",
       "      <td>1</td>\n",
       "      <td>0</td>\n",
       "      <td>0</td>\n",
       "      <td>0</td>\n",
       "      <td>0</td>\n",
       "      <td>0</td>\n",
       "      <td>0</td>\n",
       "      <td>0</td>\n",
       "    </tr>\n",
       "    <tr>\n",
       "      <th>3</th>\n",
       "      <td>4</td>\n",
       "      <td>50000</td>\n",
       "      <td>0</td>\n",
       "      <td>37</td>\n",
       "      <td>46990</td>\n",
       "      <td>48233</td>\n",
       "      <td>49291</td>\n",
       "      <td>28314</td>\n",
       "      <td>28959</td>\n",
       "      <td>29547</td>\n",
       "      <td>...</td>\n",
       "      <td>0</td>\n",
       "      <td>0</td>\n",
       "      <td>1</td>\n",
       "      <td>0</td>\n",
       "      <td>0</td>\n",
       "      <td>0</td>\n",
       "      <td>0</td>\n",
       "      <td>0</td>\n",
       "      <td>0</td>\n",
       "      <td>0</td>\n",
       "    </tr>\n",
       "    <tr>\n",
       "      <th>4</th>\n",
       "      <td>5</td>\n",
       "      <td>50000</td>\n",
       "      <td>1</td>\n",
       "      <td>57</td>\n",
       "      <td>8617</td>\n",
       "      <td>5670</td>\n",
       "      <td>35835</td>\n",
       "      <td>20940</td>\n",
       "      <td>19146</td>\n",
       "      <td>19131</td>\n",
       "      <td>...</td>\n",
       "      <td>0</td>\n",
       "      <td>0</td>\n",
       "      <td>1</td>\n",
       "      <td>0</td>\n",
       "      <td>0</td>\n",
       "      <td>0</td>\n",
       "      <td>0</td>\n",
       "      <td>0</td>\n",
       "      <td>0</td>\n",
       "      <td>0</td>\n",
       "    </tr>\n",
       "  </tbody>\n",
       "</table>\n",
       "<p>5 rows × 82 columns</p>\n",
       "</div>"
      ],
      "text/plain": [
       "   ID  LIMIT_BAL  SEX  AGE  sept_bill_amt  aug_bill_amt  jul_bill_amt  \\\n",
       "0   1      20000    0   24           3913          3102           689   \n",
       "1   2     120000    0   26           2682          1725          2682   \n",
       "2   3      90000    0   34          29239         14027         13559   \n",
       "3   4      50000    0   37          46990         48233         49291   \n",
       "4   5      50000    1   57           8617          5670         35835   \n",
       "\n",
       "   jun_bill_amt  may_bill_amt  apr_bill_amt  ...  may_pay_8  apr_pay_-1  \\\n",
       "0             0             0             0  ...          0           0   \n",
       "1          3272          3455          3261  ...          0           0   \n",
       "2         14331         14948         15549  ...          0           0   \n",
       "3         28314         28959         29547  ...          0           0   \n",
       "4         20940         19146         19131  ...          0           0   \n",
       "\n",
       "   apr_pay_0  apr_pay_2  apr_pay_3  apr_pay_4  apr_pay_5  apr_pay_6  \\\n",
       "0          0          0          0          0          0          0   \n",
       "1          0          1          0          0          0          0   \n",
       "2          1          0          0          0          0          0   \n",
       "3          1          0          0          0          0          0   \n",
       "4          1          0          0          0          0          0   \n",
       "\n",
       "   apr_pay_7  apr_pay_8  \n",
       "0          0          0  \n",
       "1          0          0  \n",
       "2          0          0  \n",
       "3          0          0  \n",
       "4          0          0  \n",
       "\n",
       "[5 rows x 82 columns]"
      ]
     },
     "execution_count": 42,
     "metadata": {},
     "output_type": "execute_result"
    }
   ],
   "source": [
    "cc_update.head()"
   ]
  },
  {
   "cell_type": "code",
   "execution_count": 43,
   "id": "2d44152d",
   "metadata": {
    "execution": {
     "iopub.execute_input": "2022-10-07T16:30:21.660832Z",
     "iopub.status.busy": "2022-10-07T16:30:21.660391Z",
     "iopub.status.idle": "2022-10-07T16:30:21.675650Z",
     "shell.execute_reply": "2022-10-07T16:30:21.674587Z",
     "shell.execute_reply.started": "2022-10-07T16:30:21.660797Z"
    },
    "id": "pY-pxkjW-_3N"
   },
   "outputs": [],
   "source": [
    "cc_update.drop('ID',axis = 1, inplace = True)"
   ]
  },
  {
   "cell_type": "code",
   "execution_count": 44,
   "id": "85ac56e8",
   "metadata": {
    "execution": {
     "iopub.execute_input": "2022-10-07T16:30:22.283434Z",
     "iopub.status.busy": "2022-10-07T16:30:22.283011Z",
     "iopub.status.idle": "2022-10-07T16:30:23.011890Z",
     "shell.execute_reply": "2022-10-07T16:30:23.010873Z",
     "shell.execute_reply.started": "2022-10-07T16:30:22.283403Z"
    },
    "id": "u3akrJenkb1z"
   },
   "outputs": [],
   "source": [
    "cc_update.to_csv('Final_cc_df.csv')"
   ]
  },
  {
   "cell_type": "code",
   "execution_count": 45,
   "id": "17dc72cc",
   "metadata": {
    "execution": {
     "iopub.execute_input": "2022-10-07T16:30:23.014083Z",
     "iopub.status.busy": "2022-10-07T16:30:23.013743Z",
     "iopub.status.idle": "2022-10-07T16:30:23.341596Z",
     "shell.execute_reply": "2022-10-07T16:30:23.340594Z",
     "shell.execute_reply.started": "2022-10-07T16:30:23.014047Z"
    },
    "id": "p1gwu1vy58gv"
   },
   "outputs": [],
   "source": [
    "cc_update = pd.read_csv('./Final_cc_df.csv')\n"
   ]
  },
  {
   "cell_type": "code",
   "execution_count": 46,
   "id": "c95363c8",
   "metadata": {
    "colab": {
     "base_uri": "https://localhost:8080/",
     "height": 317
    },
    "execution": {
     "iopub.execute_input": "2022-10-07T16:30:23.625592Z",
     "iopub.status.busy": "2022-10-07T16:30:23.624914Z",
     "iopub.status.idle": "2022-10-07T16:30:23.644531Z",
     "shell.execute_reply": "2022-10-07T16:30:23.643093Z",
     "shell.execute_reply.started": "2022-10-07T16:30:23.625559Z"
    },
    "id": "OY1jmIlm6XVp",
    "outputId": "9bc68b50-cbd8-438c-f750-d4a75135074c"
   },
   "outputs": [
    {
     "data": {
      "text/html": [
       "<div>\n",
       "<style scoped>\n",
       "    .dataframe tbody tr th:only-of-type {\n",
       "        vertical-align: middle;\n",
       "    }\n",
       "\n",
       "    .dataframe tbody tr th {\n",
       "        vertical-align: top;\n",
       "    }\n",
       "\n",
       "    .dataframe thead th {\n",
       "        text-align: right;\n",
       "    }\n",
       "</style>\n",
       "<table border=\"1\" class=\"dataframe\">\n",
       "  <thead>\n",
       "    <tr style=\"text-align: right;\">\n",
       "      <th></th>\n",
       "      <th>Unnamed: 0</th>\n",
       "      <th>LIMIT_BAL</th>\n",
       "      <th>SEX</th>\n",
       "      <th>AGE</th>\n",
       "      <th>sept_bill_amt</th>\n",
       "      <th>aug_bill_amt</th>\n",
       "      <th>jul_bill_amt</th>\n",
       "      <th>jun_bill_amt</th>\n",
       "      <th>may_bill_amt</th>\n",
       "      <th>apr_bill_amt</th>\n",
       "      <th>...</th>\n",
       "      <th>may_pay_8</th>\n",
       "      <th>apr_pay_-1</th>\n",
       "      <th>apr_pay_0</th>\n",
       "      <th>apr_pay_2</th>\n",
       "      <th>apr_pay_3</th>\n",
       "      <th>apr_pay_4</th>\n",
       "      <th>apr_pay_5</th>\n",
       "      <th>apr_pay_6</th>\n",
       "      <th>apr_pay_7</th>\n",
       "      <th>apr_pay_8</th>\n",
       "    </tr>\n",
       "  </thead>\n",
       "  <tbody>\n",
       "    <tr>\n",
       "      <th>0</th>\n",
       "      <td>0</td>\n",
       "      <td>20000</td>\n",
       "      <td>0</td>\n",
       "      <td>24</td>\n",
       "      <td>3913</td>\n",
       "      <td>3102</td>\n",
       "      <td>689</td>\n",
       "      <td>0</td>\n",
       "      <td>0</td>\n",
       "      <td>0</td>\n",
       "      <td>...</td>\n",
       "      <td>0</td>\n",
       "      <td>0</td>\n",
       "      <td>0</td>\n",
       "      <td>0</td>\n",
       "      <td>0</td>\n",
       "      <td>0</td>\n",
       "      <td>0</td>\n",
       "      <td>0</td>\n",
       "      <td>0</td>\n",
       "      <td>0</td>\n",
       "    </tr>\n",
       "    <tr>\n",
       "      <th>1</th>\n",
       "      <td>1</td>\n",
       "      <td>120000</td>\n",
       "      <td>0</td>\n",
       "      <td>26</td>\n",
       "      <td>2682</td>\n",
       "      <td>1725</td>\n",
       "      <td>2682</td>\n",
       "      <td>3272</td>\n",
       "      <td>3455</td>\n",
       "      <td>3261</td>\n",
       "      <td>...</td>\n",
       "      <td>0</td>\n",
       "      <td>0</td>\n",
       "      <td>0</td>\n",
       "      <td>1</td>\n",
       "      <td>0</td>\n",
       "      <td>0</td>\n",
       "      <td>0</td>\n",
       "      <td>0</td>\n",
       "      <td>0</td>\n",
       "      <td>0</td>\n",
       "    </tr>\n",
       "    <tr>\n",
       "      <th>2</th>\n",
       "      <td>2</td>\n",
       "      <td>90000</td>\n",
       "      <td>0</td>\n",
       "      <td>34</td>\n",
       "      <td>29239</td>\n",
       "      <td>14027</td>\n",
       "      <td>13559</td>\n",
       "      <td>14331</td>\n",
       "      <td>14948</td>\n",
       "      <td>15549</td>\n",
       "      <td>...</td>\n",
       "      <td>0</td>\n",
       "      <td>0</td>\n",
       "      <td>1</td>\n",
       "      <td>0</td>\n",
       "      <td>0</td>\n",
       "      <td>0</td>\n",
       "      <td>0</td>\n",
       "      <td>0</td>\n",
       "      <td>0</td>\n",
       "      <td>0</td>\n",
       "    </tr>\n",
       "    <tr>\n",
       "      <th>3</th>\n",
       "      <td>3</td>\n",
       "      <td>50000</td>\n",
       "      <td>0</td>\n",
       "      <td>37</td>\n",
       "      <td>46990</td>\n",
       "      <td>48233</td>\n",
       "      <td>49291</td>\n",
       "      <td>28314</td>\n",
       "      <td>28959</td>\n",
       "      <td>29547</td>\n",
       "      <td>...</td>\n",
       "      <td>0</td>\n",
       "      <td>0</td>\n",
       "      <td>1</td>\n",
       "      <td>0</td>\n",
       "      <td>0</td>\n",
       "      <td>0</td>\n",
       "      <td>0</td>\n",
       "      <td>0</td>\n",
       "      <td>0</td>\n",
       "      <td>0</td>\n",
       "    </tr>\n",
       "    <tr>\n",
       "      <th>4</th>\n",
       "      <td>4</td>\n",
       "      <td>50000</td>\n",
       "      <td>1</td>\n",
       "      <td>57</td>\n",
       "      <td>8617</td>\n",
       "      <td>5670</td>\n",
       "      <td>35835</td>\n",
       "      <td>20940</td>\n",
       "      <td>19146</td>\n",
       "      <td>19131</td>\n",
       "      <td>...</td>\n",
       "      <td>0</td>\n",
       "      <td>0</td>\n",
       "      <td>1</td>\n",
       "      <td>0</td>\n",
       "      <td>0</td>\n",
       "      <td>0</td>\n",
       "      <td>0</td>\n",
       "      <td>0</td>\n",
       "      <td>0</td>\n",
       "      <td>0</td>\n",
       "    </tr>\n",
       "  </tbody>\n",
       "</table>\n",
       "<p>5 rows × 82 columns</p>\n",
       "</div>"
      ],
      "text/plain": [
       "   Unnamed: 0  LIMIT_BAL  SEX  AGE  sept_bill_amt  aug_bill_amt  jul_bill_amt  \\\n",
       "0           0      20000    0   24           3913          3102           689   \n",
       "1           1     120000    0   26           2682          1725          2682   \n",
       "2           2      90000    0   34          29239         14027         13559   \n",
       "3           3      50000    0   37          46990         48233         49291   \n",
       "4           4      50000    1   57           8617          5670         35835   \n",
       "\n",
       "   jun_bill_amt  may_bill_amt  apr_bill_amt  ...  may_pay_8  apr_pay_-1  \\\n",
       "0             0             0             0  ...          0           0   \n",
       "1          3272          3455          3261  ...          0           0   \n",
       "2         14331         14948         15549  ...          0           0   \n",
       "3         28314         28959         29547  ...          0           0   \n",
       "4         20940         19146         19131  ...          0           0   \n",
       "\n",
       "   apr_pay_0  apr_pay_2  apr_pay_3  apr_pay_4  apr_pay_5  apr_pay_6  \\\n",
       "0          0          0          0          0          0          0   \n",
       "1          0          1          0          0          0          0   \n",
       "2          1          0          0          0          0          0   \n",
       "3          1          0          0          0          0          0   \n",
       "4          1          0          0          0          0          0   \n",
       "\n",
       "   apr_pay_7  apr_pay_8  \n",
       "0          0          0  \n",
       "1          0          0  \n",
       "2          0          0  \n",
       "3          0          0  \n",
       "4          0          0  \n",
       "\n",
       "[5 rows x 82 columns]"
      ]
     },
     "execution_count": 46,
     "metadata": {},
     "output_type": "execute_result"
    }
   ],
   "source": [
    "cc_update.head()"
   ]
  },
  {
   "cell_type": "code",
   "execution_count": 47,
   "id": "71006b6c",
   "metadata": {
    "execution": {
     "iopub.execute_input": "2022-10-07T16:30:24.375693Z",
     "iopub.status.busy": "2022-10-07T16:30:24.375231Z",
     "iopub.status.idle": "2022-10-07T16:30:24.397430Z",
     "shell.execute_reply": "2022-10-07T16:30:24.396162Z",
     "shell.execute_reply.started": "2022-10-07T16:30:24.375654Z"
    },
    "id": "hXAx2KGF6nNd"
   },
   "outputs": [],
   "source": [
    "cc_update.drop(['Unnamed: 0'],axis = 1, inplace = True)"
   ]
  },
  {
   "cell_type": "markdown",
   "id": "85b8adc2",
   "metadata": {},
   "source": [
    "## Model Building"
   ]
  },
  {
   "cell_type": "markdown",
   "id": "cb1dcf10",
   "metadata": {},
   "source": [
    "### Logistic Regression"
   ]
  },
  {
   "cell_type": "code",
   "execution_count": 71,
   "id": "8b8effe9",
   "metadata": {
    "execution": {
     "iopub.execute_input": "2022-10-07T16:30:25.955895Z",
     "iopub.status.busy": "2022-10-07T16:30:25.955462Z",
     "iopub.status.idle": "2022-10-07T16:30:25.980792Z",
     "shell.execute_reply": "2022-10-07T16:30:25.979801Z",
     "shell.execute_reply.started": "2022-10-07T16:30:25.955862Z"
    },
    "id": "i5K41oL3i2jP"
   },
   "outputs": [],
   "source": [
    "df_log_reg = cc_update.copy()"
   ]
  },
  {
   "cell_type": "code",
   "execution_count": 72,
   "id": "3ca3f72d",
   "metadata": {
    "colab": {
     "base_uri": "https://localhost:8080/",
     "height": 299
    },
    "execution": {
     "iopub.execute_input": "2022-10-07T16:30:26.457377Z",
     "iopub.status.busy": "2022-10-07T16:30:26.456958Z",
     "iopub.status.idle": "2022-10-07T16:30:26.475950Z",
     "shell.execute_reply": "2022-10-07T16:30:26.474726Z",
     "shell.execute_reply.started": "2022-10-07T16:30:26.457343Z"
    },
    "id": "OU67tAIJ_YXN",
    "outputId": "a0e8340c-8236-45c1-8c99-2987b1575f9a"
   },
   "outputs": [
    {
     "data": {
      "text/html": [
       "<div>\n",
       "<style scoped>\n",
       "    .dataframe tbody tr th:only-of-type {\n",
       "        vertical-align: middle;\n",
       "    }\n",
       "\n",
       "    .dataframe tbody tr th {\n",
       "        vertical-align: top;\n",
       "    }\n",
       "\n",
       "    .dataframe thead th {\n",
       "        text-align: right;\n",
       "    }\n",
       "</style>\n",
       "<table border=\"1\" class=\"dataframe\">\n",
       "  <thead>\n",
       "    <tr style=\"text-align: right;\">\n",
       "      <th></th>\n",
       "      <th>LIMIT_BAL</th>\n",
       "      <th>SEX</th>\n",
       "      <th>AGE</th>\n",
       "      <th>sept_bill_amt</th>\n",
       "      <th>aug_bill_amt</th>\n",
       "      <th>jul_bill_amt</th>\n",
       "      <th>jun_bill_amt</th>\n",
       "      <th>may_bill_amt</th>\n",
       "      <th>apr_bill_amt</th>\n",
       "      <th>sept_pay_amt</th>\n",
       "      <th>...</th>\n",
       "      <th>may_pay_8</th>\n",
       "      <th>apr_pay_-1</th>\n",
       "      <th>apr_pay_0</th>\n",
       "      <th>apr_pay_2</th>\n",
       "      <th>apr_pay_3</th>\n",
       "      <th>apr_pay_4</th>\n",
       "      <th>apr_pay_5</th>\n",
       "      <th>apr_pay_6</th>\n",
       "      <th>apr_pay_7</th>\n",
       "      <th>apr_pay_8</th>\n",
       "    </tr>\n",
       "  </thead>\n",
       "  <tbody>\n",
       "    <tr>\n",
       "      <th>0</th>\n",
       "      <td>20000</td>\n",
       "      <td>0</td>\n",
       "      <td>24</td>\n",
       "      <td>3913</td>\n",
       "      <td>3102</td>\n",
       "      <td>689</td>\n",
       "      <td>0</td>\n",
       "      <td>0</td>\n",
       "      <td>0</td>\n",
       "      <td>0</td>\n",
       "      <td>...</td>\n",
       "      <td>0</td>\n",
       "      <td>0</td>\n",
       "      <td>0</td>\n",
       "      <td>0</td>\n",
       "      <td>0</td>\n",
       "      <td>0</td>\n",
       "      <td>0</td>\n",
       "      <td>0</td>\n",
       "      <td>0</td>\n",
       "      <td>0</td>\n",
       "    </tr>\n",
       "    <tr>\n",
       "      <th>1</th>\n",
       "      <td>120000</td>\n",
       "      <td>0</td>\n",
       "      <td>26</td>\n",
       "      <td>2682</td>\n",
       "      <td>1725</td>\n",
       "      <td>2682</td>\n",
       "      <td>3272</td>\n",
       "      <td>3455</td>\n",
       "      <td>3261</td>\n",
       "      <td>0</td>\n",
       "      <td>...</td>\n",
       "      <td>0</td>\n",
       "      <td>0</td>\n",
       "      <td>0</td>\n",
       "      <td>1</td>\n",
       "      <td>0</td>\n",
       "      <td>0</td>\n",
       "      <td>0</td>\n",
       "      <td>0</td>\n",
       "      <td>0</td>\n",
       "      <td>0</td>\n",
       "    </tr>\n",
       "    <tr>\n",
       "      <th>2</th>\n",
       "      <td>90000</td>\n",
       "      <td>0</td>\n",
       "      <td>34</td>\n",
       "      <td>29239</td>\n",
       "      <td>14027</td>\n",
       "      <td>13559</td>\n",
       "      <td>14331</td>\n",
       "      <td>14948</td>\n",
       "      <td>15549</td>\n",
       "      <td>1518</td>\n",
       "      <td>...</td>\n",
       "      <td>0</td>\n",
       "      <td>0</td>\n",
       "      <td>1</td>\n",
       "      <td>0</td>\n",
       "      <td>0</td>\n",
       "      <td>0</td>\n",
       "      <td>0</td>\n",
       "      <td>0</td>\n",
       "      <td>0</td>\n",
       "      <td>0</td>\n",
       "    </tr>\n",
       "    <tr>\n",
       "      <th>3</th>\n",
       "      <td>50000</td>\n",
       "      <td>0</td>\n",
       "      <td>37</td>\n",
       "      <td>46990</td>\n",
       "      <td>48233</td>\n",
       "      <td>49291</td>\n",
       "      <td>28314</td>\n",
       "      <td>28959</td>\n",
       "      <td>29547</td>\n",
       "      <td>2000</td>\n",
       "      <td>...</td>\n",
       "      <td>0</td>\n",
       "      <td>0</td>\n",
       "      <td>1</td>\n",
       "      <td>0</td>\n",
       "      <td>0</td>\n",
       "      <td>0</td>\n",
       "      <td>0</td>\n",
       "      <td>0</td>\n",
       "      <td>0</td>\n",
       "      <td>0</td>\n",
       "    </tr>\n",
       "    <tr>\n",
       "      <th>4</th>\n",
       "      <td>50000</td>\n",
       "      <td>1</td>\n",
       "      <td>57</td>\n",
       "      <td>8617</td>\n",
       "      <td>5670</td>\n",
       "      <td>35835</td>\n",
       "      <td>20940</td>\n",
       "      <td>19146</td>\n",
       "      <td>19131</td>\n",
       "      <td>2000</td>\n",
       "      <td>...</td>\n",
       "      <td>0</td>\n",
       "      <td>0</td>\n",
       "      <td>1</td>\n",
       "      <td>0</td>\n",
       "      <td>0</td>\n",
       "      <td>0</td>\n",
       "      <td>0</td>\n",
       "      <td>0</td>\n",
       "      <td>0</td>\n",
       "      <td>0</td>\n",
       "    </tr>\n",
       "  </tbody>\n",
       "</table>\n",
       "<p>5 rows × 81 columns</p>\n",
       "</div>"
      ],
      "text/plain": [
       "   LIMIT_BAL  SEX  AGE  sept_bill_amt  aug_bill_amt  jul_bill_amt  \\\n",
       "0      20000    0   24           3913          3102           689   \n",
       "1     120000    0   26           2682          1725          2682   \n",
       "2      90000    0   34          29239         14027         13559   \n",
       "3      50000    0   37          46990         48233         49291   \n",
       "4      50000    1   57           8617          5670         35835   \n",
       "\n",
       "   jun_bill_amt  may_bill_amt  apr_bill_amt  sept_pay_amt  ...  may_pay_8  \\\n",
       "0             0             0             0             0  ...          0   \n",
       "1          3272          3455          3261             0  ...          0   \n",
       "2         14331         14948         15549          1518  ...          0   \n",
       "3         28314         28959         29547          2000  ...          0   \n",
       "4         20940         19146         19131          2000  ...          0   \n",
       "\n",
       "   apr_pay_-1  apr_pay_0  apr_pay_2  apr_pay_3  apr_pay_4  apr_pay_5  \\\n",
       "0           0          0          0          0          0          0   \n",
       "1           0          0          1          0          0          0   \n",
       "2           0          1          0          0          0          0   \n",
       "3           0          1          0          0          0          0   \n",
       "4           0          1          0          0          0          0   \n",
       "\n",
       "   apr_pay_6  apr_pay_7  apr_pay_8  \n",
       "0          0          0          0  \n",
       "1          0          0          0  \n",
       "2          0          0          0  \n",
       "3          0          0          0  \n",
       "4          0          0          0  \n",
       "\n",
       "[5 rows x 81 columns]"
      ]
     },
     "execution_count": 72,
     "metadata": {},
     "output_type": "execute_result"
    }
   ],
   "source": [
    "df_log_reg.head()"
   ]
  },
  {
   "cell_type": "code",
   "execution_count": 73,
   "id": "80a81b37",
   "metadata": {
    "execution": {
     "iopub.execute_input": "2022-10-07T16:30:26.896420Z",
     "iopub.status.busy": "2022-10-07T16:30:26.896023Z",
     "iopub.status.idle": "2022-10-07T16:30:26.917111Z",
     "shell.execute_reply": "2022-10-07T16:30:26.915839Z",
     "shell.execute_reply.started": "2022-10-07T16:30:26.896389Z"
    },
    "id": "bC4xfWDLirx1"
   },
   "outputs": [],
   "source": [
    "X = df_log_reg.drop(['willdefault','Payement_Value','Dues'],axis=1)\n",
    "y = df_log_reg['willdefault']"
   ]
  },
  {
   "cell_type": "code",
   "execution_count": 74,
   "id": "67690596",
   "metadata": {
    "execution": {
     "iopub.execute_input": "2022-10-07T16:30:27.810963Z",
     "iopub.status.busy": "2022-10-07T16:30:27.810140Z",
     "iopub.status.idle": "2022-10-07T16:30:27.815482Z",
     "shell.execute_reply": "2022-10-07T16:30:27.814373Z",
     "shell.execute_reply.started": "2022-10-07T16:30:27.810922Z"
    },
    "id": "MvU-FXpWFJM4"
   },
   "outputs": [],
   "source": [
    "columns = X.columns"
   ]
  },
  {
   "cell_type": "code",
   "execution_count": 75,
   "id": "5a172a30",
   "metadata": {
    "execution": {
     "iopub.execute_input": "2022-10-07T16:30:28.327941Z",
     "iopub.status.busy": "2022-10-07T16:30:28.327234Z",
     "iopub.status.idle": "2022-10-07T16:30:28.411635Z",
     "shell.execute_reply": "2022-10-07T16:30:28.410367Z",
     "shell.execute_reply.started": "2022-10-07T16:30:28.327896Z"
    },
    "id": "3fsT0icukm9-"
   },
   "outputs": [],
   "source": [
    "scaler = StandardScaler()\n",
    "X = scaler.fit_transform(X)"
   ]
  },
  {
   "cell_type": "code",
   "execution_count": 76,
   "id": "3b797def",
   "metadata": {
    "execution": {
     "iopub.execute_input": "2022-10-07T16:30:28.833506Z",
     "iopub.status.busy": "2022-10-07T16:30:28.833079Z",
     "iopub.status.idle": "2022-10-07T16:30:28.901225Z",
     "shell.execute_reply": "2022-10-07T16:30:28.900046Z",
     "shell.execute_reply.started": "2022-10-07T16:30:28.833472Z"
    },
    "id": "xNHtg165FvsR"
   },
   "outputs": [],
   "source": [
    "X_train, X_test, y_train, y_test = train_test_split(X, y, test_size=0.3, random_state=1, stratify = y)"
   ]
  },
  {
   "cell_type": "code",
   "execution_count": 77,
   "id": "b7bb164c",
   "metadata": {
    "execution": {
     "iopub.execute_input": "2022-10-07T16:30:29.326393Z",
     "iopub.status.busy": "2022-10-07T16:30:29.325956Z",
     "iopub.status.idle": "2022-10-07T16:30:29.333014Z",
     "shell.execute_reply": "2022-10-07T16:30:29.331672Z",
     "shell.execute_reply.started": "2022-10-07T16:30:29.326357Z"
    },
    "id": "p_9kXl7klTsb"
   },
   "outputs": [],
   "source": [
    "param_grid = {'penalty':['l1','l2'], 'C' : [0.001, 0.01, 0.1, 1, 10, 100, 1000] }"
   ]
  },
  {
   "cell_type": "code",
   "execution_count": 78,
   "id": "a4145daa",
   "metadata": {
    "colab": {
     "base_uri": "https://localhost:8080/"
    },
    "execution": {
     "iopub.execute_input": "2022-10-07T16:30:29.751461Z",
     "iopub.status.busy": "2022-10-07T16:30:29.751063Z",
     "iopub.status.idle": "2022-10-07T16:30:33.559257Z",
     "shell.execute_reply": "2022-10-07T16:30:33.557354Z",
     "shell.execute_reply.started": "2022-10-07T16:30:29.751430Z"
    },
    "id": "x6LHRiULpWe3",
    "outputId": "3f97a754-1aa4-4786-c43d-608e3a837e67"
   },
   "outputs": [
    {
     "name": "stdout",
     "output_type": "stream",
     "text": [
      "Fitting 3 folds for each of 14 candidates, totalling 42 fits\n"
     ]
    },
    {
     "data": {
      "text/html": [
       "<style>#sk-container-id-7 {color: black;background-color: white;}#sk-container-id-7 pre{padding: 0;}#sk-container-id-7 div.sk-toggleable {background-color: white;}#sk-container-id-7 label.sk-toggleable__label {cursor: pointer;display: block;width: 100%;margin-bottom: 0;padding: 0.3em;box-sizing: border-box;text-align: center;}#sk-container-id-7 label.sk-toggleable__label-arrow:before {content: \"▸\";float: left;margin-right: 0.25em;color: #696969;}#sk-container-id-7 label.sk-toggleable__label-arrow:hover:before {color: black;}#sk-container-id-7 div.sk-estimator:hover label.sk-toggleable__label-arrow:before {color: black;}#sk-container-id-7 div.sk-toggleable__content {max-height: 0;max-width: 0;overflow: hidden;text-align: left;background-color: #f0f8ff;}#sk-container-id-7 div.sk-toggleable__content pre {margin: 0.2em;color: black;border-radius: 0.25em;background-color: #f0f8ff;}#sk-container-id-7 input.sk-toggleable__control:checked~div.sk-toggleable__content {max-height: 200px;max-width: 100%;overflow: auto;}#sk-container-id-7 input.sk-toggleable__control:checked~label.sk-toggleable__label-arrow:before {content: \"▾\";}#sk-container-id-7 div.sk-estimator input.sk-toggleable__control:checked~label.sk-toggleable__label {background-color: #d4ebff;}#sk-container-id-7 div.sk-label input.sk-toggleable__control:checked~label.sk-toggleable__label {background-color: #d4ebff;}#sk-container-id-7 input.sk-hidden--visually {border: 0;clip: rect(1px 1px 1px 1px);clip: rect(1px, 1px, 1px, 1px);height: 1px;margin: -1px;overflow: hidden;padding: 0;position: absolute;width: 1px;}#sk-container-id-7 div.sk-estimator {font-family: monospace;background-color: #f0f8ff;border: 1px dotted black;border-radius: 0.25em;box-sizing: border-box;margin-bottom: 0.5em;}#sk-container-id-7 div.sk-estimator:hover {background-color: #d4ebff;}#sk-container-id-7 div.sk-parallel-item::after {content: \"\";width: 100%;border-bottom: 1px solid gray;flex-grow: 1;}#sk-container-id-7 div.sk-label:hover label.sk-toggleable__label {background-color: #d4ebff;}#sk-container-id-7 div.sk-serial::before {content: \"\";position: absolute;border-left: 1px solid gray;box-sizing: border-box;top: 0;bottom: 0;left: 50%;z-index: 0;}#sk-container-id-7 div.sk-serial {display: flex;flex-direction: column;align-items: center;background-color: white;padding-right: 0.2em;padding-left: 0.2em;position: relative;}#sk-container-id-7 div.sk-item {position: relative;z-index: 1;}#sk-container-id-7 div.sk-parallel {display: flex;align-items: stretch;justify-content: center;background-color: white;position: relative;}#sk-container-id-7 div.sk-item::before, #sk-container-id-7 div.sk-parallel-item::before {content: \"\";position: absolute;border-left: 1px solid gray;box-sizing: border-box;top: 0;bottom: 0;left: 50%;z-index: -1;}#sk-container-id-7 div.sk-parallel-item {display: flex;flex-direction: column;z-index: 1;position: relative;background-color: white;}#sk-container-id-7 div.sk-parallel-item:first-child::after {align-self: flex-end;width: 50%;}#sk-container-id-7 div.sk-parallel-item:last-child::after {align-self: flex-start;width: 50%;}#sk-container-id-7 div.sk-parallel-item:only-child::after {width: 0;}#sk-container-id-7 div.sk-dashed-wrapped {border: 1px dashed gray;margin: 0 0.4em 0.5em 0.4em;box-sizing: border-box;padding-bottom: 0.4em;background-color: white;}#sk-container-id-7 div.sk-label label {font-family: monospace;font-weight: bold;display: inline-block;line-height: 1.2em;}#sk-container-id-7 div.sk-label-container {text-align: center;}#sk-container-id-7 div.sk-container {/* jupyter's `normalize.less` sets `[hidden] { display: none; }` but bootstrap.min.css set `[hidden] { display: none !important; }` so we also need the `!important` here to be able to override the default hidden behavior on the sphinx rendered scikit-learn.org. See: https://github.com/scikit-learn/scikit-learn/issues/21755 */display: inline-block !important;position: relative;}#sk-container-id-7 div.sk-text-repr-fallback {display: none;}</style><div id=\"sk-container-id-7\" class=\"sk-top-container\"><div class=\"sk-text-repr-fallback\"><pre>GridSearchCV(cv=3, estimator=LogisticRegression(), n_jobs=-1,\n",
       "             param_grid={&#x27;C&#x27;: [0.001, 0.01, 0.1, 1, 10, 100, 1000],\n",
       "                         &#x27;penalty&#x27;: [&#x27;l1&#x27;, &#x27;l2&#x27;]},\n",
       "             scoring=&#x27;accuracy&#x27;, verbose=3)</pre><b>In a Jupyter environment, please rerun this cell to show the HTML representation or trust the notebook. <br />On GitHub, the HTML representation is unable to render, please try loading this page with nbviewer.org.</b></div><div class=\"sk-container\" hidden><div class=\"sk-item sk-dashed-wrapped\"><div class=\"sk-label-container\"><div class=\"sk-label sk-toggleable\"><input class=\"sk-toggleable__control sk-hidden--visually\" id=\"sk-estimator-id-13\" type=\"checkbox\" ><label for=\"sk-estimator-id-13\" class=\"sk-toggleable__label sk-toggleable__label-arrow\">GridSearchCV</label><div class=\"sk-toggleable__content\"><pre>GridSearchCV(cv=3, estimator=LogisticRegression(), n_jobs=-1,\n",
       "             param_grid={&#x27;C&#x27;: [0.001, 0.01, 0.1, 1, 10, 100, 1000],\n",
       "                         &#x27;penalty&#x27;: [&#x27;l1&#x27;, &#x27;l2&#x27;]},\n",
       "             scoring=&#x27;accuracy&#x27;, verbose=3)</pre></div></div></div><div class=\"sk-parallel\"><div class=\"sk-parallel-item\"><div class=\"sk-item\"><div class=\"sk-label-container\"><div class=\"sk-label sk-toggleable\"><input class=\"sk-toggleable__control sk-hidden--visually\" id=\"sk-estimator-id-14\" type=\"checkbox\" ><label for=\"sk-estimator-id-14\" class=\"sk-toggleable__label sk-toggleable__label-arrow\">estimator: LogisticRegression</label><div class=\"sk-toggleable__content\"><pre>LogisticRegression()</pre></div></div></div><div class=\"sk-serial\"><div class=\"sk-item\"><div class=\"sk-estimator sk-toggleable\"><input class=\"sk-toggleable__control sk-hidden--visually\" id=\"sk-estimator-id-15\" type=\"checkbox\" ><label for=\"sk-estimator-id-15\" class=\"sk-toggleable__label sk-toggleable__label-arrow\">LogisticRegression</label><div class=\"sk-toggleable__content\"><pre>LogisticRegression()</pre></div></div></div></div></div></div></div></div></div></div>"
      ],
      "text/plain": [
       "GridSearchCV(cv=3, estimator=LogisticRegression(), n_jobs=-1,\n",
       "             param_grid={'C': [0.001, 0.01, 0.1, 1, 10, 100, 1000],\n",
       "                         'penalty': ['l1', 'l2']},\n",
       "             scoring='accuracy', verbose=3)"
      ]
     },
     "execution_count": 78,
     "metadata": {},
     "output_type": "execute_result"
    }
   ],
   "source": [
    "grid_lr_clf = GridSearchCV(LogisticRegression(), param_grid, scoring = 'accuracy', n_jobs = -1, verbose = 3, cv = 3)\n",
    "grid_lr_clf.fit(X_train, y_train)"
   ]
  },
  {
   "cell_type": "code",
   "execution_count": 79,
   "id": "d36e05e7",
   "metadata": {
    "execution": {
     "iopub.execute_input": "2022-10-07T16:30:33.573938Z",
     "iopub.status.busy": "2022-10-07T16:30:33.568521Z",
     "iopub.status.idle": "2022-10-07T16:30:33.584940Z",
     "shell.execute_reply": "2022-10-07T16:30:33.583179Z",
     "shell.execute_reply.started": "2022-10-07T16:30:33.573831Z"
    },
    "id": "MNNOnMAEp7TH"
   },
   "outputs": [
    {
     "data": {
      "text/html": [
       "<style>#sk-container-id-8 {color: black;background-color: white;}#sk-container-id-8 pre{padding: 0;}#sk-container-id-8 div.sk-toggleable {background-color: white;}#sk-container-id-8 label.sk-toggleable__label {cursor: pointer;display: block;width: 100%;margin-bottom: 0;padding: 0.3em;box-sizing: border-box;text-align: center;}#sk-container-id-8 label.sk-toggleable__label-arrow:before {content: \"▸\";float: left;margin-right: 0.25em;color: #696969;}#sk-container-id-8 label.sk-toggleable__label-arrow:hover:before {color: black;}#sk-container-id-8 div.sk-estimator:hover label.sk-toggleable__label-arrow:before {color: black;}#sk-container-id-8 div.sk-toggleable__content {max-height: 0;max-width: 0;overflow: hidden;text-align: left;background-color: #f0f8ff;}#sk-container-id-8 div.sk-toggleable__content pre {margin: 0.2em;color: black;border-radius: 0.25em;background-color: #f0f8ff;}#sk-container-id-8 input.sk-toggleable__control:checked~div.sk-toggleable__content {max-height: 200px;max-width: 100%;overflow: auto;}#sk-container-id-8 input.sk-toggleable__control:checked~label.sk-toggleable__label-arrow:before {content: \"▾\";}#sk-container-id-8 div.sk-estimator input.sk-toggleable__control:checked~label.sk-toggleable__label {background-color: #d4ebff;}#sk-container-id-8 div.sk-label input.sk-toggleable__control:checked~label.sk-toggleable__label {background-color: #d4ebff;}#sk-container-id-8 input.sk-hidden--visually {border: 0;clip: rect(1px 1px 1px 1px);clip: rect(1px, 1px, 1px, 1px);height: 1px;margin: -1px;overflow: hidden;padding: 0;position: absolute;width: 1px;}#sk-container-id-8 div.sk-estimator {font-family: monospace;background-color: #f0f8ff;border: 1px dotted black;border-radius: 0.25em;box-sizing: border-box;margin-bottom: 0.5em;}#sk-container-id-8 div.sk-estimator:hover {background-color: #d4ebff;}#sk-container-id-8 div.sk-parallel-item::after {content: \"\";width: 100%;border-bottom: 1px solid gray;flex-grow: 1;}#sk-container-id-8 div.sk-label:hover label.sk-toggleable__label {background-color: #d4ebff;}#sk-container-id-8 div.sk-serial::before {content: \"\";position: absolute;border-left: 1px solid gray;box-sizing: border-box;top: 0;bottom: 0;left: 50%;z-index: 0;}#sk-container-id-8 div.sk-serial {display: flex;flex-direction: column;align-items: center;background-color: white;padding-right: 0.2em;padding-left: 0.2em;position: relative;}#sk-container-id-8 div.sk-item {position: relative;z-index: 1;}#sk-container-id-8 div.sk-parallel {display: flex;align-items: stretch;justify-content: center;background-color: white;position: relative;}#sk-container-id-8 div.sk-item::before, #sk-container-id-8 div.sk-parallel-item::before {content: \"\";position: absolute;border-left: 1px solid gray;box-sizing: border-box;top: 0;bottom: 0;left: 50%;z-index: -1;}#sk-container-id-8 div.sk-parallel-item {display: flex;flex-direction: column;z-index: 1;position: relative;background-color: white;}#sk-container-id-8 div.sk-parallel-item:first-child::after {align-self: flex-end;width: 50%;}#sk-container-id-8 div.sk-parallel-item:last-child::after {align-self: flex-start;width: 50%;}#sk-container-id-8 div.sk-parallel-item:only-child::after {width: 0;}#sk-container-id-8 div.sk-dashed-wrapped {border: 1px dashed gray;margin: 0 0.4em 0.5em 0.4em;box-sizing: border-box;padding-bottom: 0.4em;background-color: white;}#sk-container-id-8 div.sk-label label {font-family: monospace;font-weight: bold;display: inline-block;line-height: 1.2em;}#sk-container-id-8 div.sk-label-container {text-align: center;}#sk-container-id-8 div.sk-container {/* jupyter's `normalize.less` sets `[hidden] { display: none; }` but bootstrap.min.css set `[hidden] { display: none !important; }` so we also need the `!important` here to be able to override the default hidden behavior on the sphinx rendered scikit-learn.org. See: https://github.com/scikit-learn/scikit-learn/issues/21755 */display: inline-block !important;position: relative;}#sk-container-id-8 div.sk-text-repr-fallback {display: none;}</style><div id=\"sk-container-id-8\" class=\"sk-top-container\"><div class=\"sk-text-repr-fallback\"><pre>LogisticRegression(C=100)</pre><b>In a Jupyter environment, please rerun this cell to show the HTML representation or trust the notebook. <br />On GitHub, the HTML representation is unable to render, please try loading this page with nbviewer.org.</b></div><div class=\"sk-container\" hidden><div class=\"sk-item\"><div class=\"sk-estimator sk-toggleable\"><input class=\"sk-toggleable__control sk-hidden--visually\" id=\"sk-estimator-id-16\" type=\"checkbox\" checked><label for=\"sk-estimator-id-16\" class=\"sk-toggleable__label sk-toggleable__label-arrow\">LogisticRegression</label><div class=\"sk-toggleable__content\"><pre>LogisticRegression(C=100)</pre></div></div></div></div></div>"
      ],
      "text/plain": [
       "LogisticRegression(C=100)"
      ]
     },
     "execution_count": 79,
     "metadata": {},
     "output_type": "execute_result"
    }
   ],
   "source": [
    "optimized_clf = grid_lr_clf.best_estimator_\n",
    "optimized_clf"
   ]
  },
  {
   "cell_type": "code",
   "execution_count": 80,
   "id": "b8940312",
   "metadata": {
    "colab": {
     "base_uri": "https://localhost:8080/"
    },
    "execution": {
     "iopub.execute_input": "2022-10-07T16:30:33.597308Z",
     "iopub.status.busy": "2022-10-07T16:30:33.590921Z",
     "iopub.status.idle": "2022-10-07T16:30:33.615023Z",
     "shell.execute_reply": "2022-10-07T16:30:33.613231Z",
     "shell.execute_reply.started": "2022-10-07T16:30:33.597220Z"
    },
    "id": "w6PXaiftrAe2",
    "outputId": "ffad64e3-64c2-41f8-f588-38952418871c"
   },
   "outputs": [
    {
     "data": {
      "text/plain": [
       "{'C': 100, 'penalty': 'l2'}"
      ]
     },
     "execution_count": 80,
     "metadata": {},
     "output_type": "execute_result"
    }
   ],
   "source": [
    "grid_lr_clf.best_params_"
   ]
  },
  {
   "cell_type": "code",
   "execution_count": 81,
   "id": "b79ceef5",
   "metadata": {
    "colab": {
     "base_uri": "https://localhost:8080/"
    },
    "execution": {
     "iopub.execute_input": "2022-10-07T16:30:33.628490Z",
     "iopub.status.busy": "2022-10-07T16:30:33.619017Z",
     "iopub.status.idle": "2022-10-07T16:30:33.646466Z",
     "shell.execute_reply": "2022-10-07T16:30:33.644606Z",
     "shell.execute_reply.started": "2022-10-07T16:30:33.628402Z"
    },
    "id": "12DAfyq6rCv1",
    "outputId": "547d4091-68c0-4749-8911-0d2e0e4fc8cc"
   },
   "outputs": [
    {
     "data": {
      "text/plain": [
       "0.8213333333333334"
      ]
     },
     "execution_count": 81,
     "metadata": {},
     "output_type": "execute_result"
    }
   ],
   "source": [
    "grid_lr_clf.best_score_"
   ]
  },
  {
   "cell_type": "code",
   "execution_count": 188,
   "id": "0abda905",
   "metadata": {
    "execution": {
     "iopub.execute_input": "2022-10-07T16:30:33.655726Z",
     "iopub.status.busy": "2022-10-07T16:30:33.648844Z",
     "iopub.status.idle": "2022-10-07T16:30:33.676150Z",
     "shell.execute_reply": "2022-10-07T16:30:33.674443Z",
     "shell.execute_reply.started": "2022-10-07T16:30:33.655637Z"
    },
    "id": "9cOOwX-5sdcK"
   },
   "outputs": [],
   "source": [
    "# Predicted Probability\n",
    "train_preds = optimized_clf.predict_proba(X_train)[:,1]\n",
    "test_preds = optimized_clf.predict_proba(X_test)[:,1]"
   ]
  },
  {
   "cell_type": "code",
   "execution_count": 83,
   "id": "303822e2",
   "metadata": {
    "execution": {
     "iopub.execute_input": "2022-10-07T16:30:33.680743Z",
     "iopub.status.busy": "2022-10-07T16:30:33.679219Z",
     "iopub.status.idle": "2022-10-07T16:30:33.700289Z",
     "shell.execute_reply": "2022-10-07T16:30:33.698641Z",
     "shell.execute_reply.started": "2022-10-07T16:30:33.680669Z"
    },
    "id": "7fOenTtes0Ef"
   },
   "outputs": [],
   "source": [
    "# Get the predicted classes\n",
    "train_class_preds = optimized_clf.predict(X_train)\n",
    "test_class_preds = optimized_clf.predict(X_test)"
   ]
  },
  {
   "cell_type": "code",
   "execution_count": 84,
   "id": "bd3ec76e",
   "metadata": {
    "colab": {
     "base_uri": "https://localhost:8080/"
    },
    "execution": {
     "iopub.execute_input": "2022-10-07T16:30:33.704756Z",
     "iopub.status.busy": "2022-10-07T16:30:33.702850Z",
     "iopub.status.idle": "2022-10-07T16:30:33.730288Z",
     "shell.execute_reply": "2022-10-07T16:30:33.728501Z",
     "shell.execute_reply.started": "2022-10-07T16:30:33.704680Z"
    },
    "id": "S9812zxysJDX",
    "outputId": "9b6f9e99-7391-448d-80f6-b3a4c4f4443f"
   },
   "outputs": [
    {
     "name": "stdout",
     "output_type": "stream",
     "text": [
      "The accuracy on train data is  0.8230952380952381\n",
      "The accuracy on test data is  0.8188888888888889\n"
     ]
    }
   ],
   "source": [
    "# Get the accuracy scores\n",
    "train_accuracy_lr = accuracy_score(train_class_preds,y_train)\n",
    "test_accuracy_lr = accuracy_score(test_class_preds,y_test)\n",
    "\n",
    "print(\"The accuracy on train data is \", train_accuracy_lr)\n",
    "print(\"The accuracy on test data is \", test_accuracy_lr)"
   ]
  },
  {
   "cell_type": "code",
   "execution_count": 85,
   "id": "97a2a622",
   "metadata": {
    "colab": {
     "base_uri": "https://localhost:8080/"
    },
    "execution": {
     "iopub.execute_input": "2022-10-07T16:30:33.734359Z",
     "iopub.status.busy": "2022-10-07T16:30:33.733139Z",
     "iopub.status.idle": "2022-10-07T16:30:33.809263Z",
     "shell.execute_reply": "2022-10-07T16:30:33.807576Z",
     "shell.execute_reply.started": "2022-10-07T16:30:33.734289Z"
    },
    "id": "mXpMQ-1QtG_M",
    "outputId": "3a223ccf-6c2d-4ee2-fcb6-a492c023443b"
   },
   "outputs": [
    {
     "name": "stdout",
     "output_type": "stream",
     "text": [
      "The accuracy on test data is  0.8188888888888889\n",
      "The precision on test data is  0.3545956805625314\n",
      "The recall on test data is  0.6717411988582302\n",
      "The f1 on test data is  0.46416831032215644\n",
      "The roc_score on test data is  0.7550428223502373\n"
     ]
    }
   ],
   "source": [
    "test_accuracy_lr = accuracy_score(test_class_preds,y_test)\n",
    "test_precision_score_lr = precision_score(test_class_preds,y_test)\n",
    "test_recall_score_lr = recall_score(test_class_preds,y_test)\n",
    "test_f1_score_lr = f1_score(test_class_preds,y_test)\n",
    "test_roc_score_lr = roc_auc_score(test_class_preds,y_test)\n",
    "\n",
    "print(\"The accuracy on test data is \", test_accuracy_lr)\n",
    "print(\"The precision on test data is \", test_precision_score_lr)\n",
    "print(\"The recall on test data is \", test_recall_score_lr)\n",
    "print(\"The f1 on test data is \", test_f1_score_lr)\n",
    "print(\"The roc_score on test data is \", test_roc_score_lr)"
   ]
  },
  {
   "cell_type": "code",
   "execution_count": 86,
   "id": "feeeb628",
   "metadata": {
    "colab": {
     "base_uri": "https://localhost:8080/",
     "height": 350
    },
    "execution": {
     "iopub.execute_input": "2022-10-07T16:30:33.814875Z",
     "iopub.status.busy": "2022-10-07T16:30:33.813744Z",
     "iopub.status.idle": "2022-10-07T16:30:34.108432Z",
     "shell.execute_reply": "2022-10-07T16:30:34.107315Z",
     "shell.execute_reply.started": "2022-10-07T16:30:33.814805Z"
    },
    "id": "6Gt7ox-QtPXM",
    "outputId": "3e9e02c2-350a-4ba1-afba-d707005830f2"
   },
   "outputs": [
    {
     "name": "stdout",
     "output_type": "stream",
     "text": [
      "[[15609   746]\n",
      " [ 2969  1676]]\n"
     ]
    },
    {
     "data": {
      "text/plain": [
       "[Text(0, 0.5, 'Not Defaulter'), Text(0, 1.5, 'Defaulter')]"
      ]
     },
     "execution_count": 86,
     "metadata": {},
     "output_type": "execute_result"
    },
    {
     "data": {
      "image/png": "[encoded data removed]",
      "text/plain": [
       "<Figure size 432x288 with 2 Axes>"
      ]
     },
     "metadata": {
      "needs_background": "light"
     },
     "output_type": "display_data"
    }
   ],
   "source": [
    "# Get the confusion matrix for both train and test\n",
    "\n",
    "labels = ['Not Defaulter', 'Defaulter']\n",
    "cm = confusion_matrix(y_train, train_class_preds)\n",
    "print(cm)\n",
    "\n",
    "ax= plt.subplot()\n",
    "sns.heatmap(cm, annot=True, ax = ax) #annot=True to annotate cells\n",
    "\n",
    "# labels, title and ticks\n",
    "ax.set_xlabel('Predicted labels')\n",
    "ax.set_ylabel('True labels')\n",
    "ax.set_title('Confusion Matrix')\n",
    "ax.xaxis.set_ticklabels(labels)\n",
    "ax.yaxis.set_ticklabels(labels)"
   ]
  },
  {
   "cell_type": "code",
   "execution_count": 87,
   "id": "412890e2",
   "metadata": {
    "execution": {
     "iopub.execute_input": "2022-10-07T16:30:34.157738Z",
     "iopub.status.busy": "2022-10-07T16:30:34.157045Z",
     "iopub.status.idle": "2022-10-07T16:30:34.165355Z",
     "shell.execute_reply": "2022-10-07T16:30:34.163956Z",
     "shell.execute_reply.started": "2022-10-07T16:30:34.157694Z"
    },
    "id": "fGsGgNH4D0q8"
   },
   "outputs": [],
   "source": [
    "feature_importance = pd.DataFrame({'Features':columns, 'Importance':np.abs(optimized_clf.coef_).ravel() })"
   ]
  },
  {
   "cell_type": "code",
   "execution_count": 88,
   "id": "90c615f7",
   "metadata": {
    "execution": {
     "iopub.execute_input": "2022-10-07T16:30:34.788216Z",
     "iopub.status.busy": "2022-10-07T16:30:34.787775Z",
     "iopub.status.idle": "2022-10-07T16:30:34.795320Z",
     "shell.execute_reply": "2022-10-07T16:30:34.794055Z",
     "shell.execute_reply.started": "2022-10-07T16:30:34.788181Z"
    },
    "id": "EnpwE9QGFU2G"
   },
   "outputs": [],
   "source": [
    "feature_importance = feature_importance.sort_values(by = 'Importance', ascending=False)[:10]"
   ]
  },
  {
   "cell_type": "code",
   "execution_count": 89,
   "id": "f05073a2",
   "metadata": {
    "colab": {
     "base_uri": "https://localhost:8080/",
     "height": 415
    },
    "execution": {
     "iopub.execute_input": "2022-10-07T16:30:35.205412Z",
     "iopub.status.busy": "2022-10-07T16:30:35.204175Z",
     "iopub.status.idle": "2022-10-07T16:30:35.455399Z",
     "shell.execute_reply": "2022-10-07T16:30:35.454478Z",
     "shell.execute_reply.started": "2022-10-07T16:30:35.205361Z"
    },
    "id": "G6SA8UDpCbSc",
    "outputId": "efe11352-3ade-493e-9593-952bb983366c"
   },
   "outputs": [
    {
     "data": {
      "image/png": "[encoded data removed]",
      "text/plain": [
       "<Figure size 432x288 with 1 Axes>"
      ]
     },
     "metadata": {
      "needs_background": "light"
     },
     "output_type": "display_data"
    }
   ],
   "source": [
    "\n",
    "plt.bar(height=feature_importance['Importance'], x= feature_importance['Features'])\n",
    "plt.xticks(rotation=80)\n",
    "plt.title(\"Feature importances via coefficients\")\n",
    "plt.show()"
   ]
  },
  {
   "cell_type": "code",
   "execution_count": 90,
   "id": "bd904207",
   "metadata": {
    "execution": {
     "iopub.execute_input": "2022-10-07T16:30:35.457789Z",
     "iopub.status.busy": "2022-10-07T16:30:35.457273Z",
     "iopub.status.idle": "2022-10-07T16:30:35.473874Z",
     "shell.execute_reply": "2022-10-07T16:30:35.471897Z",
     "shell.execute_reply.started": "2022-10-07T16:30:35.457743Z"
    },
    "id": "haTF_4_D7-m-"
   },
   "outputs": [],
   "source": [
    "y_preds_proba_lr = optimized_clf.predict_proba(X_test)[::,1]"
   ]
  },
  {
   "cell_type": "code",
   "execution_count": 92,
   "id": "02ced79b",
   "metadata": {
    "colab": {
     "base_uri": "https://localhost:8080/",
     "height": 265
    },
    "execution": {
     "iopub.execute_input": "2022-10-07T16:30:35.490792Z",
     "iopub.status.busy": "2022-10-07T16:30:35.490126Z",
     "iopub.status.idle": "2022-10-07T16:30:35.686559Z",
     "shell.execute_reply": "2022-10-07T16:30:35.685582Z",
     "shell.execute_reply.started": "2022-10-07T16:30:35.490744Z"
    },
    "id": "NGLfD0Q9xHRt",
    "outputId": "854a50f3-f5cb-4b9f-add3-d055c313ec7e"
   },
   "outputs": [
    {
     "data": {
      "image/png": "[encoded data removed]",
      "text/plain": [
       "<Figure size 432x288 with 1 Axes>"
      ]
     },
     "metadata": {
      "needs_background": "light"
     },
     "output_type": "display_data"
    }
   ],
   "source": [
    "y_pred_proba = y_preds_proba_lr\n",
    "fpr, tpr, _ = roc_curve(y_test,  y_pred_proba)\n",
    "auc = roc_auc_score(y_test, y_pred_proba)\n",
    "plt.plot(fpr,tpr,label=\"data 1, auc=\"+str(auc))\n",
    "plt.legend(loc=4)\n",
    "plt.show()"
   ]
  },
  {
   "cell_type": "markdown",
   "id": "e645b10d",
   "metadata": {
    "id": "16zWA5F53BGJ"
   },
   "source": [
    "# Implementing SVC"
   ]
  },
  {
   "cell_type": "code",
   "execution_count": 93,
   "id": "aece716d",
   "metadata": {
    "execution": {
     "iopub.execute_input": "2022-10-07T16:30:35.688750Z",
     "iopub.status.busy": "2022-10-07T16:30:35.687959Z",
     "iopub.status.idle": "2022-10-07T16:30:35.694573Z",
     "shell.execute_reply": "2022-10-07T16:30:35.693366Z",
     "shell.execute_reply.started": "2022-10-07T16:30:35.688704Z"
    },
    "id": "Zg21T2S44duf"
   },
   "outputs": [],
   "source": [
    "from sklearn.model_selection import GridSearchCV"
   ]
  },
  {
   "cell_type": "code",
   "execution_count": 94,
   "id": "4308fdbb",
   "metadata": {
    "execution": {
     "iopub.execute_input": "2022-10-07T16:30:35.696447Z",
     "iopub.status.busy": "2022-10-07T16:30:35.696017Z",
     "iopub.status.idle": "2022-10-07T16:30:35.707643Z",
     "shell.execute_reply": "2022-10-07T16:30:35.706499Z",
     "shell.execute_reply.started": "2022-10-07T16:30:35.696413Z"
    },
    "id": "Dzj1YUQc0QG5"
   },
   "outputs": [],
   "source": [
    "# defining parameter range \n",
    "param_grid = {'C': [0.1, 1, 10, 100],   \n",
    "              'kernel': ['rbf']} "
   ]
  },
  {
   "cell_type": "code",
   "execution_count": 96,
   "id": "2f6303c7",
   "metadata": {
    "execution": {
     "iopub.execute_input": "2022-10-07T16:30:35.711157Z",
     "iopub.status.busy": "2022-10-07T16:30:35.710644Z",
     "iopub.status.idle": "2022-10-07T16:30:35.739860Z",
     "shell.execute_reply": "2022-10-07T16:30:35.738508Z",
     "shell.execute_reply.started": "2022-10-07T16:30:35.711109Z"
    },
    "id": "5TJrh5ZSOLtt"
   },
   "outputs": [],
   "source": [
    "X = cc_update.drop(['willdefault','Payement_Value','Dues'],axis=1)\n",
    "y = cc_update['willdefault']"
   ]
  },
  {
   "cell_type": "code",
   "execution_count": 97,
   "id": "3e667e16",
   "metadata": {
    "execution": {
     "iopub.execute_input": "2022-10-07T16:30:37.076884Z",
     "iopub.status.busy": "2022-10-07T16:30:37.076415Z",
     "iopub.status.idle": "2022-10-07T16:30:37.146405Z",
     "shell.execute_reply": "2022-10-07T16:30:37.145263Z",
     "shell.execute_reply.started": "2022-10-07T16:30:37.076849Z"
    },
    "id": "UvU7HhZFOUJh"
   },
   "outputs": [],
   "source": [
    "scaler = StandardScaler()\n",
    "X = scaler.fit_transform(X)"
   ]
  },
  {
   "cell_type": "code",
   "execution_count": 98,
   "id": "189db4a3",
   "metadata": {
    "execution": {
     "iopub.execute_input": "2022-10-07T16:30:37.552801Z",
     "iopub.status.busy": "2022-10-07T16:30:37.552178Z",
     "iopub.status.idle": "2022-10-07T16:30:37.621752Z",
     "shell.execute_reply": "2022-10-07T16:30:37.620482Z",
     "shell.execute_reply.started": "2022-10-07T16:30:37.552763Z"
    },
    "id": "zO1glRstOb0o"
   },
   "outputs": [],
   "source": [
    "X_train, X_test, y_train, y_test = train_test_split(X, y, test_size=0.3, random_state=1, stratify = y)"
   ]
  },
  {
   "cell_type": "code",
   "execution_count": 99,
   "id": "16aac8f2",
   "metadata": {
    "colab": {
     "base_uri": "https://localhost:8080/"
    },
    "execution": {
     "iopub.execute_input": "2022-10-07T16:30:38.739434Z",
     "iopub.status.busy": "2022-10-07T16:30:38.739002Z",
     "iopub.status.idle": "2022-10-07T16:34:11.526161Z",
     "shell.execute_reply": "2022-10-07T16:34:11.523779Z",
     "shell.execute_reply.started": "2022-10-07T16:30:38.739400Z"
    },
    "id": "SbGnEdBU40UT",
    "outputId": "618121af-4ac4-4fdd-e831-1b00a5a9cc90"
   },
   "outputs": [
    {
     "name": "stdout",
     "output_type": "stream",
     "text": [
      "Fitting 3 folds for each of 4 candidates, totalling 12 fits\n"
     ]
    },
    {
     "data": {
      "text/html": [
       "<style>#sk-container-id-9 {color: black;background-color: white;}#sk-container-id-9 pre{padding: 0;}#sk-container-id-9 div.sk-toggleable {background-color: white;}#sk-container-id-9 label.sk-toggleable__label {cursor: pointer;display: block;width: 100%;margin-bottom: 0;padding: 0.3em;box-sizing: border-box;text-align: center;}#sk-container-id-9 label.sk-toggleable__label-arrow:before {content: \"▸\";float: left;margin-right: 0.25em;color: #696969;}#sk-container-id-9 label.sk-toggleable__label-arrow:hover:before {color: black;}#sk-container-id-9 div.sk-estimator:hover label.sk-toggleable__label-arrow:before {color: black;}#sk-container-id-9 div.sk-toggleable__content {max-height: 0;max-width: 0;overflow: hidden;text-align: left;background-color: #f0f8ff;}#sk-container-id-9 div.sk-toggleable__content pre {margin: 0.2em;color: black;border-radius: 0.25em;background-color: #f0f8ff;}#sk-container-id-9 input.sk-toggleable__control:checked~div.sk-toggleable__content {max-height: 200px;max-width: 100%;overflow: auto;}#sk-container-id-9 input.sk-toggleable__control:checked~label.sk-toggleable__label-arrow:before {content: \"▾\";}#sk-container-id-9 div.sk-estimator input.sk-toggleable__control:checked~label.sk-toggleable__label {background-color: #d4ebff;}#sk-container-id-9 div.sk-label input.sk-toggleable__control:checked~label.sk-toggleable__label {background-color: #d4ebff;}#sk-container-id-9 input.sk-hidden--visually {border: 0;clip: rect(1px 1px 1px 1px);clip: rect(1px, 1px, 1px, 1px);height: 1px;margin: -1px;overflow: hidden;padding: 0;position: absolute;width: 1px;}#sk-container-id-9 div.sk-estimator {font-family: monospace;background-color: #f0f8ff;border: 1px dotted black;border-radius: 0.25em;box-sizing: border-box;margin-bottom: 0.5em;}#sk-container-id-9 div.sk-estimator:hover {background-color: #d4ebff;}#sk-container-id-9 div.sk-parallel-item::after {content: \"\";width: 100%;border-bottom: 1px solid gray;flex-grow: 1;}#sk-container-id-9 div.sk-label:hover label.sk-toggleable__label {background-color: #d4ebff;}#sk-container-id-9 div.sk-serial::before {content: \"\";position: absolute;border-left: 1px solid gray;box-sizing: border-box;top: 0;bottom: 0;left: 50%;z-index: 0;}#sk-container-id-9 div.sk-serial {display: flex;flex-direction: column;align-items: center;background-color: white;padding-right: 0.2em;padding-left: 0.2em;position: relative;}#sk-container-id-9 div.sk-item {position: relative;z-index: 1;}#sk-container-id-9 div.sk-parallel {display: flex;align-items: stretch;justify-content: center;background-color: white;position: relative;}#sk-container-id-9 div.sk-item::before, #sk-container-id-9 div.sk-parallel-item::before {content: \"\";position: absolute;border-left: 1px solid gray;box-sizing: border-box;top: 0;bottom: 0;left: 50%;z-index: -1;}#sk-container-id-9 div.sk-parallel-item {display: flex;flex-direction: column;z-index: 1;position: relative;background-color: white;}#sk-container-id-9 div.sk-parallel-item:first-child::after {align-self: flex-end;width: 50%;}#sk-container-id-9 div.sk-parallel-item:last-child::after {align-self: flex-start;width: 50%;}#sk-container-id-9 div.sk-parallel-item:only-child::after {width: 0;}#sk-container-id-9 div.sk-dashed-wrapped {border: 1px dashed gray;margin: 0 0.4em 0.5em 0.4em;box-sizing: border-box;padding-bottom: 0.4em;background-color: white;}#sk-container-id-9 div.sk-label label {font-family: monospace;font-weight: bold;display: inline-block;line-height: 1.2em;}#sk-container-id-9 div.sk-label-container {text-align: center;}#sk-container-id-9 div.sk-container {/* jupyter's `normalize.less` sets `[hidden] { display: none; }` but bootstrap.min.css set `[hidden] { display: none !important; }` so we also need the `!important` here to be able to override the default hidden behavior on the sphinx rendered scikit-learn.org. See: https://github.com/scikit-learn/scikit-learn/issues/21755 */display: inline-block !important;position: relative;}#sk-container-id-9 div.sk-text-repr-fallback {display: none;}</style><div id=\"sk-container-id-9\" class=\"sk-top-container\"><div class=\"sk-text-repr-fallback\"><pre>GridSearchCV(cv=3, estimator=SVC(probability=True), n_jobs=-1,\n",
       "             param_grid={&#x27;C&#x27;: [0.1, 1, 10, 100], &#x27;kernel&#x27;: [&#x27;rbf&#x27;]},\n",
       "             scoring=&#x27;accuracy&#x27;, verbose=3)</pre><b>In a Jupyter environment, please rerun this cell to show the HTML representation or trust the notebook. <br />On GitHub, the HTML representation is unable to render, please try loading this page with nbviewer.org.</b></div><div class=\"sk-container\" hidden><div class=\"sk-item sk-dashed-wrapped\"><div class=\"sk-label-container\"><div class=\"sk-label sk-toggleable\"><input class=\"sk-toggleable__control sk-hidden--visually\" id=\"sk-estimator-id-17\" type=\"checkbox\" ><label for=\"sk-estimator-id-17\" class=\"sk-toggleable__label sk-toggleable__label-arrow\">GridSearchCV</label><div class=\"sk-toggleable__content\"><pre>GridSearchCV(cv=3, estimator=SVC(probability=True), n_jobs=-1,\n",
       "             param_grid={&#x27;C&#x27;: [0.1, 1, 10, 100], &#x27;kernel&#x27;: [&#x27;rbf&#x27;]},\n",
       "             scoring=&#x27;accuracy&#x27;, verbose=3)</pre></div></div></div><div class=\"sk-parallel\"><div class=\"sk-parallel-item\"><div class=\"sk-item\"><div class=\"sk-label-container\"><div class=\"sk-label sk-toggleable\"><input class=\"sk-toggleable__control sk-hidden--visually\" id=\"sk-estimator-id-18\" type=\"checkbox\" ><label for=\"sk-estimator-id-18\" class=\"sk-toggleable__label sk-toggleable__label-arrow\">estimator: SVC</label><div class=\"sk-toggleable__content\"><pre>SVC(probability=True)</pre></div></div></div><div class=\"sk-serial\"><div class=\"sk-item\"><div class=\"sk-estimator sk-toggleable\"><input class=\"sk-toggleable__control sk-hidden--visually\" id=\"sk-estimator-id-19\" type=\"checkbox\" ><label for=\"sk-estimator-id-19\" class=\"sk-toggleable__label sk-toggleable__label-arrow\">SVC</label><div class=\"sk-toggleable__content\"><pre>SVC(probability=True)</pre></div></div></div></div></div></div></div></div></div></div>"
      ],
      "text/plain": [
       "GridSearchCV(cv=3, estimator=SVC(probability=True), n_jobs=-1,\n",
       "             param_grid={'C': [0.1, 1, 10, 100], 'kernel': ['rbf']},\n",
       "             scoring='accuracy', verbose=3)"
      ]
     },
     "execution_count": 99,
     "metadata": {},
     "output_type": "execute_result"
    }
   ],
   "source": [
    "grid_clf = GridSearchCV(SVC(probability=True), param_grid, scoring = 'accuracy', n_jobs = -1, verbose = 3, cv = 3)\n",
    "grid_clf.fit(X_train, y_train)"
   ]
  },
  {
   "cell_type": "code",
   "execution_count": 100,
   "id": "69938b40",
   "metadata": {
    "execution": {
     "iopub.execute_input": "2022-10-07T16:34:24.256792Z",
     "iopub.status.busy": "2022-10-07T16:34:24.256206Z",
     "iopub.status.idle": "2022-10-07T16:34:24.263448Z",
     "shell.execute_reply": "2022-10-07T16:34:24.261965Z",
     "shell.execute_reply.started": "2022-10-07T16:34:24.256748Z"
    },
    "id": "j-ytDyOG45FR"
   },
   "outputs": [],
   "source": [
    "optimal_SVC_clf = grid_clf.best_estimator_"
   ]
  },
  {
   "cell_type": "code",
   "execution_count": 101,
   "id": "2c561db3",
   "metadata": {
    "execution": {
     "iopub.execute_input": "2022-10-07T16:34:27.284414Z",
     "iopub.status.busy": "2022-10-07T16:34:27.284003Z",
     "iopub.status.idle": "2022-10-07T16:34:27.292073Z",
     "shell.execute_reply": "2022-10-07T16:34:27.290726Z",
     "shell.execute_reply.started": "2022-10-07T16:34:27.284382Z"
    },
    "id": "byUpfUDyHgzZ"
   },
   "outputs": [
    {
     "data": {
      "text/plain": [
       "{'C': 1, 'kernel': 'rbf'}"
      ]
     },
     "execution_count": 101,
     "metadata": {},
     "output_type": "execute_result"
    }
   ],
   "source": [
    "grid_clf.best_params_"
   ]
  },
  {
   "cell_type": "code",
   "execution_count": 102,
   "id": "fb70a2a1",
   "metadata": {
    "colab": {
     "base_uri": "https://localhost:8080/"
    },
    "execution": {
     "iopub.execute_input": "2022-10-07T16:34:29.129694Z",
     "iopub.status.busy": "2022-10-07T16:34:29.129244Z",
     "iopub.status.idle": "2022-10-07T16:34:29.139325Z",
     "shell.execute_reply": "2022-10-07T16:34:29.138039Z",
     "shell.execute_reply.started": "2022-10-07T16:34:29.129636Z"
    },
    "id": "PlBiJwNjICn1",
    "outputId": "276a9d1b-6e04-4a1e-eac1-d0a407739d1f"
   },
   "outputs": [
    {
     "data": {
      "text/plain": [
       "0.8223383084577115"
      ]
     },
     "execution_count": 102,
     "metadata": {},
     "output_type": "execute_result"
    }
   ],
   "source": [
    "grid_clf.best_score_"
   ]
  },
  {
   "cell_type": "code",
   "execution_count": 103,
   "id": "71d59cd4",
   "metadata": {
    "execution": {
     "iopub.execute_input": "2022-10-07T16:34:32.172234Z",
     "iopub.status.busy": "2022-10-07T16:34:32.171789Z",
     "iopub.status.idle": "2022-10-07T16:34:40.227221Z",
     "shell.execute_reply": "2022-10-07T16:34:40.225585Z",
     "shell.execute_reply.started": "2022-10-07T16:34:32.172201Z"
    },
    "id": "9vV-Fu16Hj8E"
   },
   "outputs": [],
   "source": [
    "# Get the predicted classes\n",
    "train_class_preds = optimal_SVC_clf.predict(X_train)\n",
    "test_class_preds = optimal_SVC_clf.predict(X_test)"
   ]
  },
  {
   "cell_type": "code",
   "execution_count": 104,
   "id": "6d09d597",
   "metadata": {
    "colab": {
     "base_uri": "https://localhost:8080/"
    },
    "execution": {
     "iopub.execute_input": "2022-10-07T16:34:40.230607Z",
     "iopub.status.busy": "2022-10-07T16:34:40.230077Z",
     "iopub.status.idle": "2022-10-07T16:34:40.246414Z",
     "shell.execute_reply": "2022-10-07T16:34:40.244605Z",
     "shell.execute_reply.started": "2022-10-07T16:34:40.230564Z"
    },
    "id": "AHGpI-YW-h4F",
    "outputId": "0f5390d1-7a53-431c-8b01-53a6c37a1f1a"
   },
   "outputs": [
    {
     "name": "stdout",
     "output_type": "stream",
     "text": [
      "The accuracy on train data is  0.8230952380952381\n",
      "The accuracy on test data is  0.8188888888888889\n"
     ]
    }
   ],
   "source": [
    "# Get the accuracy scores\n",
    "train_accuracy_SVC = accuracy_score(train_class_preds,y_train)\n",
    "test_accuracy_SVC = accuracy_score(test_class_preds,y_test)\n",
    "\n",
    "print(\"The accuracy on train data is \", train_accuracy_lr)\n",
    "print(\"The accuracy on test data is \", test_accuracy_lr)"
   ]
  },
  {
   "cell_type": "code",
   "execution_count": 105,
   "id": "7d5d1406",
   "metadata": {
    "colab": {
     "base_uri": "https://localhost:8080/"
    },
    "execution": {
     "iopub.execute_input": "2022-10-07T16:34:48.292050Z",
     "iopub.status.busy": "2022-10-07T16:34:48.291561Z",
     "iopub.status.idle": "2022-10-07T16:34:48.337432Z",
     "shell.execute_reply": "2022-10-07T16:34:48.335749Z",
     "shell.execute_reply.started": "2022-10-07T16:34:48.292012Z"
    },
    "id": "W43nGBSKHr8h",
    "outputId": "2e524a7f-d6ef-4051-c1cf-7a12c1bbb6af"
   },
   "outputs": [
    {
     "name": "stdout",
     "output_type": "stream",
     "text": [
      "The accuracy on test data is  0.8182828282828283\n",
      "The precision on test data is  0.3552511415525114\n",
      "The recall on test data is  0.6678111587982832\n",
      "The f1 on test data is  0.4637853949329359\n",
      "The roc_score on test data is  0.7530813092216946\n"
     ]
    }
   ],
   "source": [
    "test_accuracy_SVC = accuracy_score(test_class_preds,y_test)\n",
    "test_precision_score_SVC = precision_score(test_class_preds,y_test)\n",
    "test_recall_score_SVC = recall_score(test_class_preds,y_test)\n",
    "test_f1_score_SVC = f1_score(test_class_preds,y_test)\n",
    "test_roc_score_SVC = roc_auc_score(test_class_preds,y_test)\n",
    "\n",
    "print(\"The accuracy on test data is \", test_accuracy_SVC)\n",
    "print(\"The precision on test data is \", test_precision_score_SVC)\n",
    "print(\"The recall on test data is \", test_recall_score_SVC)\n",
    "print(\"The f1 on test data is \", test_f1_score_SVC)\n",
    "print(\"The roc_score on test data is \", test_roc_score_SVC)"
   ]
  },
  {
   "cell_type": "code",
   "execution_count": 106,
   "id": "a129dc8b",
   "metadata": {
    "colab": {
     "base_uri": "https://localhost:8080/",
     "height": 350
    },
    "execution": {
     "iopub.execute_input": "2022-10-07T16:34:49.422607Z",
     "iopub.status.busy": "2022-10-07T16:34:49.421427Z",
     "iopub.status.idle": "2022-10-07T16:34:49.691290Z",
     "shell.execute_reply": "2022-10-07T16:34:49.688880Z",
     "shell.execute_reply.started": "2022-10-07T16:34:49.422564Z"
    },
    "id": "H-wA8irfIYMW",
    "outputId": "f3e961a2-dbc0-4e35-d319-872be17ddeaa"
   },
   "outputs": [
    {
     "name": "stdout",
     "output_type": "stream",
     "text": [
      "[[15000   654]\n",
      " [ 2739  1707]]\n"
     ]
    },
    {
     "data": {
      "text/plain": [
       "[Text(0, 0.5, 'Not Defaulter'), Text(0, 1.5, 'Defaulter')]"
      ]
     },
     "execution_count": 106,
     "metadata": {},
     "output_type": "execute_result"
    },
    {
     "data": {
      "image/png": "[encoded data removed]",
      "text/plain": [
       "<Figure size 432x288 with 2 Axes>"
      ]
     },
     "metadata": {
      "needs_background": "light"
     },
     "output_type": "display_data"
    }
   ],
   "source": [
    "  # Get the confusion matrix for both train and test\n",
    "\n",
    "labels = ['Not Defaulter', 'Defaulter']\n",
    "cm = confusion_matrix(y_train, train_class_preds)\n",
    "print(cm)\n",
    "\n",
    "ax= plt.subplot()\n",
    "sns.heatmap(cm, annot=True, ax = ax) #annot=True to annotate cells\n",
    "\n",
    "# labels, title and ticks\n",
    "ax.set_xlabel('Predicted labels')\n",
    "ax.set_ylabel('True labels')\n",
    "ax.set_title('Confusion Matrix')\n",
    "ax.xaxis.set_ticklabels(labels)\n",
    "ax.yaxis.set_ticklabels(labels)"
   ]
  },
  {
   "cell_type": "code",
   "execution_count": 110,
   "id": "a8f59a18",
   "metadata": {
    "colab": {
     "base_uri": "https://localhost:8080/"
    },
    "execution": {
     "iopub.execute_input": "2022-10-07T16:34:51.179329Z",
     "iopub.status.busy": "2022-10-07T16:34:51.178653Z",
     "iopub.status.idle": "2022-10-07T16:34:51.189246Z",
     "shell.execute_reply": "2022-10-07T16:34:51.187631Z",
     "shell.execute_reply.started": "2022-10-07T16:34:51.179282Z"
    },
    "id": "VsbRZnxNqskl",
    "outputId": "90877a16-6733-4999-95e0-5cf0e17391c5"
   },
   "outputs": [
    {
     "data": {
      "text/html": [
       "<style>#sk-container-id-10 {color: black;background-color: white;}#sk-container-id-10 pre{padding: 0;}#sk-container-id-10 div.sk-toggleable {background-color: white;}#sk-container-id-10 label.sk-toggleable__label {cursor: pointer;display: block;width: 100%;margin-bottom: 0;padding: 0.3em;box-sizing: border-box;text-align: center;}#sk-container-id-10 label.sk-toggleable__label-arrow:before {content: \"▸\";float: left;margin-right: 0.25em;color: #696969;}#sk-container-id-10 label.sk-toggleable__label-arrow:hover:before {color: black;}#sk-container-id-10 div.sk-estimator:hover label.sk-toggleable__label-arrow:before {color: black;}#sk-container-id-10 div.sk-toggleable__content {max-height: 0;max-width: 0;overflow: hidden;text-align: left;background-color: #f0f8ff;}#sk-container-id-10 div.sk-toggleable__content pre {margin: 0.2em;color: black;border-radius: 0.25em;background-color: #f0f8ff;}#sk-container-id-10 input.sk-toggleable__control:checked~div.sk-toggleable__content {max-height: 200px;max-width: 100%;overflow: auto;}#sk-container-id-10 input.sk-toggleable__control:checked~label.sk-toggleable__label-arrow:before {content: \"▾\";}#sk-container-id-10 div.sk-estimator input.sk-toggleable__control:checked~label.sk-toggleable__label {background-color: #d4ebff;}#sk-container-id-10 div.sk-label input.sk-toggleable__control:checked~label.sk-toggleable__label {background-color: #d4ebff;}#sk-container-id-10 input.sk-hidden--visually {border: 0;clip: rect(1px 1px 1px 1px);clip: rect(1px, 1px, 1px, 1px);height: 1px;margin: -1px;overflow: hidden;padding: 0;position: absolute;width: 1px;}#sk-container-id-10 div.sk-estimator {font-family: monospace;background-color: #f0f8ff;border: 1px dotted black;border-radius: 0.25em;box-sizing: border-box;margin-bottom: 0.5em;}#sk-container-id-10 div.sk-estimator:hover {background-color: #d4ebff;}#sk-container-id-10 div.sk-parallel-item::after {content: \"\";width: 100%;border-bottom: 1px solid gray;flex-grow: 1;}#sk-container-id-10 div.sk-label:hover label.sk-toggleable__label {background-color: #d4ebff;}#sk-container-id-10 div.sk-serial::before {content: \"\";position: absolute;border-left: 1px solid gray;box-sizing: border-box;top: 0;bottom: 0;left: 50%;z-index: 0;}#sk-container-id-10 div.sk-serial {display: flex;flex-direction: column;align-items: center;background-color: white;padding-right: 0.2em;padding-left: 0.2em;position: relative;}#sk-container-id-10 div.sk-item {position: relative;z-index: 1;}#sk-container-id-10 div.sk-parallel {display: flex;align-items: stretch;justify-content: center;background-color: white;position: relative;}#sk-container-id-10 div.sk-item::before, #sk-container-id-10 div.sk-parallel-item::before {content: \"\";position: absolute;border-left: 1px solid gray;box-sizing: border-box;top: 0;bottom: 0;left: 50%;z-index: -1;}#sk-container-id-10 div.sk-parallel-item {display: flex;flex-direction: column;z-index: 1;position: relative;background-color: white;}#sk-container-id-10 div.sk-parallel-item:first-child::after {align-self: flex-end;width: 50%;}#sk-container-id-10 div.sk-parallel-item:last-child::after {align-self: flex-start;width: 50%;}#sk-container-id-10 div.sk-parallel-item:only-child::after {width: 0;}#sk-container-id-10 div.sk-dashed-wrapped {border: 1px dashed gray;margin: 0 0.4em 0.5em 0.4em;box-sizing: border-box;padding-bottom: 0.4em;background-color: white;}#sk-container-id-10 div.sk-label label {font-family: monospace;font-weight: bold;display: inline-block;line-height: 1.2em;}#sk-container-id-10 div.sk-label-container {text-align: center;}#sk-container-id-10 div.sk-container {/* jupyter's `normalize.less` sets `[hidden] { display: none; }` but bootstrap.min.css set `[hidden] { display: none !important; }` so we also need the `!important` here to be able to override the default hidden behavior on the sphinx rendered scikit-learn.org. See: https://github.com/scikit-learn/scikit-learn/issues/21755 */display: inline-block !important;position: relative;}#sk-container-id-10 div.sk-text-repr-fallback {display: none;}</style><div id=\"sk-container-id-10\" class=\"sk-top-container\"><div class=\"sk-text-repr-fallback\"><pre>SVC(C=1, probability=True)</pre><b>In a Jupyter environment, please rerun this cell to show the HTML representation or trust the notebook. <br />On GitHub, the HTML representation is unable to render, please try loading this page with nbviewer.org.</b></div><div class=\"sk-container\" hidden><div class=\"sk-item\"><div class=\"sk-estimator sk-toggleable\"><input class=\"sk-toggleable__control sk-hidden--visually\" id=\"sk-estimator-id-20\" type=\"checkbox\" checked><label for=\"sk-estimator-id-20\" class=\"sk-toggleable__label sk-toggleable__label-arrow\">SVC</label><div class=\"sk-toggleable__content\"><pre>SVC(C=1, probability=True)</pre></div></div></div></div></div>"
      ],
      "text/plain": [
       "SVC(C=1, probability=True)"
      ]
     },
     "execution_count": 110,
     "metadata": {},
     "output_type": "execute_result"
    }
   ],
   "source": [
    "optimal_SVC_clf"
   ]
  },
  {
   "cell_type": "code",
   "execution_count": 111,
   "id": "2d272742",
   "metadata": {
    "execution": {
     "iopub.execute_input": "2022-10-07T16:34:52.336087Z",
     "iopub.status.busy": "2022-10-07T16:34:52.335678Z",
     "iopub.status.idle": "2022-10-07T16:35:00.442292Z",
     "shell.execute_reply": "2022-10-07T16:35:00.441217Z",
     "shell.execute_reply.started": "2022-10-07T16:34:52.336054Z"
    },
    "id": "RA3FuJRHjHT6"
   },
   "outputs": [],
   "source": [
    "# Get the predicted classes\n",
    "train_class_preds = optimal_SVC_clf.predict(X_train)\n",
    "test_class_preds = optimal_SVC_clf.predict(X_test)"
   ]
  },
  {
   "cell_type": "code",
   "execution_count": 112,
   "id": "23d9286d",
   "metadata": {
    "execution": {
     "iopub.execute_input": "2022-10-07T16:35:00.447069Z",
     "iopub.status.busy": "2022-10-07T16:35:00.446616Z",
     "iopub.status.idle": "2022-10-07T16:35:03.120830Z",
     "shell.execute_reply": "2022-10-07T16:35:03.119383Z",
     "shell.execute_reply.started": "2022-10-07T16:35:00.447034Z"
    },
    "id": "6cfqMeFj71mN"
   },
   "outputs": [],
   "source": [
    "y_pred_proba_SVC = optimal_SVC_clf.predict_proba(X_test)[::,1]"
   ]
  },
  {
   "cell_type": "code",
   "execution_count": 113,
   "id": "6fa58dca",
   "metadata": {
    "colab": {
     "base_uri": "https://localhost:8080/",
     "height": 265
    },
    "execution": {
     "iopub.execute_input": "2022-10-07T16:35:03.124491Z",
     "iopub.status.busy": "2022-10-07T16:35:03.123232Z",
     "iopub.status.idle": "2022-10-07T16:35:03.313516Z",
     "shell.execute_reply": "2022-10-07T16:35:03.312037Z",
     "shell.execute_reply.started": "2022-10-07T16:35:03.124435Z"
    },
    "id": "bKdW3d_V4x-g",
    "outputId": "15896644-230e-43d2-dd10-6e4d4fb7fec5"
   },
   "outputs": [
    {
     "data": {
      "image/png": "[encoded data removed]",
      "text/plain": [
       "<Figure size 432x288 with 1 Axes>"
      ]
     },
     "metadata": {
      "needs_background": "light"
     },
     "output_type": "display_data"
    }
   ],
   "source": [
    "# ROC AUC CURVE\n",
    "fpr, tpr, _ = roc_curve(y_test,  y_pred_proba_SVC)\n",
    "auc = roc_auc_score(y_test, y_pred_proba_SVC)\n",
    "plt.plot(fpr,tpr,label=\"data 1, auc=\"+str(auc))\n",
    "plt.legend(loc=4)\n",
    "plt.show()"
   ]
  },
  {
   "cell_type": "markdown",
   "id": "0044bdbd",
   "metadata": {
    "id": "tKCFlRr3Ik0T"
   },
   "source": [
    "## Decision Tree"
   ]
  },
  {
   "cell_type": "code",
   "execution_count": 114,
   "id": "c54146e0",
   "metadata": {
    "execution": {
     "iopub.execute_input": "2022-10-07T16:35:08.974670Z",
     "iopub.status.busy": "2022-10-07T16:35:08.974205Z",
     "iopub.status.idle": "2022-10-07T16:35:08.980726Z",
     "shell.execute_reply": "2022-10-07T16:35:08.979402Z",
     "shell.execute_reply.started": "2022-10-07T16:35:08.974634Z"
    },
    "id": "-VqpOtNeIhcJ"
   },
   "outputs": [],
   "source": [
    "param_grid = {'max_depth': [20,30,50,100], 'min_samples_split':[0.1,0.2,0.4]}"
   ]
  },
  {
   "cell_type": "code",
   "execution_count": 115,
   "id": "3f14a357",
   "metadata": {
    "execution": {
     "iopub.execute_input": "2022-10-07T16:35:10.545985Z",
     "iopub.status.busy": "2022-10-07T16:35:10.545580Z",
     "iopub.status.idle": "2022-10-07T16:35:10.551358Z",
     "shell.execute_reply": "2022-10-07T16:35:10.549834Z",
     "shell.execute_reply.started": "2022-10-07T16:35:10.545954Z"
    },
    "id": "ah2FW3bKKCYB"
   },
   "outputs": [],
   "source": [
    "from sklearn.tree import DecisionTreeClassifier  "
   ]
  },
  {
   "cell_type": "code",
   "execution_count": 117,
   "id": "7d98c1c8",
   "metadata": {
    "execution": {
     "iopub.execute_input": "2022-10-07T16:35:10.555582Z",
     "iopub.status.busy": "2022-10-07T16:35:10.554520Z",
     "iopub.status.idle": "2022-10-07T16:35:10.586147Z",
     "shell.execute_reply": "2022-10-07T16:35:10.584718Z",
     "shell.execute_reply.started": "2022-10-07T16:35:10.555501Z"
    },
    "id": "djGxLOxw0ybM"
   },
   "outputs": [],
   "source": [
    "X = cc_update.drop(['willdefault','Payement_Value','Dues'],axis=1)\n",
    "y = cc_update['willdefault']"
   ]
  },
  {
   "cell_type": "code",
   "execution_count": 118,
   "id": "c4e3939f",
   "metadata": {
    "execution": {
     "iopub.execute_input": "2022-10-07T16:35:13.332430Z",
     "iopub.status.busy": "2022-10-07T16:35:13.331967Z",
     "iopub.status.idle": "2022-10-07T16:35:13.400204Z",
     "shell.execute_reply": "2022-10-07T16:35:13.398316Z",
     "shell.execute_reply.started": "2022-10-07T16:35:13.332395Z"
    },
    "id": "Hx79ffGK1CT8"
   },
   "outputs": [],
   "source": [
    "X_train, X_test, y_train, y_test = train_test_split(X, y, test_size=0.3, random_state=1, stratify = y)"
   ]
  },
  {
   "cell_type": "code",
   "execution_count": 119,
   "id": "40126018",
   "metadata": {
    "colab": {
     "base_uri": "https://localhost:8080/"
    },
    "execution": {
     "iopub.execute_input": "2022-10-07T16:35:15.106876Z",
     "iopub.status.busy": "2022-10-07T16:35:15.106427Z",
     "iopub.status.idle": "2022-10-07T16:35:16.375416Z",
     "shell.execute_reply": "2022-10-07T16:35:16.374149Z",
     "shell.execute_reply.started": "2022-10-07T16:35:15.106842Z"
    },
    "id": "keqxOEzuzrwh",
    "outputId": "6b6921b6-6253-4ecb-9eda-f15bb931b330"
   },
   "outputs": [
    {
     "name": "stdout",
     "output_type": "stream",
     "text": [
      "Fitting 3 folds for each of 12 candidates, totalling 36 fits\n"
     ]
    },
    {
     "data": {
      "text/html": [
       "<style>#sk-container-id-11 {color: black;background-color: white;}#sk-container-id-11 pre{padding: 0;}#sk-container-id-11 div.sk-toggleable {background-color: white;}#sk-container-id-11 label.sk-toggleable__label {cursor: pointer;display: block;width: 100%;margin-bottom: 0;padding: 0.3em;box-sizing: border-box;text-align: center;}#sk-container-id-11 label.sk-toggleable__label-arrow:before {content: \"▸\";float: left;margin-right: 0.25em;color: #696969;}#sk-container-id-11 label.sk-toggleable__label-arrow:hover:before {color: black;}#sk-container-id-11 div.sk-estimator:hover label.sk-toggleable__label-arrow:before {color: black;}#sk-container-id-11 div.sk-toggleable__content {max-height: 0;max-width: 0;overflow: hidden;text-align: left;background-color: #f0f8ff;}#sk-container-id-11 div.sk-toggleable__content pre {margin: 0.2em;color: black;border-radius: 0.25em;background-color: #f0f8ff;}#sk-container-id-11 input.sk-toggleable__control:checked~div.sk-toggleable__content {max-height: 200px;max-width: 100%;overflow: auto;}#sk-container-id-11 input.sk-toggleable__control:checked~label.sk-toggleable__label-arrow:before {content: \"▾\";}#sk-container-id-11 div.sk-estimator input.sk-toggleable__control:checked~label.sk-toggleable__label {background-color: #d4ebff;}#sk-container-id-11 div.sk-label input.sk-toggleable__control:checked~label.sk-toggleable__label {background-color: #d4ebff;}#sk-container-id-11 input.sk-hidden--visually {border: 0;clip: rect(1px 1px 1px 1px);clip: rect(1px, 1px, 1px, 1px);height: 1px;margin: -1px;overflow: hidden;padding: 0;position: absolute;width: 1px;}#sk-container-id-11 div.sk-estimator {font-family: monospace;background-color: #f0f8ff;border: 1px dotted black;border-radius: 0.25em;box-sizing: border-box;margin-bottom: 0.5em;}#sk-container-id-11 div.sk-estimator:hover {background-color: #d4ebff;}#sk-container-id-11 div.sk-parallel-item::after {content: \"\";width: 100%;border-bottom: 1px solid gray;flex-grow: 1;}#sk-container-id-11 div.sk-label:hover label.sk-toggleable__label {background-color: #d4ebff;}#sk-container-id-11 div.sk-serial::before {content: \"\";position: absolute;border-left: 1px solid gray;box-sizing: border-box;top: 0;bottom: 0;left: 50%;z-index: 0;}#sk-container-id-11 div.sk-serial {display: flex;flex-direction: column;align-items: center;background-color: white;padding-right: 0.2em;padding-left: 0.2em;position: relative;}#sk-container-id-11 div.sk-item {position: relative;z-index: 1;}#sk-container-id-11 div.sk-parallel {display: flex;align-items: stretch;justify-content: center;background-color: white;position: relative;}#sk-container-id-11 div.sk-item::before, #sk-container-id-11 div.sk-parallel-item::before {content: \"\";position: absolute;border-left: 1px solid gray;box-sizing: border-box;top: 0;bottom: 0;left: 50%;z-index: -1;}#sk-container-id-11 div.sk-parallel-item {display: flex;flex-direction: column;z-index: 1;position: relative;background-color: white;}#sk-container-id-11 div.sk-parallel-item:first-child::after {align-self: flex-end;width: 50%;}#sk-container-id-11 div.sk-parallel-item:last-child::after {align-self: flex-start;width: 50%;}#sk-container-id-11 div.sk-parallel-item:only-child::after {width: 0;}#sk-container-id-11 div.sk-dashed-wrapped {border: 1px dashed gray;margin: 0 0.4em 0.5em 0.4em;box-sizing: border-box;padding-bottom: 0.4em;background-color: white;}#sk-container-id-11 div.sk-label label {font-family: monospace;font-weight: bold;display: inline-block;line-height: 1.2em;}#sk-container-id-11 div.sk-label-container {text-align: center;}#sk-container-id-11 div.sk-container {/* jupyter's `normalize.less` sets `[hidden] { display: none; }` but bootstrap.min.css set `[hidden] { display: none !important; }` so we also need the `!important` here to be able to override the default hidden behavior on the sphinx rendered scikit-learn.org. See: https://github.com/scikit-learn/scikit-learn/issues/21755 */display: inline-block !important;position: relative;}#sk-container-id-11 div.sk-text-repr-fallback {display: none;}</style><div id=\"sk-container-id-11\" class=\"sk-top-container\"><div class=\"sk-text-repr-fallback\"><pre>GridSearchCV(cv=3, estimator=DecisionTreeClassifier(), n_jobs=-1,\n",
       "             param_grid={&#x27;max_depth&#x27;: [20, 30, 50, 100],\n",
       "                         &#x27;min_samples_split&#x27;: [0.1, 0.2, 0.4]},\n",
       "             scoring=&#x27;accuracy&#x27;, verbose=3)</pre><b>In a Jupyter environment, please rerun this cell to show the HTML representation or trust the notebook. <br />On GitHub, the HTML representation is unable to render, please try loading this page with nbviewer.org.</b></div><div class=\"sk-container\" hidden><div class=\"sk-item sk-dashed-wrapped\"><div class=\"sk-label-container\"><div class=\"sk-label sk-toggleable\"><input class=\"sk-toggleable__control sk-hidden--visually\" id=\"sk-estimator-id-21\" type=\"checkbox\" ><label for=\"sk-estimator-id-21\" class=\"sk-toggleable__label sk-toggleable__label-arrow\">GridSearchCV</label><div class=\"sk-toggleable__content\"><pre>GridSearchCV(cv=3, estimator=DecisionTreeClassifier(), n_jobs=-1,\n",
       "             param_grid={&#x27;max_depth&#x27;: [20, 30, 50, 100],\n",
       "                         &#x27;min_samples_split&#x27;: [0.1, 0.2, 0.4]},\n",
       "             scoring=&#x27;accuracy&#x27;, verbose=3)</pre></div></div></div><div class=\"sk-parallel\"><div class=\"sk-parallel-item\"><div class=\"sk-item\"><div class=\"sk-label-container\"><div class=\"sk-label sk-toggleable\"><input class=\"sk-toggleable__control sk-hidden--visually\" id=\"sk-estimator-id-22\" type=\"checkbox\" ><label for=\"sk-estimator-id-22\" class=\"sk-toggleable__label sk-toggleable__label-arrow\">estimator: DecisionTreeClassifier</label><div class=\"sk-toggleable__content\"><pre>DecisionTreeClassifier()</pre></div></div></div><div class=\"sk-serial\"><div class=\"sk-item\"><div class=\"sk-estimator sk-toggleable\"><input class=\"sk-toggleable__control sk-hidden--visually\" id=\"sk-estimator-id-23\" type=\"checkbox\" ><label for=\"sk-estimator-id-23\" class=\"sk-toggleable__label sk-toggleable__label-arrow\">DecisionTreeClassifier</label><div class=\"sk-toggleable__content\"><pre>DecisionTreeClassifier()</pre></div></div></div></div></div></div></div></div></div></div>"
      ],
      "text/plain": [
       "GridSearchCV(cv=3, estimator=DecisionTreeClassifier(), n_jobs=-1,\n",
       "             param_grid={'max_depth': [20, 30, 50, 100],\n",
       "                         'min_samples_split': [0.1, 0.2, 0.4]},\n",
       "             scoring='accuracy', verbose=3)"
      ]
     },
     "execution_count": 119,
     "metadata": {},
     "output_type": "execute_result"
    }
   ],
   "source": [
    "grid_DTC_clf = GridSearchCV(DecisionTreeClassifier(), param_grid, scoring = 'accuracy', n_jobs = -1, verbose = 3, cv = 3)\n",
    "grid_DTC_clf.fit(X_train, y_train)"
   ]
  },
  {
   "cell_type": "code",
   "execution_count": 120,
   "id": "03a6cec8",
   "metadata": {
    "colab": {
     "base_uri": "https://localhost:8080/"
    },
    "execution": {
     "iopub.execute_input": "2022-10-07T16:35:16.380237Z",
     "iopub.status.busy": "2022-10-07T16:35:16.379293Z",
     "iopub.status.idle": "2022-10-07T16:35:16.389249Z",
     "shell.execute_reply": "2022-10-07T16:35:16.387950Z",
     "shell.execute_reply.started": "2022-10-07T16:35:16.380186Z"
    },
    "id": "sAoDRBfH1GAb",
    "outputId": "bedbdb21-3a9b-40c4-a48a-a5d91173ea65"
   },
   "outputs": [
    {
     "data": {
      "text/plain": [
       "0.8145273631840796"
      ]
     },
     "execution_count": 120,
     "metadata": {},
     "output_type": "execute_result"
    }
   ],
   "source": [
    "grid_DTC_clf.best_score_"
   ]
  },
  {
   "cell_type": "code",
   "execution_count": 121,
   "id": "6cdbaf6b",
   "metadata": {
    "execution": {
     "iopub.execute_input": "2022-10-07T16:35:16.391125Z",
     "iopub.status.busy": "2022-10-07T16:35:16.390706Z",
     "iopub.status.idle": "2022-10-07T16:35:16.401559Z",
     "shell.execute_reply": "2022-10-07T16:35:16.400616Z",
     "shell.execute_reply.started": "2022-10-07T16:35:16.391080Z"
    },
    "id": "bBM0KSse1joa"
   },
   "outputs": [],
   "source": [
    "optimal_DTC_clf = grid_DTC_clf.best_estimator_"
   ]
  },
  {
   "cell_type": "code",
   "execution_count": 122,
   "id": "b1a3ea6b",
   "metadata": {
    "execution": {
     "iopub.execute_input": "2022-10-07T16:35:16.404169Z",
     "iopub.status.busy": "2022-10-07T16:35:16.402850Z",
     "iopub.status.idle": "2022-10-07T16:35:16.432445Z",
     "shell.execute_reply": "2022-10-07T16:35:16.431367Z",
     "shell.execute_reply.started": "2022-10-07T16:35:16.404119Z"
    },
    "id": "_4Co8P4n14hq"
   },
   "outputs": [],
   "source": [
    "# Get the predicted classes\n",
    "train_class_preds = optimal_DTC_clf.predict(X_train)\n",
    "test_class_preds = optimal_DTC_clf.predict(X_test)"
   ]
  },
  {
   "cell_type": "code",
   "execution_count": 123,
   "id": "f82c451a",
   "metadata": {
    "colab": {
     "base_uri": "https://localhost:8080/"
    },
    "execution": {
     "iopub.execute_input": "2022-10-07T16:35:16.650949Z",
     "iopub.status.busy": "2022-10-07T16:35:16.649263Z",
     "iopub.status.idle": "2022-10-07T16:35:16.658263Z",
     "shell.execute_reply": "2022-10-07T16:35:16.657013Z",
     "shell.execute_reply.started": "2022-10-07T16:35:16.650904Z"
    },
    "id": "lStvckTr2XSK",
    "outputId": "4b1342d9-e557-47fb-c722-dfdb85ae055a"
   },
   "outputs": [
    {
     "data": {
      "text/plain": [
       "{'max_depth': 20, 'min_samples_split': 0.2}"
      ]
     },
     "execution_count": 123,
     "metadata": {},
     "output_type": "execute_result"
    }
   ],
   "source": [
    "grid_DTC_clf.best_params_"
   ]
  },
  {
   "cell_type": "code",
   "execution_count": 124,
   "id": "378af425",
   "metadata": {
    "colab": {
     "base_uri": "https://localhost:8080/"
    },
    "execution": {
     "iopub.execute_input": "2022-10-07T16:35:18.895978Z",
     "iopub.status.busy": "2022-10-07T16:35:18.895571Z",
     "iopub.status.idle": "2022-10-07T16:35:18.911767Z",
     "shell.execute_reply": "2022-10-07T16:35:18.910027Z",
     "shell.execute_reply.started": "2022-10-07T16:35:18.895949Z"
    },
    "id": "7_06IkNk2DFr",
    "outputId": "542ef6da-1f3a-4e2a-b977-f735761d2c60"
   },
   "outputs": [
    {
     "name": "stdout",
     "output_type": "stream",
     "text": [
      "The accuracy on train data is  0.815820895522388\n",
      "The accuracy on test data is  0.8127272727272727\n"
     ]
    }
   ],
   "source": [
    "# Get the accuracy scores\n",
    "train_accuracy_DTC = accuracy_score(train_class_preds,y_train)\n",
    "test_accuracy_DTC = accuracy_score(test_class_preds,y_test)\n",
    "\n",
    "print(\"The accuracy on train data is \", train_accuracy_DTC)\n",
    "print(\"The accuracy on test data is \", test_accuracy_DTC)"
   ]
  },
  {
   "cell_type": "markdown",
   "id": "c31d10c6",
   "metadata": {
    "id": "tAoFUo142fkB"
   },
   "source": [
    "## RandomForest"
   ]
  },
  {
   "cell_type": "code",
   "execution_count": 125,
   "id": "6d0ebf1e",
   "metadata": {
    "execution": {
     "iopub.execute_input": "2022-10-07T16:35:20.936639Z",
     "iopub.status.busy": "2022-10-07T16:35:20.935970Z",
     "iopub.status.idle": "2022-10-07T16:35:20.941559Z",
     "shell.execute_reply": "2022-10-07T16:35:20.940578Z",
     "shell.execute_reply.started": "2022-10-07T16:35:20.936602Z"
    },
    "id": "S37EzaSq2MHK"
   },
   "outputs": [],
   "source": [
    "from sklearn.ensemble import RandomForestClassifier"
   ]
  },
  {
   "cell_type": "code",
   "execution_count": 127,
   "id": "084eead7",
   "metadata": {
    "execution": {
     "iopub.execute_input": "2022-10-07T16:35:20.945204Z",
     "iopub.status.busy": "2022-10-07T16:35:20.944080Z",
     "iopub.status.idle": "2022-10-07T16:35:20.965532Z",
     "shell.execute_reply": "2022-10-07T16:35:20.963754Z",
     "shell.execute_reply.started": "2022-10-07T16:35:20.945150Z"
    },
    "id": "7YL09mQUG-jp"
   },
   "outputs": [],
   "source": [
    "X = cc_update.drop(['willdefault','Payement_Value','Dues'],axis=1)\n",
    "y = cc_update['willdefault']"
   ]
  },
  {
   "cell_type": "code",
   "execution_count": 128,
   "id": "f031c296",
   "metadata": {
    "colab": {
     "base_uri": "https://localhost:8080/"
    },
    "execution": {
     "iopub.execute_input": "2022-10-07T16:35:22.225459Z",
     "iopub.status.busy": "2022-10-07T16:35:22.224951Z",
     "iopub.status.idle": "2022-10-07T16:35:26.924201Z",
     "shell.execute_reply": "2022-10-07T16:35:26.922872Z",
     "shell.execute_reply.started": "2022-10-07T16:35:22.225420Z"
    },
    "id": "SYIzIcxy5iqL",
    "outputId": "bd10d522-b9c8-407a-9b42-16e054ecc131"
   },
   "outputs": [
    {
     "data": {
      "text/html": [
       "<style>#sk-container-id-12 {color: black;background-color: white;}#sk-container-id-12 pre{padding: 0;}#sk-container-id-12 div.sk-toggleable {background-color: white;}#sk-container-id-12 label.sk-toggleable__label {cursor: pointer;display: block;width: 100%;margin-bottom: 0;padding: 0.3em;box-sizing: border-box;text-align: center;}#sk-container-id-12 label.sk-toggleable__label-arrow:before {content: \"▸\";float: left;margin-right: 0.25em;color: #696969;}#sk-container-id-12 label.sk-toggleable__label-arrow:hover:before {color: black;}#sk-container-id-12 div.sk-estimator:hover label.sk-toggleable__label-arrow:before {color: black;}#sk-container-id-12 div.sk-toggleable__content {max-height: 0;max-width: 0;overflow: hidden;text-align: left;background-color: #f0f8ff;}#sk-container-id-12 div.sk-toggleable__content pre {margin: 0.2em;color: black;border-radius: 0.25em;background-color: #f0f8ff;}#sk-container-id-12 input.sk-toggleable__control:checked~div.sk-toggleable__content {max-height: 200px;max-width: 100%;overflow: auto;}#sk-container-id-12 input.sk-toggleable__control:checked~label.sk-toggleable__label-arrow:before {content: \"▾\";}#sk-container-id-12 div.sk-estimator input.sk-toggleable__control:checked~label.sk-toggleable__label {background-color: #d4ebff;}#sk-container-id-12 div.sk-label input.sk-toggleable__control:checked~label.sk-toggleable__label {background-color: #d4ebff;}#sk-container-id-12 input.sk-hidden--visually {border: 0;clip: rect(1px 1px 1px 1px);clip: rect(1px, 1px, 1px, 1px);height: 1px;margin: -1px;overflow: hidden;padding: 0;position: absolute;width: 1px;}#sk-container-id-12 div.sk-estimator {font-family: monospace;background-color: #f0f8ff;border: 1px dotted black;border-radius: 0.25em;box-sizing: border-box;margin-bottom: 0.5em;}#sk-container-id-12 div.sk-estimator:hover {background-color: #d4ebff;}#sk-container-id-12 div.sk-parallel-item::after {content: \"\";width: 100%;border-bottom: 1px solid gray;flex-grow: 1;}#sk-container-id-12 div.sk-label:hover label.sk-toggleable__label {background-color: #d4ebff;}#sk-container-id-12 div.sk-serial::before {content: \"\";position: absolute;border-left: 1px solid gray;box-sizing: border-box;top: 0;bottom: 0;left: 50%;z-index: 0;}#sk-container-id-12 div.sk-serial {display: flex;flex-direction: column;align-items: center;background-color: white;padding-right: 0.2em;padding-left: 0.2em;position: relative;}#sk-container-id-12 div.sk-item {position: relative;z-index: 1;}#sk-container-id-12 div.sk-parallel {display: flex;align-items: stretch;justify-content: center;background-color: white;position: relative;}#sk-container-id-12 div.sk-item::before, #sk-container-id-12 div.sk-parallel-item::before {content: \"\";position: absolute;border-left: 1px solid gray;box-sizing: border-box;top: 0;bottom: 0;left: 50%;z-index: -1;}#sk-container-id-12 div.sk-parallel-item {display: flex;flex-direction: column;z-index: 1;position: relative;background-color: white;}#sk-container-id-12 div.sk-parallel-item:first-child::after {align-self: flex-end;width: 50%;}#sk-container-id-12 div.sk-parallel-item:last-child::after {align-self: flex-start;width: 50%;}#sk-container-id-12 div.sk-parallel-item:only-child::after {width: 0;}#sk-container-id-12 div.sk-dashed-wrapped {border: 1px dashed gray;margin: 0 0.4em 0.5em 0.4em;box-sizing: border-box;padding-bottom: 0.4em;background-color: white;}#sk-container-id-12 div.sk-label label {font-family: monospace;font-weight: bold;display: inline-block;line-height: 1.2em;}#sk-container-id-12 div.sk-label-container {text-align: center;}#sk-container-id-12 div.sk-container {/* jupyter's `normalize.less` sets `[hidden] { display: none; }` but bootstrap.min.css set `[hidden] { display: none !important; }` so we also need the `!important` here to be able to override the default hidden behavior on the sphinx rendered scikit-learn.org. See: https://github.com/scikit-learn/scikit-learn/issues/21755 */display: inline-block !important;position: relative;}#sk-container-id-12 div.sk-text-repr-fallback {display: none;}</style><div id=\"sk-container-id-12\" class=\"sk-top-container\"><div class=\"sk-text-repr-fallback\"><pre>RandomForestClassifier()</pre><b>In a Jupyter environment, please rerun this cell to show the HTML representation or trust the notebook. <br />On GitHub, the HTML representation is unable to render, please try loading this page with nbviewer.org.</b></div><div class=\"sk-container\" hidden><div class=\"sk-item\"><div class=\"sk-estimator sk-toggleable\"><input class=\"sk-toggleable__control sk-hidden--visually\" id=\"sk-estimator-id-24\" type=\"checkbox\" checked><label for=\"sk-estimator-id-24\" class=\"sk-toggleable__label sk-toggleable__label-arrow\">RandomForestClassifier</label><div class=\"sk-toggleable__content\"><pre>RandomForestClassifier()</pre></div></div></div></div></div>"
      ],
      "text/plain": [
       "RandomForestClassifier()"
      ]
     },
     "execution_count": 128,
     "metadata": {},
     "output_type": "execute_result"
    }
   ],
   "source": [
    "rf_clf = RandomForestClassifier()\n",
    "rf_clf.fit(X_train,y_train)"
   ]
  },
  {
   "cell_type": "code",
   "execution_count": 129,
   "id": "2812ca58",
   "metadata": {
    "execution": {
     "iopub.execute_input": "2022-10-07T16:35:26.927271Z",
     "iopub.status.busy": "2022-10-07T16:35:26.926809Z",
     "iopub.status.idle": "2022-10-07T16:35:27.753820Z",
     "shell.execute_reply": "2022-10-07T16:35:27.752374Z",
     "shell.execute_reply.started": "2022-10-07T16:35:26.927233Z"
    },
    "id": "EAKp3AGJ50Z6"
   },
   "outputs": [],
   "source": [
    "# Get the predicted classes\n",
    "train_class_preds = rf_clf.predict(X_train)\n",
    "test_class_preds = rf_clf.predict(X_test)"
   ]
  },
  {
   "cell_type": "code",
   "execution_count": 130,
   "id": "10915275",
   "metadata": {
    "colab": {
     "base_uri": "https://localhost:8080/"
    },
    "execution": {
     "iopub.execute_input": "2022-10-07T16:35:27.756657Z",
     "iopub.status.busy": "2022-10-07T16:35:27.755790Z",
     "iopub.status.idle": "2022-10-07T16:35:27.771262Z",
     "shell.execute_reply": "2022-10-07T16:35:27.769263Z",
     "shell.execute_reply.started": "2022-10-07T16:35:27.756604Z"
    },
    "id": "vPosQQLY5_O6",
    "outputId": "d3f9023a-c7e9-4b7a-9403-04c57fbda803"
   },
   "outputs": [
    {
     "name": "stdout",
     "output_type": "stream",
     "text": [
      "The accuracy on train data is  0.9994029850746269\n",
      "The accuracy on test data is  0.8147474747474748\n"
     ]
    }
   ],
   "source": [
    "# Get the accuracy scores\n",
    "train_accuracy_rf = accuracy_score(train_class_preds,y_train)\n",
    "test_accuracy_rf = accuracy_score(test_class_preds,y_test)\n",
    "\n",
    "print(\"The accuracy on train data is \", train_accuracy_rf)\n",
    "print(\"The accuracy on test data is \", test_accuracy_rf)"
   ]
  },
  {
   "cell_type": "code",
   "execution_count": 131,
   "id": "99a65dc1",
   "metadata": {
    "colab": {
     "base_uri": "https://localhost:8080/"
    },
    "execution": {
     "iopub.execute_input": "2022-10-07T16:35:27.775032Z",
     "iopub.status.busy": "2022-10-07T16:35:27.774443Z",
     "iopub.status.idle": "2022-10-07T16:35:27.819808Z",
     "shell.execute_reply": "2022-10-07T16:35:27.818225Z",
     "shell.execute_reply.started": "2022-10-07T16:35:27.774980Z"
    },
    "id": "H6vaWREf6Hmw",
    "outputId": "785180a2-b88e-4ea3-ef81-b07a3106ccee"
   },
   "outputs": [
    {
     "name": "stdout",
     "output_type": "stream",
     "text": [
      "The accuracy on test data is  0.8147474747474748\n",
      "The precision on test data is  0.36164383561643837\n",
      "The recall on test data is  0.6449511400651465\n",
      "The f1 on test data is  0.46342890579286133\n",
      "The roc_score on test data is  0.7418713264901378\n"
     ]
    }
   ],
   "source": [
    "test_accuracy_rf = accuracy_score(test_class_preds,y_test)\n",
    "test_precision_score_rf = precision_score(test_class_preds,y_test)\n",
    "test_recall_score_rf = recall_score(test_class_preds,y_test)\n",
    "test_f1_score_rf = f1_score(test_class_preds,y_test)\n",
    "test_roc_score_rf = roc_auc_score(test_class_preds,y_test)\n",
    "\n",
    "print(\"The accuracy on test data is \", test_accuracy_rf)\n",
    "print(\"The precision on test data is \", test_precision_score_rf)\n",
    "print(\"The recall on test data is \", test_recall_score_rf)\n",
    "print(\"The f1 on test data is \", test_f1_score_rf)\n",
    "print(\"The roc_score on test data is \", test_roc_score_rf)"
   ]
  },
  {
   "cell_type": "code",
   "execution_count": 132,
   "id": "f8a44ad5",
   "metadata": {
    "execution": {
     "iopub.execute_input": "2022-10-07T16:35:34.148193Z",
     "iopub.status.busy": "2022-10-07T16:35:34.147759Z",
     "iopub.status.idle": "2022-10-07T16:35:34.153643Z",
     "shell.execute_reply": "2022-10-07T16:35:34.152367Z",
     "shell.execute_reply.started": "2022-10-07T16:35:34.148152Z"
    },
    "id": "uDLMa1uh6gXa"
   },
   "outputs": [],
   "source": [
    "param_grid = {'n_estimators': [100,150,200], 'max_depth': [10,20,30]}"
   ]
  },
  {
   "cell_type": "code",
   "execution_count": 133,
   "id": "4bac57e8",
   "metadata": {
    "colab": {
     "base_uri": "https://localhost:8080/"
    },
    "execution": {
     "iopub.execute_input": "2022-10-07T16:35:34.993434Z",
     "iopub.status.busy": "2022-10-07T16:35:34.992914Z",
     "iopub.status.idle": "2022-10-07T16:36:26.532005Z",
     "shell.execute_reply": "2022-10-07T16:36:26.529939Z",
     "shell.execute_reply.started": "2022-10-07T16:35:34.993396Z"
    },
    "id": "dVxheUAh7kRT",
    "outputId": "7726812a-b84d-4b1a-c3bb-36345e246c7b"
   },
   "outputs": [
    {
     "name": "stdout",
     "output_type": "stream",
     "text": [
      "Fitting 3 folds for each of 9 candidates, totalling 27 fits\n"
     ]
    },
    {
     "data": {
      "text/html": [
       "<style>#sk-container-id-13 {color: black;background-color: white;}#sk-container-id-13 pre{padding: 0;}#sk-container-id-13 div.sk-toggleable {background-color: white;}#sk-container-id-13 label.sk-toggleable__label {cursor: pointer;display: block;width: 100%;margin-bottom: 0;padding: 0.3em;box-sizing: border-box;text-align: center;}#sk-container-id-13 label.sk-toggleable__label-arrow:before {content: \"▸\";float: left;margin-right: 0.25em;color: #696969;}#sk-container-id-13 label.sk-toggleable__label-arrow:hover:before {color: black;}#sk-container-id-13 div.sk-estimator:hover label.sk-toggleable__label-arrow:before {color: black;}#sk-container-id-13 div.sk-toggleable__content {max-height: 0;max-width: 0;overflow: hidden;text-align: left;background-color: #f0f8ff;}#sk-container-id-13 div.sk-toggleable__content pre {margin: 0.2em;color: black;border-radius: 0.25em;background-color: #f0f8ff;}#sk-container-id-13 input.sk-toggleable__control:checked~div.sk-toggleable__content {max-height: 200px;max-width: 100%;overflow: auto;}#sk-container-id-13 input.sk-toggleable__control:checked~label.sk-toggleable__label-arrow:before {content: \"▾\";}#sk-container-id-13 div.sk-estimator input.sk-toggleable__control:checked~label.sk-toggleable__label {background-color: #d4ebff;}#sk-container-id-13 div.sk-label input.sk-toggleable__control:checked~label.sk-toggleable__label {background-color: #d4ebff;}#sk-container-id-13 input.sk-hidden--visually {border: 0;clip: rect(1px 1px 1px 1px);clip: rect(1px, 1px, 1px, 1px);height: 1px;margin: -1px;overflow: hidden;padding: 0;position: absolute;width: 1px;}#sk-container-id-13 div.sk-estimator {font-family: monospace;background-color: #f0f8ff;border: 1px dotted black;border-radius: 0.25em;box-sizing: border-box;margin-bottom: 0.5em;}#sk-container-id-13 div.sk-estimator:hover {background-color: #d4ebff;}#sk-container-id-13 div.sk-parallel-item::after {content: \"\";width: 100%;border-bottom: 1px solid gray;flex-grow: 1;}#sk-container-id-13 div.sk-label:hover label.sk-toggleable__label {background-color: #d4ebff;}#sk-container-id-13 div.sk-serial::before {content: \"\";position: absolute;border-left: 1px solid gray;box-sizing: border-box;top: 0;bottom: 0;left: 50%;z-index: 0;}#sk-container-id-13 div.sk-serial {display: flex;flex-direction: column;align-items: center;background-color: white;padding-right: 0.2em;padding-left: 0.2em;position: relative;}#sk-container-id-13 div.sk-item {position: relative;z-index: 1;}#sk-container-id-13 div.sk-parallel {display: flex;align-items: stretch;justify-content: center;background-color: white;position: relative;}#sk-container-id-13 div.sk-item::before, #sk-container-id-13 div.sk-parallel-item::before {content: \"\";position: absolute;border-left: 1px solid gray;box-sizing: border-box;top: 0;bottom: 0;left: 50%;z-index: -1;}#sk-container-id-13 div.sk-parallel-item {display: flex;flex-direction: column;z-index: 1;position: relative;background-color: white;}#sk-container-id-13 div.sk-parallel-item:first-child::after {align-self: flex-end;width: 50%;}#sk-container-id-13 div.sk-parallel-item:last-child::after {align-self: flex-start;width: 50%;}#sk-container-id-13 div.sk-parallel-item:only-child::after {width: 0;}#sk-container-id-13 div.sk-dashed-wrapped {border: 1px dashed gray;margin: 0 0.4em 0.5em 0.4em;box-sizing: border-box;padding-bottom: 0.4em;background-color: white;}#sk-container-id-13 div.sk-label label {font-family: monospace;font-weight: bold;display: inline-block;line-height: 1.2em;}#sk-container-id-13 div.sk-label-container {text-align: center;}#sk-container-id-13 div.sk-container {/* jupyter's `normalize.less` sets `[hidden] { display: none; }` but bootstrap.min.css set `[hidden] { display: none !important; }` so we also need the `!important` here to be able to override the default hidden behavior on the sphinx rendered scikit-learn.org. See: https://github.com/scikit-learn/scikit-learn/issues/21755 */display: inline-block !important;position: relative;}#sk-container-id-13 div.sk-text-repr-fallback {display: none;}</style><div id=\"sk-container-id-13\" class=\"sk-top-container\"><div class=\"sk-text-repr-fallback\"><pre>GridSearchCV(cv=3, estimator=RandomForestClassifier(), n_jobs=-1,\n",
       "             param_grid={&#x27;max_depth&#x27;: [10, 20, 30],\n",
       "                         &#x27;n_estimators&#x27;: [100, 150, 200]},\n",
       "             scoring=&#x27;accuracy&#x27;, verbose=3)</pre><b>In a Jupyter environment, please rerun this cell to show the HTML representation or trust the notebook. <br />On GitHub, the HTML representation is unable to render, please try loading this page with nbviewer.org.</b></div><div class=\"sk-container\" hidden><div class=\"sk-item sk-dashed-wrapped\"><div class=\"sk-label-container\"><div class=\"sk-label sk-toggleable\"><input class=\"sk-toggleable__control sk-hidden--visually\" id=\"sk-estimator-id-25\" type=\"checkbox\" ><label for=\"sk-estimator-id-25\" class=\"sk-toggleable__label sk-toggleable__label-arrow\">GridSearchCV</label><div class=\"sk-toggleable__content\"><pre>GridSearchCV(cv=3, estimator=RandomForestClassifier(), n_jobs=-1,\n",
       "             param_grid={&#x27;max_depth&#x27;: [10, 20, 30],\n",
       "                         &#x27;n_estimators&#x27;: [100, 150, 200]},\n",
       "             scoring=&#x27;accuracy&#x27;, verbose=3)</pre></div></div></div><div class=\"sk-parallel\"><div class=\"sk-parallel-item\"><div class=\"sk-item\"><div class=\"sk-label-container\"><div class=\"sk-label sk-toggleable\"><input class=\"sk-toggleable__control sk-hidden--visually\" id=\"sk-estimator-id-26\" type=\"checkbox\" ><label for=\"sk-estimator-id-26\" class=\"sk-toggleable__label sk-toggleable__label-arrow\">estimator: RandomForestClassifier</label><div class=\"sk-toggleable__content\"><pre>RandomForestClassifier()</pre></div></div></div><div class=\"sk-serial\"><div class=\"sk-item\"><div class=\"sk-estimator sk-toggleable\"><input class=\"sk-toggleable__control sk-hidden--visually\" id=\"sk-estimator-id-27\" type=\"checkbox\" ><label for=\"sk-estimator-id-27\" class=\"sk-toggleable__label sk-toggleable__label-arrow\">RandomForestClassifier</label><div class=\"sk-toggleable__content\"><pre>RandomForestClassifier()</pre></div></div></div></div></div></div></div></div></div></div>"
      ],
      "text/plain": [
       "GridSearchCV(cv=3, estimator=RandomForestClassifier(), n_jobs=-1,\n",
       "             param_grid={'max_depth': [10, 20, 30],\n",
       "                         'n_estimators': [100, 150, 200]},\n",
       "             scoring='accuracy', verbose=3)"
      ]
     },
     "execution_count": 133,
     "metadata": {},
     "output_type": "execute_result"
    }
   ],
   "source": [
    "grid_rf_clf = GridSearchCV(RandomForestClassifier(), param_grid, scoring = 'accuracy', n_jobs = -1, verbose = 3, cv = 3)\n",
    "grid_rf_clf.fit(X_train, y_train)"
   ]
  },
  {
   "cell_type": "code",
   "execution_count": 134,
   "id": "902d9e30",
   "metadata": {
    "colab": {
     "base_uri": "https://localhost:8080/"
    },
    "execution": {
     "iopub.execute_input": "2022-10-07T16:36:26.534857Z",
     "iopub.status.busy": "2022-10-07T16:36:26.534288Z",
     "iopub.status.idle": "2022-10-07T16:36:26.544958Z",
     "shell.execute_reply": "2022-10-07T16:36:26.542675Z",
     "shell.execute_reply.started": "2022-10-07T16:36:26.534817Z"
    },
    "id": "VP06phjb7-V6",
    "outputId": "bb5bfe68-4447-4d0b-abd6-9011e0b484de"
   },
   "outputs": [
    {
     "data": {
      "text/plain": [
       "0.8210945273631841"
      ]
     },
     "execution_count": 134,
     "metadata": {},
     "output_type": "execute_result"
    }
   ],
   "source": [
    "grid_rf_clf.best_score_"
   ]
  },
  {
   "cell_type": "code",
   "execution_count": 135,
   "id": "58244132",
   "metadata": {
    "colab": {
     "base_uri": "https://localhost:8080/"
    },
    "execution": {
     "iopub.execute_input": "2022-10-07T16:36:26.546808Z",
     "iopub.status.busy": "2022-10-07T16:36:26.546374Z",
     "iopub.status.idle": "2022-10-07T16:36:26.560296Z",
     "shell.execute_reply": "2022-10-07T16:36:26.558601Z",
     "shell.execute_reply.started": "2022-10-07T16:36:26.546771Z"
    },
    "id": "-S0jz_ON8o_K",
    "outputId": "4d20d9a7-cb85-478c-e24e-7cd2a5c341c5"
   },
   "outputs": [
    {
     "data": {
      "text/plain": [
       "{'max_depth': 10, 'n_estimators': 200}"
      ]
     },
     "execution_count": 135,
     "metadata": {},
     "output_type": "execute_result"
    }
   ],
   "source": [
    "grid_rf_clf.best_params_"
   ]
  },
  {
   "cell_type": "code",
   "execution_count": 136,
   "id": "867c0807",
   "metadata": {
    "execution": {
     "iopub.execute_input": "2022-10-07T16:36:26.564112Z",
     "iopub.status.busy": "2022-10-07T16:36:26.563377Z",
     "iopub.status.idle": "2022-10-07T16:36:26.573103Z",
     "shell.execute_reply": "2022-10-07T16:36:26.571076Z",
     "shell.execute_reply.started": "2022-10-07T16:36:26.564062Z"
    },
    "id": "k2nAO9Fz8yeh"
   },
   "outputs": [],
   "source": [
    "optimal_rf_clf = grid_rf_clf.best_estimator_"
   ]
  },
  {
   "cell_type": "code",
   "execution_count": 137,
   "id": "ad8122f5",
   "metadata": {
    "execution": {
     "iopub.execute_input": "2022-10-07T16:36:26.576963Z",
     "iopub.status.busy": "2022-10-07T16:36:26.576517Z",
     "iopub.status.idle": "2022-10-07T16:36:27.833514Z",
     "shell.execute_reply": "2022-10-07T16:36:27.831751Z",
     "shell.execute_reply.started": "2022-10-07T16:36:26.576929Z"
    },
    "id": "yl804ubz8-HJ"
   },
   "outputs": [],
   "source": [
    "# Get the predicted classes\n",
    "train_class_preds = optimal_rf_clf.predict(X_train)\n",
    "test_class_preds = optimal_rf_clf.predict(X_test)"
   ]
  },
  {
   "cell_type": "code",
   "execution_count": 138,
   "id": "7c836df0",
   "metadata": {
    "colab": {
     "base_uri": "https://localhost:8080/"
    },
    "execution": {
     "iopub.execute_input": "2022-10-07T16:36:41.439642Z",
     "iopub.status.busy": "2022-10-07T16:36:41.439184Z",
     "iopub.status.idle": "2022-10-07T16:36:41.454585Z",
     "shell.execute_reply": "2022-10-07T16:36:41.453298Z",
     "shell.execute_reply.started": "2022-10-07T16:36:41.439606Z"
    },
    "id": "B4Noljr59Kii",
    "outputId": "bfd511e3-536b-4a55-a64f-64b6f636690a"
   },
   "outputs": [
    {
     "name": "stdout",
     "output_type": "stream",
     "text": [
      "The accuracy on train data is  0.8514427860696517\n",
      "The accuracy on test data is  0.8166666666666667\n"
     ]
    }
   ],
   "source": [
    "# Get the accuracy scores\n",
    "train_accuracy_rf = accuracy_score(train_class_preds,y_train)\n",
    "test_accuracy_rf = accuracy_score(test_class_preds,y_test)\n",
    "\n",
    "print(\"The accuracy on train data is \", train_accuracy_rf)\n",
    "print(\"The accuracy on test data is \", test_accuracy_rf)"
   ]
  },
  {
   "cell_type": "code",
   "execution_count": 139,
   "id": "cbde98fe",
   "metadata": {
    "colab": {
     "base_uri": "https://localhost:8080/"
    },
    "execution": {
     "iopub.execute_input": "2022-10-07T16:36:44.623693Z",
     "iopub.status.busy": "2022-10-07T16:36:44.623254Z",
     "iopub.status.idle": "2022-10-07T16:36:44.666598Z",
     "shell.execute_reply": "2022-10-07T16:36:44.665209Z",
     "shell.execute_reply.started": "2022-10-07T16:36:44.623659Z"
    },
    "id": "EmPy5iIe9Wmy",
    "outputId": "f2dcb1a5-5ee0-460a-8c50-aa584b005454"
   },
   "outputs": [
    {
     "name": "stdout",
     "output_type": "stream",
     "text": [
      "The accuracy on test data is  0.8166666666666667\n",
      "The precision on test data is  0.33881278538812787\n",
      "The recall on test data is  0.6690712353471596\n",
      "The f1 on test data is  0.4498332828129737\n",
      "The roc_score on test data is  0.7521786616958753\n"
     ]
    }
   ],
   "source": [
    "test_accuracy_rf = accuracy_score(test_class_preds,y_test)\n",
    "test_precision_score_rf = precision_score(test_class_preds,y_test)\n",
    "test_recall_score_rf = recall_score(test_class_preds,y_test)\n",
    "test_f1_score_rf = f1_score(test_class_preds,y_test)\n",
    "test_roc_score_rf = roc_auc_score(test_class_preds,y_test)\n",
    "\n",
    "print(\"The accuracy on test data is \", test_accuracy_rf)\n",
    "print(\"The precision on test data is \", test_precision_score_rf)\n",
    "print(\"The recall on test data is \", test_recall_score_rf)\n",
    "print(\"The f1 on test data is \", test_f1_score_rf)\n",
    "print(\"The roc_score on test data is \", test_roc_score_rf)"
   ]
  },
  {
   "cell_type": "code",
   "execution_count": 140,
   "id": "f8246d16",
   "metadata": {
    "colab": {
     "base_uri": "https://localhost:8080/"
    },
    "execution": {
     "iopub.execute_input": "2022-10-07T16:36:44.984160Z",
     "iopub.status.busy": "2022-10-07T16:36:44.983595Z",
     "iopub.status.idle": "2022-10-07T16:36:45.019237Z",
     "shell.execute_reply": "2022-10-07T16:36:45.017847Z",
     "shell.execute_reply.started": "2022-10-07T16:36:44.984121Z"
    },
    "id": "pzcSQYx-H61X",
    "outputId": "bf0dc025-ebe1-4a7d-f4bc-97d14c1a9896"
   },
   "outputs": [
    {
     "data": {
      "text/plain": [
       "78"
      ]
     },
     "execution_count": 140,
     "metadata": {},
     "output_type": "execute_result"
    }
   ],
   "source": [
    "len(optimal_rf_clf.feature_importances_)"
   ]
  },
  {
   "cell_type": "code",
   "execution_count": 141,
   "id": "dcb81156",
   "metadata": {
    "colab": {
     "base_uri": "https://localhost:8080/",
     "height": 524
    },
    "execution": {
     "iopub.execute_input": "2022-10-07T16:37:06.316115Z",
     "iopub.status.busy": "2022-10-07T16:37:06.315640Z",
     "iopub.status.idle": "2022-10-07T16:37:06.620329Z",
     "shell.execute_reply": "2022-10-07T16:37:06.619340Z",
     "shell.execute_reply.started": "2022-10-07T16:37:06.316080Z"
    },
    "id": "5vyOsao3HQU0",
    "outputId": "04667cf1-4498-4348-80ab-f25600943bd4"
   },
   "outputs": [
    {
     "data": {
      "image/png": "[encoded data removed]",
      "text/plain": [
       "<Figure size 1224x432 with 1 Axes>"
      ]
     },
     "metadata": {
      "needs_background": "light"
     },
     "output_type": "display_data"
    }
   ],
   "source": [
    "# Feature Importance\n",
    "feature_importances_rf = pd.DataFrame(optimal_rf_clf.feature_importances_,\n",
    "                                   index = columns,\n",
    "                                    columns=['importance_rf']).sort_values('importance_rf',\n",
    "                                                                        ascending=False)[:10]\n",
    "                                    \n",
    "plt.subplots(figsize=(17,6))\n",
    "plt.title(\"Feature importances\")\n",
    "plt.bar(feature_importances_rf.index, feature_importances_rf['importance_rf'],\n",
    "        color=\"g\",  align=\"center\")\n",
    "plt.xticks(feature_importances_rf.index, rotation = 85)\n",
    "#plt.xlim([-1, X.shape[1]])\n",
    "plt.show()"
   ]
  },
  {
   "cell_type": "code",
   "execution_count": 144,
   "id": "f3085825",
   "metadata": {
    "execution": {
     "iopub.execute_input": "2022-10-07T16:37:21.196084Z",
     "iopub.status.busy": "2022-10-07T16:37:21.195292Z",
     "iopub.status.idle": "2022-10-07T16:37:22.556472Z",
     "shell.execute_reply": "2022-10-07T16:37:22.555062Z",
     "shell.execute_reply.started": "2022-10-07T16:37:21.196045Z"
    },
    "id": "N6_Q0rmrkOSU"
   },
   "outputs": [],
   "source": [
    "# Get the predicted classes\n",
    "train_class_preds = optimal_rf_clf.predict(X_train)\n",
    "test_class_preds = optimal_rf_clf.predict(X_test)"
   ]
  },
  {
   "cell_type": "code",
   "execution_count": 145,
   "id": "7e4e3ec2",
   "metadata": {
    "execution": {
     "iopub.execute_input": "2022-10-07T16:37:27.432669Z",
     "iopub.status.busy": "2022-10-07T16:37:27.432224Z",
     "iopub.status.idle": "2022-10-07T16:37:27.888465Z",
     "shell.execute_reply": "2022-10-07T16:37:27.887113Z",
     "shell.execute_reply.started": "2022-10-07T16:37:27.432631Z"
    },
    "id": "AmfbtnBB8QvK"
   },
   "outputs": [],
   "source": [
    "y_preds_proba_rf = optimal_rf_clf.predict_proba(X_test)[::,1]"
   ]
  },
  {
   "cell_type": "code",
   "execution_count": 146,
   "id": "f87f7c7f",
   "metadata": {
    "execution": {
     "iopub.execute_input": "2022-10-07T16:37:30.548616Z",
     "iopub.status.busy": "2022-10-07T16:37:30.548046Z",
     "iopub.status.idle": "2022-10-07T16:37:30.556368Z",
     "shell.execute_reply": "2022-10-07T16:37:30.553833Z",
     "shell.execute_reply.started": "2022-10-07T16:37:30.548566Z"
    },
    "id": "Oe9q5rKYxgpA"
   },
   "outputs": [],
   "source": [
    "import sklearn.metrics as metrics"
   ]
  },
  {
   "cell_type": "code",
   "execution_count": 147,
   "id": "75b8043f",
   "metadata": {
    "colab": {
     "base_uri": "https://localhost:8080/",
     "height": 265
    },
    "execution": {
     "iopub.execute_input": "2022-10-07T16:37:31.391861Z",
     "iopub.status.busy": "2022-10-07T16:37:31.391385Z",
     "iopub.status.idle": "2022-10-07T16:37:31.622127Z",
     "shell.execute_reply": "2022-10-07T16:37:31.620904Z",
     "shell.execute_reply.started": "2022-10-07T16:37:31.391827Z"
    },
    "id": "4QsjGwei4AUS",
    "outputId": "35499d74-ba10-41dd-e4c3-db7f332df760"
   },
   "outputs": [
    {
     "data": {
      "image/png": "[encoded data removed]",
      "text/plain": [
       "<Figure size 432x288 with 1 Axes>"
      ]
     },
     "metadata": {
      "needs_background": "light"
     },
     "output_type": "display_data"
    }
   ],
   "source": [
    "y_pred_proba = y_preds_proba_rf\n",
    "fpr, tpr, _ = metrics.roc_curve(y_test,  y_pred_proba)\n",
    "auc = metrics.roc_auc_score(y_test, y_pred_proba)\n",
    "plt.plot(fpr,tpr,label=\"data 1, auc=\"+str(auc))\n",
    "plt.legend(loc=4)\n",
    "plt.show()"
   ]
  },
  {
   "cell_type": "markdown",
   "id": "3c26904a",
   "metadata": {
    "id": "vEyyfUR-ph8F"
   },
   "source": [
    "## XGBoost "
   ]
  },
  {
   "cell_type": "code",
   "execution_count": 148,
   "id": "980e2cef",
   "metadata": {
    "execution": {
     "iopub.execute_input": "2022-10-07T16:37:34.627738Z",
     "iopub.status.busy": "2022-10-07T16:37:34.627305Z",
     "iopub.status.idle": "2022-10-07T16:37:35.710144Z",
     "shell.execute_reply": "2022-10-07T16:37:35.709139Z",
     "shell.execute_reply.started": "2022-10-07T16:37:34.627705Z"
    },
    "id": "WOu18Tb2NI3J"
   },
   "outputs": [],
   "source": [
    "import xgboost as xgb"
   ]
  },
  {
   "cell_type": "code",
   "execution_count": 149,
   "id": "55c49165",
   "metadata": {
    "execution": {
     "iopub.execute_input": "2022-10-07T16:37:35.713256Z",
     "iopub.status.busy": "2022-10-07T16:37:35.712662Z",
     "iopub.status.idle": "2022-10-07T16:37:35.875581Z",
     "shell.execute_reply": "2022-10-07T16:37:35.874339Z",
     "shell.execute_reply.started": "2022-10-07T16:37:35.713207Z"
    },
    "id": "4OSj-j-mxVUs"
   },
   "outputs": [],
   "source": [
    "#The data is stored in a DMatrix  \n",
    "#label is used to define our outcome variable\n",
    "dtrain=xgb.DMatrix(X_train,label=y_train)\n",
    "dtest=xgb.DMatrix(X_test)"
   ]
  },
  {
   "cell_type": "code",
   "execution_count": 150,
   "id": "bab3d82b",
   "metadata": {
    "execution": {
     "iopub.execute_input": "2022-10-07T16:37:35.877803Z",
     "iopub.status.busy": "2022-10-07T16:37:35.877406Z",
     "iopub.status.idle": "2022-10-07T16:37:35.884334Z",
     "shell.execute_reply": "2022-10-07T16:37:35.882808Z",
     "shell.execute_reply.started": "2022-10-07T16:37:35.877770Z"
    },
    "id": "6m4qkLtOwAAn"
   },
   "outputs": [],
   "source": [
    "#setting parameters for xgboost\n",
    "parameters={'max_depth':7, 'eta':1, 'silent':1,'objective':'binary:logistic','eval_metric':'auc','learning_rate':.05}"
   ]
  },
  {
   "cell_type": "code",
   "execution_count": 151,
   "id": "b3d2cbe4",
   "metadata": {
    "execution": {
     "iopub.execute_input": "2022-10-07T16:37:36.404611Z",
     "iopub.status.busy": "2022-10-07T16:37:36.404162Z",
     "iopub.status.idle": "2022-10-07T16:37:38.735642Z",
     "shell.execute_reply": "2022-10-07T16:37:38.734430Z",
     "shell.execute_reply.started": "2022-10-07T16:37:36.404573Z"
    },
    "id": "zs5Iij-Wxm4X"
   },
   "outputs": [
    {
     "name": "stdout",
     "output_type": "stream",
     "text": [
      "[01:37:20] WARNING: C:\\buildkite-agent\\builds\\buildkite-windows-cpu-autoscaling-group-i-07593ffd91cd9da33-1\\xgboost\\xgboost-ci-windows\\src\\learner.cc:767: \n",
      "Parameters: { \"silent\" } are not used.\n",
      "\n"
     ]
    }
   ],
   "source": [
    "#training our model \n",
    "num_round=50\n",
    "from datetime import datetime \n",
    "start = datetime.now() \n",
    "xg=xgb.train(parameters,dtrain,num_round) \n",
    "stop = datetime.now()"
   ]
  },
  {
   "cell_type": "code",
   "execution_count": 152,
   "id": "993999ce",
   "metadata": {
    "colab": {
     "base_uri": "https://localhost:8080/"
    },
    "execution": {
     "iopub.execute_input": "2022-10-07T16:37:38.738805Z",
     "iopub.status.busy": "2022-10-07T16:37:38.738311Z",
     "iopub.status.idle": "2022-10-07T16:37:38.747952Z",
     "shell.execute_reply": "2022-10-07T16:37:38.746122Z",
     "shell.execute_reply.started": "2022-10-07T16:37:38.738762Z"
    },
    "id": "ABb2Psv9xuyY",
    "outputId": "0216d079-0ec0-4544-f0d4-87ed193596b3"
   },
   "outputs": [
    {
     "data": {
      "text/plain": [
       "datetime.timedelta(seconds=1, microseconds=357814)"
      ]
     },
     "execution_count": 152,
     "metadata": {},
     "output_type": "execute_result"
    }
   ],
   "source": [
    "#Execution time of the model \n",
    "execution_time_xgb = stop-start \n",
    "execution_time_xgb"
   ]
  },
  {
   "cell_type": "code",
   "execution_count": 153,
   "id": "2e7fe718",
   "metadata": {
    "execution": {
     "iopub.execute_input": "2022-10-07T16:37:38.751386Z",
     "iopub.status.busy": "2022-10-07T16:37:38.750379Z",
     "iopub.status.idle": "2022-10-07T16:37:38.791421Z",
     "shell.execute_reply": "2022-10-07T16:37:38.790238Z",
     "shell.execute_reply.started": "2022-10-07T16:37:38.751306Z"
    },
    "id": "URVOHT4ayGy3"
   },
   "outputs": [],
   "source": [
    "#now predicting our model on train set \n",
    "train_class_preds_probs=xg.predict(dtrain) \n",
    "#now predicting our model on test set \n",
    "test_class_preds_probs =xg.predict(dtest) "
   ]
  },
  {
   "cell_type": "code",
   "execution_count": 154,
   "id": "e44d65f5",
   "metadata": {
    "colab": {
     "base_uri": "https://localhost:8080/"
    },
    "execution": {
     "iopub.execute_input": "2022-10-07T16:37:40.066382Z",
     "iopub.status.busy": "2022-10-07T16:37:40.065623Z",
     "iopub.status.idle": "2022-10-07T16:37:40.071877Z",
     "shell.execute_reply": "2022-10-07T16:37:40.070987Z",
     "shell.execute_reply.started": "2022-10-07T16:37:40.066345Z"
    },
    "id": "EtGTjjb6zeiF",
    "outputId": "9c393055-3c71-43b5-8761-93255fb6ba5a"
   },
   "outputs": [
    {
     "data": {
      "text/plain": [
       "20100"
      ]
     },
     "execution_count": 154,
     "metadata": {},
     "output_type": "execute_result"
    }
   ],
   "source": [
    "len(train_class_preds_probs)"
   ]
  },
  {
   "cell_type": "code",
   "execution_count": 155,
   "id": "91e40204",
   "metadata": {
    "execution": {
     "iopub.execute_input": "2022-10-07T16:37:43.912528Z",
     "iopub.status.busy": "2022-10-07T16:37:43.911700Z",
     "iopub.status.idle": "2022-10-07T16:37:44.009007Z",
     "shell.execute_reply": "2022-10-07T16:37:44.007618Z",
     "shell.execute_reply.started": "2022-10-07T16:37:43.912480Z"
    },
    "id": "u_ojI2CGx6ch"
   },
   "outputs": [],
   "source": [
    "train_class_preds = []\n",
    "test_class_preds = []\n",
    "for i in range(0,len(train_class_preds_probs)):\n",
    "  if train_class_preds_probs[i] >= 0.5:\n",
    "    train_class_preds.append(1)\n",
    "  else:\n",
    "    train_class_preds.append(0)\n",
    "\n",
    "for i in range(0,len(test_class_preds_probs)):\n",
    "  if test_class_preds_probs[i] >= 0.5:\n",
    "    test_class_preds.append(1)\n",
    "  else:\n",
    "    test_class_preds.append(0)"
   ]
  },
  {
   "cell_type": "code",
   "execution_count": 156,
   "id": "7582da0e",
   "metadata": {
    "colab": {
     "base_uri": "https://localhost:8080/"
    },
    "execution": {
     "iopub.execute_input": "2022-10-07T16:37:44.750683Z",
     "iopub.status.busy": "2022-10-07T16:37:44.750237Z",
     "iopub.status.idle": "2022-10-07T16:37:44.759728Z",
     "shell.execute_reply": "2022-10-07T16:37:44.758300Z",
     "shell.execute_reply.started": "2022-10-07T16:37:44.750649Z"
    },
    "id": "_qObKt0x0EjQ",
    "outputId": "0edee366-6552-467d-c87a-e4ed195b80ed"
   },
   "outputs": [
    {
     "data": {
      "text/plain": [
       "array([0.80566674, 0.13779035, 0.18050183, 0.16878456, 0.19320296,\n",
       "       0.7377946 , 0.16788924, 0.40634117, 0.17819077, 0.8120149 ,\n",
       "       0.1965852 , 0.25624412, 0.19838573, 0.2345773 , 0.21376377,\n",
       "       0.23732942, 0.08564341, 0.1032953 , 0.17171647, 0.1168685 ],\n",
       "      dtype=float32)"
      ]
     },
     "execution_count": 156,
     "metadata": {},
     "output_type": "execute_result"
    }
   ],
   "source": [
    "test_class_preds_probs[:20]"
   ]
  },
  {
   "cell_type": "code",
   "execution_count": 157,
   "id": "736f75a0",
   "metadata": {
    "colab": {
     "base_uri": "https://localhost:8080/"
    },
    "execution": {
     "iopub.execute_input": "2022-10-07T16:37:45.247815Z",
     "iopub.status.busy": "2022-10-07T16:37:45.246336Z",
     "iopub.status.idle": "2022-10-07T16:37:45.259075Z",
     "shell.execute_reply": "2022-10-07T16:37:45.257429Z",
     "shell.execute_reply.started": "2022-10-07T16:37:45.247756Z"
    },
    "id": "N4HBUJCC0TNU",
    "outputId": "a8fc101d-3889-459e-d8c4-8f96a8c53551"
   },
   "outputs": [
    {
     "data": {
      "text/plain": [
       "[1, 0, 0, 0, 0, 1, 0, 0, 0, 1, 0, 0, 0, 0, 0, 0, 0, 0, 0, 0]"
      ]
     },
     "execution_count": 157,
     "metadata": {},
     "output_type": "execute_result"
    }
   ],
   "source": [
    "test_class_preds[:20]"
   ]
  },
  {
   "cell_type": "code",
   "execution_count": 158,
   "id": "0bb8e262",
   "metadata": {
    "colab": {
     "base_uri": "https://localhost:8080/"
    },
    "execution": {
     "iopub.execute_input": "2022-10-07T16:37:45.990208Z",
     "iopub.status.busy": "2022-10-07T16:37:45.989740Z",
     "iopub.status.idle": "2022-10-07T16:37:45.997949Z",
     "shell.execute_reply": "2022-10-07T16:37:45.996578Z",
     "shell.execute_reply.started": "2022-10-07T16:37:45.990175Z"
    },
    "id": "Pjf_SQLr1BqS",
    "outputId": "c0a99b4d-5f67-45fe-d09f-56be05c069a5"
   },
   "outputs": [
    {
     "data": {
      "text/plain": [
       "20100"
      ]
     },
     "execution_count": 158,
     "metadata": {},
     "output_type": "execute_result"
    }
   ],
   "source": [
    "len(y_train)"
   ]
  },
  {
   "cell_type": "code",
   "execution_count": 159,
   "id": "fb097f33",
   "metadata": {
    "colab": {
     "base_uri": "https://localhost:8080/"
    },
    "execution": {
     "iopub.execute_input": "2022-10-07T16:37:47.481131Z",
     "iopub.status.busy": "2022-10-07T16:37:47.480297Z",
     "iopub.status.idle": "2022-10-07T16:37:47.489869Z",
     "shell.execute_reply": "2022-10-07T16:37:47.488071Z",
     "shell.execute_reply.started": "2022-10-07T16:37:47.481087Z"
    },
    "id": "HXpMZTDG1EMV",
    "outputId": "169875e7-537a-4dba-f38f-e7496a85fb81"
   },
   "outputs": [
    {
     "data": {
      "text/plain": [
       "20100"
      ]
     },
     "execution_count": 159,
     "metadata": {},
     "output_type": "execute_result"
    }
   ],
   "source": [
    "len(train_class_preds)"
   ]
  },
  {
   "cell_type": "code",
   "execution_count": 160,
   "id": "556649ab",
   "metadata": {
    "colab": {
     "base_uri": "https://localhost:8080/"
    },
    "execution": {
     "iopub.execute_input": "2022-10-07T16:37:48.190560Z",
     "iopub.status.busy": "2022-10-07T16:37:48.190045Z",
     "iopub.status.idle": "2022-10-07T16:37:48.220338Z",
     "shell.execute_reply": "2022-10-07T16:37:48.218666Z",
     "shell.execute_reply.started": "2022-10-07T16:37:48.190509Z"
    },
    "id": "FPBEbCK60VtE",
    "outputId": "01b70f8a-60ab-4cc2-c470-83bad1d3955a"
   },
   "outputs": [
    {
     "name": "stdout",
     "output_type": "stream",
     "text": [
      "The accuracy on train data is  0.8465174129353233\n",
      "The accuracy on test data is  0.8171717171717172\n"
     ]
    }
   ],
   "source": [
    "# Get the accuracy scores\n",
    "train_accuracy_xgb = accuracy_score(train_class_preds,y_train)\n",
    "test_accuracy_xgb = accuracy_score(test_class_preds,y_test)\n",
    "\n",
    "print(\"The accuracy on train data is \", train_accuracy_xgb)\n",
    "print(\"The accuracy on test data is \", test_accuracy_xgb)"
   ]
  },
  {
   "cell_type": "code",
   "execution_count": 161,
   "id": "f74979bd",
   "metadata": {
    "colab": {
     "base_uri": "https://localhost:8080/"
    },
    "execution": {
     "iopub.execute_input": "2022-10-07T16:37:48.953331Z",
     "iopub.status.busy": "2022-10-07T16:37:48.952672Z",
     "iopub.status.idle": "2022-10-07T16:37:49.025079Z",
     "shell.execute_reply": "2022-10-07T16:37:49.023783Z",
     "shell.execute_reply.started": "2022-10-07T16:37:48.953296Z"
    },
    "id": "_1NRrT3A06_q",
    "outputId": "ad083ecf-d6f9-4c5e-f45d-ce9e956fbabf"
   },
   "outputs": [
    {
     "name": "stdout",
     "output_type": "stream",
     "text": [
      "The accuracy on test data is  0.8171717171717172\n",
      "The precision on test data is  0.3502283105022831\n",
      "The recall on test data is  0.6646447140381283\n",
      "The f1 on test data is  0.458732057416268\n",
      "The roc_score on train data is  0.7509708820590824\n"
     ]
    }
   ],
   "source": [
    "test_accuracy_xgb = accuracy_score(test_class_preds,y_test)\n",
    "test_precision_xgb = precision_score(test_class_preds,y_test)\n",
    "test_recall_score_xgb = recall_score(test_class_preds,y_test)\n",
    "test_f1_score_xgb = f1_score(test_class_preds,y_test)\n",
    "test_roc_score_xgb = roc_auc_score(test_class_preds,y_test)\n",
    "\n",
    "print(\"The accuracy on test data is \", test_accuracy_xgb)\n",
    "print(\"The precision on test data is \", test_precision_xgb)\n",
    "print(\"The recall on test data is \", test_recall_score_xgb)\n",
    "print(\"The f1 on test data is \", test_f1_score_xgb)\n",
    "print(\"The roc_score on train data is \", test_roc_score_xgb)"
   ]
  },
  {
   "cell_type": "markdown",
   "id": "46d94320",
   "metadata": {
    "id": "w5Ai3NC7F1Mr"
   },
   "source": [
    "# Hyperparameter Tuning"
   ]
  },
  {
   "cell_type": "code",
   "execution_count": 162,
   "id": "9982b36c",
   "metadata": {
    "execution": {
     "iopub.execute_input": "2022-10-07T16:37:52.451780Z",
     "iopub.status.busy": "2022-10-07T16:37:52.451288Z",
     "iopub.status.idle": "2022-10-07T16:37:52.458612Z",
     "shell.execute_reply": "2022-10-07T16:37:52.457183Z",
     "shell.execute_reply.started": "2022-10-07T16:37:52.451743Z"
    },
    "id": "se4lSaeIH97D"
   },
   "outputs": [],
   "source": [
    "from xgboost import  XGBClassifier"
   ]
  },
  {
   "cell_type": "code",
   "execution_count": 164,
   "id": "3170f78e",
   "metadata": {
    "execution": {
     "iopub.execute_input": "2022-10-07T16:37:52.950676Z",
     "iopub.status.busy": "2022-10-07T16:37:52.950172Z",
     "iopub.status.idle": "2022-10-07T16:37:52.969236Z",
     "shell.execute_reply": "2022-10-07T16:37:52.967912Z",
     "shell.execute_reply.started": "2022-10-07T16:37:52.950639Z"
    },
    "id": "cYbWsbvDlrT1"
   },
   "outputs": [],
   "source": [
    "X = cc_update.drop(['willdefault','Payement_Value','Dues'],axis=1)\n",
    "y = cc_update['willdefault']"
   ]
  },
  {
   "cell_type": "code",
   "execution_count": 165,
   "id": "3f2643c8",
   "metadata": {
    "execution": {
     "iopub.execute_input": "2022-10-07T16:37:55.844632Z",
     "iopub.status.busy": "2022-10-07T16:37:55.843249Z",
     "iopub.status.idle": "2022-10-07T16:37:55.904481Z",
     "shell.execute_reply": "2022-10-07T16:37:55.903576Z",
     "shell.execute_reply.started": "2022-10-07T16:37:55.844574Z"
    },
    "id": "4rEfV-m9l3G-"
   },
   "outputs": [],
   "source": [
    "X_train, X_test, y_train, y_test = train_test_split(X, y, test_size=0.3, random_state=1, stratify = y)"
   ]
  },
  {
   "cell_type": "code",
   "execution_count": 166,
   "id": "5325b450",
   "metadata": {
    "colab": {
     "base_uri": "https://localhost:8080/"
    },
    "execution": {
     "iopub.execute_input": "2022-10-07T16:37:55.908095Z",
     "iopub.status.busy": "2022-10-07T16:37:55.907172Z",
     "iopub.status.idle": "2022-10-07T16:45:13.156084Z",
     "shell.execute_reply": "2022-10-07T16:45:13.154918Z",
     "shell.execute_reply.started": "2022-10-07T16:37:55.908044Z"
    },
    "id": "EwaYxfvE1jqt",
    "outputId": "0f846e29-6ec9-4b4e-d8b2-f9b5e008a42a"
   },
   "outputs": [
    {
     "name": "stdout",
     "output_type": "stream",
     "text": [
      "Fitting 3 folds for each of 12 candidates, totalling 36 fits\n"
     ]
    },
    {
     "data": {
      "text/html": [
       "<style>#sk-container-id-14 {color: black;background-color: white;}#sk-container-id-14 pre{padding: 0;}#sk-container-id-14 div.sk-toggleable {background-color: white;}#sk-container-id-14 label.sk-toggleable__label {cursor: pointer;display: block;width: 100%;margin-bottom: 0;padding: 0.3em;box-sizing: border-box;text-align: center;}#sk-container-id-14 label.sk-toggleable__label-arrow:before {content: \"▸\";float: left;margin-right: 0.25em;color: #696969;}#sk-container-id-14 label.sk-toggleable__label-arrow:hover:before {color: black;}#sk-container-id-14 div.sk-estimator:hover label.sk-toggleable__label-arrow:before {color: black;}#sk-container-id-14 div.sk-toggleable__content {max-height: 0;max-width: 0;overflow: hidden;text-align: left;background-color: #f0f8ff;}#sk-container-id-14 div.sk-toggleable__content pre {margin: 0.2em;color: black;border-radius: 0.25em;background-color: #f0f8ff;}#sk-container-id-14 input.sk-toggleable__control:checked~div.sk-toggleable__content {max-height: 200px;max-width: 100%;overflow: auto;}#sk-container-id-14 input.sk-toggleable__control:checked~label.sk-toggleable__label-arrow:before {content: \"▾\";}#sk-container-id-14 div.sk-estimator input.sk-toggleable__control:checked~label.sk-toggleable__label {background-color: #d4ebff;}#sk-container-id-14 div.sk-label input.sk-toggleable__control:checked~label.sk-toggleable__label {background-color: #d4ebff;}#sk-container-id-14 input.sk-hidden--visually {border: 0;clip: rect(1px 1px 1px 1px);clip: rect(1px, 1px, 1px, 1px);height: 1px;margin: -1px;overflow: hidden;padding: 0;position: absolute;width: 1px;}#sk-container-id-14 div.sk-estimator {font-family: monospace;background-color: #f0f8ff;border: 1px dotted black;border-radius: 0.25em;box-sizing: border-box;margin-bottom: 0.5em;}#sk-container-id-14 div.sk-estimator:hover {background-color: #d4ebff;}#sk-container-id-14 div.sk-parallel-item::after {content: \"\";width: 100%;border-bottom: 1px solid gray;flex-grow: 1;}#sk-container-id-14 div.sk-label:hover label.sk-toggleable__label {background-color: #d4ebff;}#sk-container-id-14 div.sk-serial::before {content: \"\";position: absolute;border-left: 1px solid gray;box-sizing: border-box;top: 0;bottom: 0;left: 50%;z-index: 0;}#sk-container-id-14 div.sk-serial {display: flex;flex-direction: column;align-items: center;background-color: white;padding-right: 0.2em;padding-left: 0.2em;position: relative;}#sk-container-id-14 div.sk-item {position: relative;z-index: 1;}#sk-container-id-14 div.sk-parallel {display: flex;align-items: stretch;justify-content: center;background-color: white;position: relative;}#sk-container-id-14 div.sk-item::before, #sk-container-id-14 div.sk-parallel-item::before {content: \"\";position: absolute;border-left: 1px solid gray;box-sizing: border-box;top: 0;bottom: 0;left: 50%;z-index: -1;}#sk-container-id-14 div.sk-parallel-item {display: flex;flex-direction: column;z-index: 1;position: relative;background-color: white;}#sk-container-id-14 div.sk-parallel-item:first-child::after {align-self: flex-end;width: 50%;}#sk-container-id-14 div.sk-parallel-item:last-child::after {align-self: flex-start;width: 50%;}#sk-container-id-14 div.sk-parallel-item:only-child::after {width: 0;}#sk-container-id-14 div.sk-dashed-wrapped {border: 1px dashed gray;margin: 0 0.4em 0.5em 0.4em;box-sizing: border-box;padding-bottom: 0.4em;background-color: white;}#sk-container-id-14 div.sk-label label {font-family: monospace;font-weight: bold;display: inline-block;line-height: 1.2em;}#sk-container-id-14 div.sk-label-container {text-align: center;}#sk-container-id-14 div.sk-container {/* jupyter's `normalize.less` sets `[hidden] { display: none; }` but bootstrap.min.css set `[hidden] { display: none !important; }` so we also need the `!important` here to be able to override the default hidden behavior on the sphinx rendered scikit-learn.org. See: https://github.com/scikit-learn/scikit-learn/issues/21755 */display: inline-block !important;position: relative;}#sk-container-id-14 div.sk-text-repr-fallback {display: none;}</style><div id=\"sk-container-id-14\" class=\"sk-top-container\"><div class=\"sk-text-repr-fallback\"><pre>GridSearchCV(cv=3,\n",
       "             estimator=XGBClassifier(base_score=None, booster=None,\n",
       "                                     callbacks=None, colsample_bylevel=None,\n",
       "                                     colsample_bynode=None,\n",
       "                                     colsample_bytree=0.8,\n",
       "                                     early_stopping_rounds=None,\n",
       "                                     enable_categorical=False, eval_metric=None,\n",
       "                                     feature_types=None, gamma=0, gpu_id=None,\n",
       "                                     grow_policy=None, importance_type=None,\n",
       "                                     interaction_constraints=None,\n",
       "                                     learning_rate=0.1, max_bin=None,\n",
       "                                     max_cat_threshold=None,\n",
       "                                     max_cat_to_onehot=None,\n",
       "                                     max_delta_step=None, max_depth=5,\n",
       "                                     max_leaves=None, min_child_weight=1,\n",
       "                                     missing=nan, monotone_constraints=None,\n",
       "                                     n_estimators=140, n_jobs=None, nthread=4,\n",
       "                                     num_parallel_tree=None, predictor=None, ...),\n",
       "             n_jobs=-1,\n",
       "             param_grid={&#x27;max_depth&#x27;: range(3, 10, 2),\n",
       "                         &#x27;min_child_weight&#x27;: range(1, 6, 2)},\n",
       "             scoring=&#x27;accuracy&#x27;, verbose=2)</pre><b>In a Jupyter environment, please rerun this cell to show the HTML representation or trust the notebook. <br />On GitHub, the HTML representation is unable to render, please try loading this page with nbviewer.org.</b></div><div class=\"sk-container\" hidden><div class=\"sk-item sk-dashed-wrapped\"><div class=\"sk-label-container\"><div class=\"sk-label sk-toggleable\"><input class=\"sk-toggleable__control sk-hidden--visually\" id=\"sk-estimator-id-28\" type=\"checkbox\" ><label for=\"sk-estimator-id-28\" class=\"sk-toggleable__label sk-toggleable__label-arrow\">GridSearchCV</label><div class=\"sk-toggleable__content\"><pre>GridSearchCV(cv=3,\n",
       "             estimator=XGBClassifier(base_score=None, booster=None,\n",
       "                                     callbacks=None, colsample_bylevel=None,\n",
       "                                     colsample_bynode=None,\n",
       "                                     colsample_bytree=0.8,\n",
       "                                     early_stopping_rounds=None,\n",
       "                                     enable_categorical=False, eval_metric=None,\n",
       "                                     feature_types=None, gamma=0, gpu_id=None,\n",
       "                                     grow_policy=None, importance_type=None,\n",
       "                                     interaction_constraints=None,\n",
       "                                     learning_rate=0.1, max_bin=None,\n",
       "                                     max_cat_threshold=None,\n",
       "                                     max_cat_to_onehot=None,\n",
       "                                     max_delta_step=None, max_depth=5,\n",
       "                                     max_leaves=None, min_child_weight=1,\n",
       "                                     missing=nan, monotone_constraints=None,\n",
       "                                     n_estimators=140, n_jobs=None, nthread=4,\n",
       "                                     num_parallel_tree=None, predictor=None, ...),\n",
       "             n_jobs=-1,\n",
       "             param_grid={&#x27;max_depth&#x27;: range(3, 10, 2),\n",
       "                         &#x27;min_child_weight&#x27;: range(1, 6, 2)},\n",
       "             scoring=&#x27;accuracy&#x27;, verbose=2)</pre></div></div></div><div class=\"sk-parallel\"><div class=\"sk-parallel-item\"><div class=\"sk-item\"><div class=\"sk-label-container\"><div class=\"sk-label sk-toggleable\"><input class=\"sk-toggleable__control sk-hidden--visually\" id=\"sk-estimator-id-29\" type=\"checkbox\" ><label for=\"sk-estimator-id-29\" class=\"sk-toggleable__label sk-toggleable__label-arrow\">estimator: XGBClassifier</label><div class=\"sk-toggleable__content\"><pre>XGBClassifier(base_score=None, booster=None, callbacks=None,\n",
       "              colsample_bylevel=None, colsample_bynode=None,\n",
       "              colsample_bytree=0.8, early_stopping_rounds=None,\n",
       "              enable_categorical=False, eval_metric=None, feature_types=None,\n",
       "              gamma=0, gpu_id=None, grow_policy=None, importance_type=None,\n",
       "              interaction_constraints=None, learning_rate=0.1, max_bin=None,\n",
       "              max_cat_threshold=None, max_cat_to_onehot=None,\n",
       "              max_delta_step=None, max_depth=5, max_leaves=None,\n",
       "              min_child_weight=1, missing=nan, monotone_constraints=None,\n",
       "              n_estimators=140, n_jobs=None, nthread=4, num_parallel_tree=None,\n",
       "              predictor=None, ...)</pre></div></div></div><div class=\"sk-serial\"><div class=\"sk-item\"><div class=\"sk-estimator sk-toggleable\"><input class=\"sk-toggleable__control sk-hidden--visually\" id=\"sk-estimator-id-30\" type=\"checkbox\" ><label for=\"sk-estimator-id-30\" class=\"sk-toggleable__label sk-toggleable__label-arrow\">XGBClassifier</label><div class=\"sk-toggleable__content\"><pre>XGBClassifier(base_score=None, booster=None, callbacks=None,\n",
       "              colsample_bylevel=None, colsample_bynode=None,\n",
       "              colsample_bytree=0.8, early_stopping_rounds=None,\n",
       "              enable_categorical=False, eval_metric=None, feature_types=None,\n",
       "              gamma=0, gpu_id=None, grow_policy=None, importance_type=None,\n",
       "              interaction_constraints=None, learning_rate=0.1, max_bin=None,\n",
       "              max_cat_threshold=None, max_cat_to_onehot=None,\n",
       "              max_delta_step=None, max_depth=5, max_leaves=None,\n",
       "              min_child_weight=1, missing=nan, monotone_constraints=None,\n",
       "              n_estimators=140, n_jobs=None, nthread=4, num_parallel_tree=None,\n",
       "              predictor=None, ...)</pre></div></div></div></div></div></div></div></div></div></div>"
      ],
      "text/plain": [
       "GridSearchCV(cv=3,\n",
       "             estimator=XGBClassifier(base_score=None, booster=None,\n",
       "                                     callbacks=None, colsample_bylevel=None,\n",
       "                                     colsample_bynode=None,\n",
       "                                     colsample_bytree=0.8,\n",
       "                                     early_stopping_rounds=None,\n",
       "                                     enable_categorical=False, eval_metric=None,\n",
       "                                     feature_types=None, gamma=0, gpu_id=None,\n",
       "                                     grow_policy=None, importance_type=None,\n",
       "                                     interaction_constraints=None,\n",
       "                                     learning_rate=0.1, max_bin=None,\n",
       "                                     max_cat_threshold=None,\n",
       "                                     max_cat_to_onehot=None,\n",
       "                                     max_delta_step=None, max_depth=5,\n",
       "                                     max_leaves=None, min_child_weight=1,\n",
       "                                     missing=nan, monotone_constraints=None,\n",
       "                                     n_estimators=140, n_jobs=None, nthread=4,\n",
       "                                     num_parallel_tree=None, predictor=None, ...),\n",
       "             n_jobs=-1,\n",
       "             param_grid={'max_depth': range(3, 10, 2),\n",
       "                         'min_child_weight': range(1, 6, 2)},\n",
       "             scoring='accuracy', verbose=2)"
      ]
     },
     "execution_count": 166,
     "metadata": {},
     "output_type": "execute_result"
    }
   ],
   "source": [
    "param_test1 = {\n",
    " 'max_depth':range(3,10,2),\n",
    " 'min_child_weight':range(1,6,2)\n",
    "}\n",
    "gsearch1 = GridSearchCV(estimator = XGBClassifier( learning_rate =0.1, n_estimators=140, max_depth=5,\n",
    " min_child_weight=1, gamma=0, subsample=0.8, colsample_bytree=0.8,\n",
    " objective= 'binary:logistic', nthread=4, scale_pos_weight=1, seed=27), \n",
    " param_grid = param_test1, scoring='accuracy',n_jobs=-1, cv=3, verbose = 2)\n",
    "gsearch1.fit(X_train, y_train)"
   ]
  },
  {
   "cell_type": "code",
   "execution_count": 167,
   "id": "b29337ae",
   "metadata": {
    "colab": {
     "base_uri": "https://localhost:8080/"
    },
    "execution": {
     "iopub.execute_input": "2022-10-07T16:45:13.158240Z",
     "iopub.status.busy": "2022-10-07T16:45:13.157369Z",
     "iopub.status.idle": "2022-10-07T16:45:13.164269Z",
     "shell.execute_reply": "2022-10-07T16:45:13.163479Z",
     "shell.execute_reply.started": "2022-10-07T16:45:13.158204Z"
    },
    "id": "nGGpqCoRIOjj",
    "outputId": "8f472d55-5099-478a-b6c1-de5f6dabf15c"
   },
   "outputs": [
    {
     "data": {
      "text/plain": [
       "0.8206467661691542"
      ]
     },
     "execution_count": 167,
     "metadata": {},
     "output_type": "execute_result"
    }
   ],
   "source": [
    "gsearch1.best_score_"
   ]
  },
  {
   "cell_type": "code",
   "execution_count": 168,
   "id": "506959d3",
   "metadata": {
    "execution": {
     "iopub.execute_input": "2022-10-07T16:45:13.166119Z",
     "iopub.status.busy": "2022-10-07T16:45:13.165564Z",
     "iopub.status.idle": "2022-10-07T16:45:13.176610Z",
     "shell.execute_reply": "2022-10-07T16:45:13.175702Z",
     "shell.execute_reply.started": "2022-10-07T16:45:13.166070Z"
    },
    "id": "va0LO6_hMNVy"
   },
   "outputs": [],
   "source": [
    "optimal_xgb = gsearch1.best_estimator_"
   ]
  },
  {
   "cell_type": "code",
   "execution_count": 169,
   "id": "be144f47",
   "metadata": {
    "execution": {
     "iopub.execute_input": "2022-10-07T16:45:13.179401Z",
     "iopub.status.busy": "2022-10-07T16:45:13.178938Z",
     "iopub.status.idle": "2022-10-07T16:45:13.250828Z",
     "shell.execute_reply": "2022-10-07T16:45:13.249618Z",
     "shell.execute_reply.started": "2022-10-07T16:45:13.179366Z"
    },
    "id": "SVF2ByOaMq16"
   },
   "outputs": [],
   "source": [
    "# Get the predicted classes\n",
    "train_class_preds = optimal_xgb.predict(X_train)\n",
    "test_class_preds = optimal_xgb.predict(X_test)"
   ]
  },
  {
   "cell_type": "code",
   "execution_count": 170,
   "id": "a6469182",
   "metadata": {
    "colab": {
     "base_uri": "https://localhost:8080/"
    },
    "execution": {
     "iopub.execute_input": "2022-10-07T16:45:13.253119Z",
     "iopub.status.busy": "2022-10-07T16:45:13.252417Z",
     "iopub.status.idle": "2022-10-07T16:45:13.270910Z",
     "shell.execute_reply": "2022-10-07T16:45:13.269880Z",
     "shell.execute_reply.started": "2022-10-07T16:45:13.253074Z"
    },
    "id": "B47vgaMyMVay",
    "outputId": "39e96195-aedf-4f00-cf14-c5a6fd84fc4d"
   },
   "outputs": [
    {
     "name": "stdout",
     "output_type": "stream",
     "text": [
      "The accuracy on train data is  0.8276616915422885\n",
      "The accuracy on test data is  0.8178787878787879\n"
     ]
    }
   ],
   "source": [
    "# Get the accuracy scores\n",
    "train_accuracy_xgb_tuned = accuracy_score(train_class_preds,y_train)\n",
    "test_accuracy_xgb_tuned = accuracy_score(test_class_preds,y_test)\n",
    "\n",
    "print(\"The accuracy on train data is \", train_accuracy_xgb_tuned)\n",
    "print(\"The accuracy on test data is \", test_accuracy_xgb_tuned)"
   ]
  },
  {
   "cell_type": "code",
   "execution_count": 171,
   "id": "09c00ca4",
   "metadata": {
    "colab": {
     "base_uri": "https://localhost:8080/"
    },
    "execution": {
     "iopub.execute_input": "2022-10-07T16:48:47.624777Z",
     "iopub.status.busy": "2022-10-07T16:48:47.622748Z",
     "iopub.status.idle": "2022-10-07T16:48:47.668443Z",
     "shell.execute_reply": "2022-10-07T16:48:47.667068Z",
     "shell.execute_reply.started": "2022-10-07T16:48:47.624714Z"
    },
    "id": "lbh5mEpmM1ir",
    "outputId": "3362f68b-366b-4672-9bcd-92cde1b29618"
   },
   "outputs": [
    {
     "name": "stdout",
     "output_type": "stream",
     "text": [
      "The accuracy on test data is  0.8178787878787879\n",
      "The precision on test data is  0.3547945205479452\n",
      "The recall on test data is  0.6658097686375322\n",
      "The f1 on test data is  0.4629133154602323\n",
      "The roc_score on train data is  0.7520048499663099\n"
     ]
    }
   ],
   "source": [
    "test_accuracy_xgb_tuned = accuracy_score(test_class_preds,y_test)\n",
    "test_precision_xgb_tuned = precision_score(test_class_preds,y_test)\n",
    "test_recall_score_xgb_tuned = recall_score(test_class_preds,y_test)\n",
    "test_f1_score_xgb_tuned = f1_score(test_class_preds,y_test)\n",
    "test_roc_score_xgb_tuned = roc_auc_score(test_class_preds,y_test)\n",
    "\n",
    "print(\"The accuracy on test data is \", test_accuracy_xgb_tuned)\n",
    "print(\"The precision on test data is \", test_precision_xgb_tuned)\n",
    "print(\"The recall on test data is \", test_recall_score_xgb_tuned)\n",
    "print(\"The f1 on test data is \", test_f1_score_xgb_tuned)\n",
    "print(\"The roc_score on train data is \", test_roc_score_xgb_tuned)"
   ]
  },
  {
   "cell_type": "code",
   "execution_count": 172,
   "id": "704c7b02",
   "metadata": {
    "colab": {
     "base_uri": "https://localhost:8080/",
     "height": 363
    },
    "execution": {
     "iopub.execute_input": "2022-10-07T16:48:51.844809Z",
     "iopub.status.busy": "2022-10-07T16:48:51.844358Z",
     "iopub.status.idle": "2022-10-07T16:48:51.862511Z",
     "shell.execute_reply": "2022-10-07T16:48:51.861357Z",
     "shell.execute_reply.started": "2022-10-07T16:48:51.844773Z"
    },
    "id": "H7BpVsXENMZ1",
    "outputId": "3cd6f9f3-28c0-4dfd-dd09-a588fa70acc2"
   },
   "outputs": [
    {
     "data": {
      "text/html": [
       "<div>\n",
       "<style scoped>\n",
       "    .dataframe tbody tr th:only-of-type {\n",
       "        vertical-align: middle;\n",
       "    }\n",
       "\n",
       "    .dataframe tbody tr th {\n",
       "        vertical-align: top;\n",
       "    }\n",
       "\n",
       "    .dataframe thead th {\n",
       "        text-align: right;\n",
       "    }\n",
       "</style>\n",
       "<table border=\"1\" class=\"dataframe\">\n",
       "  <thead>\n",
       "    <tr style=\"text-align: right;\">\n",
       "      <th></th>\n",
       "      <th>importance_xgb</th>\n",
       "    </tr>\n",
       "  </thead>\n",
       "  <tbody>\n",
       "    <tr>\n",
       "      <th>sept_pay_2</th>\n",
       "      <td>0.248537</td>\n",
       "    </tr>\n",
       "    <tr>\n",
       "      <th>aug_pay_2</th>\n",
       "      <td>0.176382</td>\n",
       "    </tr>\n",
       "    <tr>\n",
       "      <th>jul_pay_2</th>\n",
       "      <td>0.060301</td>\n",
       "    </tr>\n",
       "    <tr>\n",
       "      <th>jun_pay_2</th>\n",
       "      <td>0.052636</td>\n",
       "    </tr>\n",
       "    <tr>\n",
       "      <th>aug_pay_3</th>\n",
       "      <td>0.050075</td>\n",
       "    </tr>\n",
       "    <tr>\n",
       "      <th>may_pay_2</th>\n",
       "      <td>0.042943</td>\n",
       "    </tr>\n",
       "    <tr>\n",
       "      <th>sept_pay_1</th>\n",
       "      <td>0.040292</td>\n",
       "    </tr>\n",
       "    <tr>\n",
       "      <th>sept_pay_0</th>\n",
       "      <td>0.029801</td>\n",
       "    </tr>\n",
       "    <tr>\n",
       "      <th>apr_pay_2</th>\n",
       "      <td>0.027268</td>\n",
       "    </tr>\n",
       "    <tr>\n",
       "      <th>jul_pay_-1</th>\n",
       "      <td>0.018259</td>\n",
       "    </tr>\n",
       "  </tbody>\n",
       "</table>\n",
       "</div>"
      ],
      "text/plain": [
       "            importance_xgb\n",
       "sept_pay_2        0.248537\n",
       "aug_pay_2         0.176382\n",
       "jul_pay_2         0.060301\n",
       "jun_pay_2         0.052636\n",
       "aug_pay_3         0.050075\n",
       "may_pay_2         0.042943\n",
       "sept_pay_1        0.040292\n",
       "sept_pay_0        0.029801\n",
       "apr_pay_2         0.027268\n",
       "jul_pay_-1        0.018259"
      ]
     },
     "execution_count": 172,
     "metadata": {},
     "output_type": "execute_result"
    }
   ],
   "source": [
    "pd.DataFrame(optimal_xgb.feature_importances_,\n",
    "                                   index = columns,\n",
    "                                    columns=['importance_xgb']).sort_values('importance_xgb',\n",
    "                                                                        ascending=False)[:10]"
   ]
  },
  {
   "cell_type": "code",
   "execution_count": 173,
   "id": "4120ea41",
   "metadata": {
    "colab": {
     "base_uri": "https://localhost:8080/",
     "height": 524
    },
    "execution": {
     "iopub.execute_input": "2022-10-07T16:48:54.605199Z",
     "iopub.status.busy": "2022-10-07T16:48:54.604427Z",
     "iopub.status.idle": "2022-10-07T16:48:54.887050Z",
     "shell.execute_reply": "2022-10-07T16:48:54.885811Z",
     "shell.execute_reply.started": "2022-10-07T16:48:54.605150Z"
    },
    "id": "YRohm15EM8tH",
    "outputId": "328818e3-d603-4acb-8486-1b638635ef90"
   },
   "outputs": [
    {
     "data": {
      "image/png": "[encoded data removed]",
      "text/plain": [
       "<Figure size 1224x432 with 1 Axes>"
      ]
     },
     "metadata": {
      "needs_background": "light"
     },
     "output_type": "display_data"
    }
   ],
   "source": [
    "# Feature Importance\n",
    "feature_importances_xgb = pd.DataFrame(optimal_xgb.feature_importances_,\n",
    "                                   index = columns,\n",
    "                                    columns=['importance_xgb']).sort_values('importance_xgb',\n",
    "                                                                        ascending=False)[:10]\n",
    "                                    \n",
    "plt.subplots(figsize=(17,6))\n",
    "plt.title(\"Feature importances\")\n",
    "plt.bar(feature_importances_xgb.index, feature_importances_xgb['importance_xgb'],\n",
    "        color=\"b\",  align=\"center\")\n",
    "plt.xticks(feature_importances_rf.index, rotation = 85)\n",
    "#plt.xlim([-1, X.shape[1]])\n",
    "plt.show()"
   ]
  },
  {
   "cell_type": "code",
   "execution_count": 174,
   "id": "34b67f5f",
   "metadata": {
    "execution": {
     "iopub.execute_input": "2022-10-07T16:48:54.995385Z",
     "iopub.status.busy": "2022-10-07T16:48:54.994711Z",
     "iopub.status.idle": "2022-10-07T16:48:55.022858Z",
     "shell.execute_reply": "2022-10-07T16:48:55.021530Z",
     "shell.execute_reply.started": "2022-10-07T16:48:54.995338Z"
    },
    "id": "RCLP9H2F8bVV"
   },
   "outputs": [],
   "source": [
    "y_preds_proba_xgb = optimal_xgb.predict_proba(X_test)[::,1]"
   ]
  },
  {
   "cell_type": "code",
   "execution_count": 175,
   "id": "9e2d355d",
   "metadata": {
    "colab": {
     "base_uri": "https://localhost:8080/",
     "height": 265
    },
    "execution": {
     "iopub.execute_input": "2022-10-07T16:48:55.894609Z",
     "iopub.status.busy": "2022-10-07T16:48:55.894203Z",
     "iopub.status.idle": "2022-10-07T16:48:56.107584Z",
     "shell.execute_reply": "2022-10-07T16:48:56.106469Z",
     "shell.execute_reply.started": "2022-10-07T16:48:55.894575Z"
    },
    "id": "Le1VCw5a4KW6",
    "outputId": "0ea4fba4-8793-419d-ec79-67781cc98c64"
   },
   "outputs": [
    {
     "data": {
      "image/png": "[encoded data removed]",
      "text/plain": [
       "<Figure size 432x288 with 1 Axes>"
      ]
     },
     "metadata": {
      "needs_background": "light"
     },
     "output_type": "display_data"
    }
   ],
   "source": [
    "y_pred_proba = y_preds_proba_xgb\n",
    "fpr, tpr, _ = metrics.roc_curve(y_test,  y_pred_proba)\n",
    "auc = metrics.roc_auc_score(y_test, y_pred_proba)\n",
    "plt.plot(fpr,tpr,label=\"data 1, auc=\"+str(auc))\n",
    "plt.legend(loc=4)\n",
    "plt.show()"
   ]
  },
  {
   "cell_type": "markdown",
   "id": "e1139bc9",
   "metadata": {
    "id": "_oy30kBq9ivp"
   },
   "source": [
    "# Evaluating the models"
   ]
  },
  {
   "cell_type": "code",
   "execution_count": 178,
   "id": "445b24be",
   "metadata": {
    "colab": {
     "base_uri": "https://localhost:8080/"
    },
    "execution": {
     "iopub.execute_input": "2022-10-07T16:48:58.556841Z",
     "iopub.status.busy": "2022-10-07T16:48:58.555779Z",
     "iopub.status.idle": "2022-10-07T16:48:58.563103Z",
     "shell.execute_reply": "2022-10-07T16:48:58.562304Z",
     "shell.execute_reply.started": "2022-10-07T16:48:58.556803Z"
    },
    "id": "bwLgs-exAUzd",
    "outputId": "c7fac5ee-47b6-47b1-b707-88c2be85f6e3"
   },
   "outputs": [
    {
     "data": {
      "text/plain": [
       "<function sklearn.metrics._classification.recall_score(y_true, y_pred, *, labels=None, pos_label=1, average='binary', sample_weight=None, zero_division='warn')>"
      ]
     },
     "execution_count": 178,
     "metadata": {},
     "output_type": "execute_result"
    }
   ],
   "source": [
    "recall_score"
   ]
  },
  {
   "cell_type": "code",
   "execution_count": 179,
   "id": "1b1af04d",
   "metadata": {
    "execution": {
     "iopub.execute_input": "2022-10-07T16:48:58.565116Z",
     "iopub.status.busy": "2022-10-07T16:48:58.564520Z",
     "iopub.status.idle": "2022-10-07T16:48:58.575434Z",
     "shell.execute_reply": "2022-10-07T16:48:58.574303Z",
     "shell.execute_reply.started": "2022-10-07T16:48:58.565081Z"
    },
    "id": "HuG_MnCJ9ymp"
   },
   "outputs": [],
   "source": [
    "classifiers = ['Logistic Regression', 'SVC', 'Random Forest CLf', 'Xgboost Clf']\n",
    "train_accuracy = [train_accuracy_lr, train_accuracy_SVC, train_accuracy_rf, train_accuracy_xgb_tuned]\n",
    "test_accuracy = [test_accuracy_lr, test_accuracy_SVC, test_accuracy_rf, test_accuracy_xgb_tuned]\n",
    "precision_score = [test_precision_score_lr, test_precision_score_SVC, test_precision_score_rf, test_precision_xgb_tuned]\n",
    "recall_score = [test_recall_score_lr, test_recall_score_SVC, test_recall_score_rf, test_recall_score_xgb_tuned]\n",
    "f1_score = [test_f1_score_lr, test_f1_score_SVC, test_f1_score_rf, test_f1_score_xgb_tuned]"
   ]
  },
  {
   "cell_type": "code",
   "execution_count": 180,
   "id": "19c7ea68",
   "metadata": {
    "colab": {
     "base_uri": "https://localhost:8080/",
     "height": 175
    },
    "execution": {
     "iopub.execute_input": "2022-10-07T16:48:58.578245Z",
     "iopub.status.busy": "2022-10-07T16:48:58.577876Z",
     "iopub.status.idle": "2022-10-07T16:48:58.597039Z",
     "shell.execute_reply": "2022-10-07T16:48:58.595699Z",
     "shell.execute_reply.started": "2022-10-07T16:48:58.578213Z"
    },
    "id": "2p9EvOFqoKpm",
    "outputId": "ccc6e04f-917f-44c1-d82c-0c754d5d220b"
   },
   "outputs": [
    {
     "data": {
      "text/html": [
       "<div>\n",
       "<style scoped>\n",
       "    .dataframe tbody tr th:only-of-type {\n",
       "        vertical-align: middle;\n",
       "    }\n",
       "\n",
       "    .dataframe tbody tr th {\n",
       "        vertical-align: top;\n",
       "    }\n",
       "\n",
       "    .dataframe thead th {\n",
       "        text-align: right;\n",
       "    }\n",
       "</style>\n",
       "<table border=\"1\" class=\"dataframe\">\n",
       "  <thead>\n",
       "    <tr style=\"text-align: right;\">\n",
       "      <th></th>\n",
       "      <th>Classifier</th>\n",
       "      <th>Train Accuracy</th>\n",
       "      <th>Test Accuracy</th>\n",
       "      <th>Precision Score</th>\n",
       "      <th>Recall Score</th>\n",
       "      <th>F1 Score</th>\n",
       "    </tr>\n",
       "  </thead>\n",
       "  <tbody>\n",
       "    <tr>\n",
       "      <th>0</th>\n",
       "      <td>Logistic Regression</td>\n",
       "      <td>0.823095</td>\n",
       "      <td>0.818889</td>\n",
       "      <td>0.354596</td>\n",
       "      <td>0.671741</td>\n",
       "      <td>0.464168</td>\n",
       "    </tr>\n",
       "    <tr>\n",
       "      <th>1</th>\n",
       "      <td>SVC</td>\n",
       "      <td>0.831194</td>\n",
       "      <td>0.818283</td>\n",
       "      <td>0.355251</td>\n",
       "      <td>0.667811</td>\n",
       "      <td>0.463785</td>\n",
       "    </tr>\n",
       "    <tr>\n",
       "      <th>2</th>\n",
       "      <td>Random Forest CLf</td>\n",
       "      <td>0.851443</td>\n",
       "      <td>0.816667</td>\n",
       "      <td>0.338813</td>\n",
       "      <td>0.669071</td>\n",
       "      <td>0.449833</td>\n",
       "    </tr>\n",
       "    <tr>\n",
       "      <th>3</th>\n",
       "      <td>Xgboost Clf</td>\n",
       "      <td>0.827662</td>\n",
       "      <td>0.817879</td>\n",
       "      <td>0.354795</td>\n",
       "      <td>0.665810</td>\n",
       "      <td>0.462913</td>\n",
       "    </tr>\n",
       "  </tbody>\n",
       "</table>\n",
       "</div>"
      ],
      "text/plain": [
       "            Classifier  Train Accuracy  Test Accuracy  Precision Score  \\\n",
       "0  Logistic Regression        0.823095       0.818889         0.354596   \n",
       "1                  SVC        0.831194       0.818283         0.355251   \n",
       "2    Random Forest CLf        0.851443       0.816667         0.338813   \n",
       "3          Xgboost Clf        0.827662       0.817879         0.354795   \n",
       "\n",
       "   Recall Score  F1 Score  \n",
       "0      0.671741  0.464168  \n",
       "1      0.667811  0.463785  \n",
       "2      0.669071  0.449833  \n",
       "3      0.665810  0.462913  "
      ]
     },
     "execution_count": 180,
     "metadata": {},
     "output_type": "execute_result"
    }
   ],
   "source": [
    "pd.DataFrame({'Classifier':classifiers, 'Train Accuracy': train_accuracy, 'Test Accuracy': test_accuracy, 'Precision Score': precision_score, 'Recall Score': recall_score, 'F1 Score': f1_score })"
   ]
  }
 ],
 "metadata": {
  "kernelspec": {
   "display_name": "Python 3",
   "language": "python",
   "name": "python3"
  },
  "language_info": {
   "codemirror_mode": {
    "name": "ipython",
    "version": 3
   },
   "file_extension": ".py",
   "mimetype": "text/x-python",
   "name": "python",
   "nbconvert_exporter": "python",
   "pygments_lexer": "ipython3",
   "version": "3.8.8"
  }
 },
 "nbformat": 4,
 "nbformat_minor": 5
}
